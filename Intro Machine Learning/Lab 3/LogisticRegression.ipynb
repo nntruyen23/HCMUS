{
  "cells": [
    {
      "cell_type": "markdown",
      "metadata": {
        "id": "94EzH00kgWBT"
      },
      "source": [
        "# Lab03: Logistic Regression.\n",
        "\n",
        "- Student ID: 21127191\n",
        "- Student name: Nguyễn Nhật Truyền"
      ]
    },
    {
      "cell_type": "markdown",
      "metadata": {
        "id": "3v29G2T9gWBU"
      },
      "source": [
        "**How to do your homework**\n",
        "\n",
        "\n",
        "You will work directly on this notebook; the word `TODO` indicate the parts you need to do.\n",
        "\n",
        "You can discuss ideas with classmates as well as finding information from the internet, book, etc...; but *this homework must be your*.\n",
        "\n",
        "**How to submit your homework**\n",
        "\n",
        "Before submitting, rerun the notebook (`Kernel` ->` Restart & Run All`).\n",
        "\n",
        "Then create a folder named `ID` (for example, if your ID is 1234567, then name the folder `1234567`). Copy file notebook to this folder, compress and submit it on moodle.\n",
        "\n",
        "**Contents:**\n",
        "- Logistic Regression."
      ]
    },
    {
      "cell_type": "markdown",
      "metadata": {
        "id": "sylotXP2gWBU"
      },
      "source": [
        "## 1. Feature Extraction"
      ]
    },
    {
      "cell_type": "markdown",
      "metadata": {
        "id": "3Q459r0GgWBV"
      },
      "source": [
        "### Import Library"
      ]
    },
    {
      "cell_type": "code",
      "execution_count": 85,
      "metadata": {
        "id": "9-0BOogKgWBV"
      },
      "outputs": [],
      "source": [
        "%matplotlib inline\n",
        "import numpy as np\n",
        "import matplotlib.pyplot as plt\n",
        "from sklearn.model_selection import train_test_split\n",
        "from sklearn.metrics import classification_report"
      ]
    },
    {
      "cell_type": "markdown",
      "metadata": {
        "id": "WdKssOPMgWBV"
      },
      "source": [
        "### Load data"
      ]
    },
    {
      "cell_type": "code",
      "execution_count": 86,
      "metadata": {
        "colab": {
          "base_uri": "https://localhost:8080/"
        },
        "id": "btsXymzIgWBV",
        "outputId": "a0cd97a7-9e9d-4eeb-87b6-e6180050e043"
      },
      "outputs": [
        {
          "output_type": "stream",
          "name": "stderr",
          "text": [
            "/usr/local/lib/python3.10/dist-packages/sklearn/datasets/_openml.py:968: FutureWarning: The default value of `parser` will change from `'liac-arff'` to `'auto'` in 1.4. You can set `parser='auto'` to silence this warning. Therefore, an `ImportError` will be raised from 1.4 if the dataset is dense and pandas is not installed. Note that the pandas parser may return different data types. See the Notes Section in fetch_openml's API doc for details.\n",
            "  warn(\n"
          ]
        }
      ],
      "source": [
        "from sklearn.datasets import fetch_openml\n",
        "X, y = fetch_openml('mnist_784', return_X_y=True)"
      ]
    },
    {
      "cell_type": "code",
      "execution_count": 87,
      "metadata": {
        "colab": {
          "base_uri": "https://localhost:8080/"
        },
        "id": "IEI_2WvlgWBV",
        "outputId": "1bebf090-880f-463e-a5ea-64939bedce59"
      },
      "outputs": [
        {
          "output_type": "stream",
          "name": "stdout",
          "text": [
            "(70000, 784)\n",
            "(70000,)\n"
          ]
        }
      ],
      "source": [
        "print(X.shape)\n",
        "print(y.shape)"
      ]
    },
    {
      "cell_type": "markdown",
      "metadata": {
        "id": "tcOz_aO3gWBW"
      },
      "source": [
        "### Extract Features"
      ]
    },
    {
      "cell_type": "markdown",
      "metadata": {
        "id": "QcpiZX9ggWBW"
      },
      "source": [
        "So we basically have 70000 samples with each sample having 784 features - pixels in this case and a label - the digit the image represent.\n",
        "\n",
        "Let’s play around and see if we can extract any features from the pixels that can be more informative. First I’d like to know more about average intensity - that is the average value of a pixel in an image for the different digits"
      ]
    },
    {
      "cell_type": "code",
      "execution_count": 88,
      "metadata": {
        "colab": {
          "base_uri": "https://localhost:8080/"
        },
        "id": "uzY_VY16gWBW",
        "outputId": "1bb4f015-9dde-4c55-f5cd-2b0bcb3fe724"
      },
      "outputs": [
        {
          "output_type": "stream",
          "name": "stdout",
          "text": [
            "['0' '1' '2' '3' '4' '5' '6' '7' '8' '9']\n",
            "[44.17740512 19.40680177 38.03420776 36.15420938 30.99599983 32.95015873\n",
            " 35.23486491 29.21798737 38.39790125 31.35940809]\n"
          ]
        }
      ],
      "source": [
        "labels=np.unique(y)\n",
        "print(labels)\n",
        "n_label=np.unique(y).shape[0]\n",
        "l_means=np.zeros(shape=n_label,dtype=float) #array stores average intensity for each label\n",
        "\n",
        "#TODO compute average intensity for each label\n",
        "\n",
        "# Compute average intensity for each label\n",
        "for label in labels:\n",
        "    label_indices = (y == label)\n",
        "    mean_intensity = np.mean(X[label_indices], axis=0)\n",
        "    l_means[int(label)] = mean_intensity.mean()\n",
        "\n",
        "# Print the computed average intensities\n",
        "print(l_means)"
      ]
    },
    {
      "cell_type": "markdown",
      "metadata": {
        "id": "w_IvSxXrgWBW"
      },
      "source": [
        "Plot the average intensity using matplotlib"
      ]
    },
    {
      "cell_type": "code",
      "execution_count": 89,
      "metadata": {
        "colab": {
          "base_uri": "https://localhost:8080/",
          "height": 557
        },
        "id": "7tScyHtcgWBW",
        "outputId": "21afd073-8595-4243-d4cd-f6118aa06722"
      },
      "outputs": [
        {
          "output_type": "execute_result",
          "data": {
            "text/plain": [
              "<BarContainer object of 10 artists>"
            ]
          },
          "metadata": {},
          "execution_count": 89
        },
        {
          "output_type": "display_data",
          "data": {
            "text/plain": [
              "<Figure size 640x480 with 1 Axes>"
            ],
            "image/png": "[encoded data removed]"
          },
          "metadata": {}
        }
      ],
      "source": [
        "fig = plt.figure()\n",
        "ax = fig.add_axes([0,0,1,1])\n",
        "ax.bar(labels,l_means)"
      ]
    },
    {
      "cell_type": "markdown",
      "metadata": {
        "id": "3AZdt-NUgWBW"
      },
      "source": [
        "As we can see there are some differences in intensity. The digit “1” is the less intense while the digit “0” is the most intense. So this new feature seems to have some predictive value if you wanted to know if say your digit is a “1” or not."
      ]
    },
    {
      "cell_type": "code",
      "execution_count": 90,
      "metadata": {
        "colab": {
          "base_uri": "https://localhost:8080/"
        },
        "id": "sfinEr4DgWBW",
        "outputId": "d479f7ba-c2d9-461c-a415-309d412f26cd"
      },
      "outputs": [
        {
          "output_type": "stream",
          "name": "stdout",
          "text": [
            "(70000,)\n"
          ]
        }
      ],
      "source": [
        "#TODO compute average intensity for each data sample\n",
        "# intensity=?\n",
        "intensity = np.mean(X, axis=1)\n",
        "print(intensity.shape)"
      ]
    },
    {
      "cell_type": "markdown",
      "metadata": {
        "id": "L4q_PjG3gWBX"
      },
      "source": [
        "Sometimes people really do not know what are they doing. I am not an exception:"
      ]
    },
    {
      "cell_type": "code",
      "execution_count": 91,
      "metadata": {
        "id": "QzzadsUygWBX",
        "colab": {
          "base_uri": "https://localhost:8080/"
        },
        "outputId": "02ee2301-e534-411d-c65f-192848c8d2ed"
      },
      "outputs": [
        {
          "output_type": "stream",
          "name": "stdout",
          "text": [
            "(70000,)\n"
          ]
        }
      ],
      "source": [
        "X_flip = np.flipud(np.fliplr(X))\n",
        "symmetry = np.mean((X-X_flip),axis=1)\n",
        "print(symmetry.shape)"
      ]
    },
    {
      "cell_type": "markdown",
      "metadata": {
        "id": "m1_-Kr1OgWBX"
      },
      "source": [
        "I called this feature \"symmetry\" (though it's not \"symmetry\" at all). Use visualization method to understand why this feature work."
      ]
    },
    {
      "cell_type": "markdown",
      "metadata": {
        "id": "0DsjK3DygWBX"
      },
      "source": [
        "Our new trainning data will have 70000 samples and 2 features: intensity, symmetry."
      ]
    },
    {
      "cell_type": "code",
      "execution_count": 92,
      "metadata": {
        "id": "tjSqJsoXgWBX",
        "colab": {
          "base_uri": "https://localhost:8080/"
        },
        "outputId": "3a0e41a4-053d-4652-8f9e-643bef088707"
      },
      "outputs": [
        {
          "output_type": "stream",
          "name": "stdout",
          "text": [
            "(70000, 2)\n"
          ]
        }
      ],
      "source": [
        "#TODO create X_new by horizontal stack intensity and symmetry\n",
        "X_new = np.column_stack((symmetry,intensity))\n",
        "print(X_new.shape) #it should be (70000,2)"
      ]
    },
    {
      "cell_type": "markdown",
      "metadata": {
        "id": "XkUnsRwtgWBX"
      },
      "source": [
        "## 2. Training"
      ]
    },
    {
      "cell_type": "markdown",
      "metadata": {
        "id": "jVqZN_Z0gWBX"
      },
      "source": [
        "Usually logistic regression is a good first choice for classification. In this homework we use logistic regression for classifying digit 1 images and not digit 1 images."
      ]
    },
    {
      "cell_type": "markdown",
      "metadata": {
        "id": "EarpyWUUgWBX"
      },
      "source": [
        "### Normalize data\n",
        "First normalize data using Z-score normalization\n",
        "- **TODO: Study about Z-score normalization**\n",
        "- **TODO: Why should we normalize data?**"
      ]
    },
    {
      "cell_type": "code",
      "execution_count": 93,
      "metadata": {
        "id": "7hbxG7U8gWBX",
        "colab": {
          "base_uri": "https://localhost:8080/"
        },
        "outputId": "67f873e0-0668-4b8b-b7db-316f151c73c2"
      },
      "outputs": [
        {
          "output_type": "stream",
          "name": "stdout",
          "text": [
            "[[-18.25        35.10841837]\n",
            " [  5.78571429  39.6619898 ]\n",
            " [-12.48469388  24.7997449 ]\n",
            " ...\n",
            " [ 12.48469388  37.28443878]\n",
            " [ -5.78571429  33.87627551]\n",
            " [ 18.25        53.35841837]]\n"
          ]
        }
      ],
      "source": [
        "#TODO: normalize X_new\n",
        "mean_values = np.mean(X_new, axis=0)\n",
        "std_dev_values = np.std(X_new, axis=0)\n",
        "X_new_normalized = (X_new - mean_values) / std_dev_values\n",
        "print(X_new)"
      ]
    },
    {
      "cell_type": "markdown",
      "metadata": {
        "id": "YuZAHcCKgWBX"
      },
      "source": [
        "### Construct  data"
      ]
    },
    {
      "cell_type": "code",
      "execution_count": 94,
      "metadata": {
        "id": "Ub29RIPggWBX",
        "colab": {
          "base_uri": "https://localhost:8080/"
        },
        "outputId": "0c4b5a55-2b94-401e-bc09-598117be1ffe"
      },
      "outputs": [
        {
          "output_type": "stream",
          "name": "stdout",
          "text": [
            "(70000, 3)\n",
            "(70000, 1)\n"
          ]
        }
      ],
      "source": [
        "X_new = np.hstack((np.ones((len(X_new), 1)), X_new)) #stack 1s column as usual\n",
        "y_new=y.to_numpy().astype(int)\n",
        "y_new[y_new != 1] = 0 # digit 1 -> class 1, other digits -> class 0\n",
        "y_new=y_new.reshape(-1,1)\n",
        "print (X_new.shape)\n",
        "print (y_new.shape)"
      ]
    },
    {
      "cell_type": "markdown",
      "metadata": {
        "id": "r3_s-dM9gWBX"
      },
      "source": [
        "### Split data"
      ]
    },
    {
      "cell_type": "code",
      "execution_count": 95,
      "metadata": {
        "id": "3RXCPuF7gWBX",
        "colab": {
          "base_uri": "https://localhost:8080/"
        },
        "outputId": "c2c28333-046e-4a93-d6c6-0d5aaa08f8b4"
      },
      "outputs": [
        {
          "output_type": "stream",
          "name": "stdout",
          "text": [
            "(46667, 3)\n",
            "(46667, 1)\n"
          ]
        }
      ],
      "source": [
        "train_X, test_X, train_y, test_y = train_test_split(X_new, y_new, test_size= int(1/3*X.shape[0]))\n",
        "print(train_X.shape)\n",
        "print(train_y.shape)"
      ]
    },
    {
      "cell_type": "markdown",
      "metadata": {
        "id": "AV12hn4AgWBX"
      },
      "source": [
        "### Sigmoid function and derivative of the sigmoid function"
      ]
    },
    {
      "cell_type": "code",
      "execution_count": 96,
      "metadata": {
        "id": "2Zy3chnXgWBY"
      },
      "outputs": [],
      "source": [
        "def sigmoid_activation(x):\n",
        "    \"\"\"compute the sigmoid activation value for a given input\"\"\"\n",
        "    return 1.0 / (1 + np.exp(-x))\n",
        "def sigmoid_deriv(x):\n",
        "    '''compute the derivative of the sigmoid function ASSUMING\n",
        "    that the input ‘x‘ has already been passed through the sigmoid\n",
        "    activation function'''\n",
        "    return x * (1 - x)"
      ]
    },
    {
      "cell_type": "markdown",
      "metadata": {
        "id": "-YYTahw-gWBY"
      },
      "source": [
        "### Compute output"
      ]
    },
    {
      "cell_type": "code",
      "execution_count": 97,
      "metadata": {
        "id": "WDrpBX3hgWBY"
      },
      "outputs": [],
      "source": [
        "def compute_h(W, X):\n",
        "    \"\"\"\n",
        "    Compute output: Take the dot product between our features ‘X‘ and the weight\n",
        "    matrix ‘W‘, then pass this value through our sigmoid activation function\n",
        "    \"\"\"\n",
        "    return sigmoid_activation(X.dot(W))\n",
        "def predict(W, X):\n",
        "\n",
        "    '''Take the dot product between our features and weight matrix,\n",
        "       then pass this value through our sigmoid activation'''\n",
        "    #........\n",
        "    preds=sigmoid_activation(X.dot(W))\n",
        "    # apply a step function to threshold the outputs to binary\n",
        "    # class labels\n",
        "    preds[preds <= 0.5] = 0\n",
        "    preds[preds > 0] = 1\n",
        "\n",
        "    return preds"
      ]
    },
    {
      "cell_type": "markdown",
      "metadata": {
        "id": "93Q_UtjTgWBY"
      },
      "source": [
        "### Compute gradient"
      ]
    },
    {
      "cell_type": "markdown",
      "metadata": {
        "id": "EJCkTBvMgWBY"
      },
      "source": [
        "**Loss Function: Average negative log likelihood**\n",
        "$$\\mathcal{L}=\\dfrac{1}{N} \\sum_{i=1}^{N} -\\left(y^{i}\\ln h_{\\mathbf{w}}\\left(\\mathbf{x}^{i}\\right)+\\left(1-y^{i}\\right)\\ln \\left(1-h_{\\mathbf{w}}\\left(x^{i}\\right)\\right)\\right) $$\n",
        "\n",
        "\n",
        "$$\\text{Sigmoid Activation: } z= \\sigma \\left(h\\right)= \\dfrac{1}{1+e^{-h}}$$\n",
        "\n",
        "$$\\text{Cross-entropy: } J(w)=-\\left({ylog(z)+(1-y)log(1-z)}\\right)$$\n",
        "\n",
        "$$\\text{Chain rule: } \\dfrac{\\partial J(w)}{\\partial w}=\\dfrac{\\partial J(w)}{\\partial z} \\dfrac{\\partial z}{\\partial h}\\dfrac{\\partial h}{\\partial w}  $$\n",
        "\n",
        "$$\\dfrac{\\partial J(w)}{\\partial z}=-\\left(\\dfrac{y}{z}-\\dfrac{1-y}{1-z}\\right)=\\dfrac{z-y}{z(1-z)}$$\n",
        "\n",
        "$$\\dfrac{\\partial z}{\\partial h}=z(1-z)$$\n",
        "\n",
        "$$\\dfrac{\\partial h}{\\partial w}=X$$\n",
        "\n",
        "$$\\dfrac{\\partial J(w)}{\\partial w}=X^T(z-y)$$"
      ]
    },
    {
      "cell_type": "code",
      "execution_count": 110,
      "metadata": {
        "id": "nixequpbgWBY"
      },
      "outputs": [],
      "source": [
        "def compute_gradient(train_X, error):\n",
        "    \"\"\"\n",
        "    This is the gradient descent update of \"average negative loglikelihood\" loss function.\n",
        "    In lab02 our loss function is \"sum squared error\".\n",
        "    \"\"\"\n",
        "    #TODO\n",
        "    gradient = np.dot(train_X.T, error) / train_X.shape[0]\n",
        "    return gradient"
      ]
    },
    {
      "cell_type": "code",
      "execution_count": 111,
      "metadata": {
        "id": "OVXgXDJNgWBY"
      },
      "outputs": [],
      "source": [
        "def train(W,train_X, train_y, learning_rate, num_epochs, losses):\n",
        "    for epoch in np.arange(0, num_epochs):\n",
        "        h=compute_h(W,train_X)\n",
        "        error = h - train_y\n",
        "        loss = np.mean(- train_y * np.log(h) - (1 - train_y) * np.log(1 - h))\n",
        "        losses.append(loss)\n",
        "        gradient=compute_gradient(train_X, error)\n",
        "        W += -learning_rate * gradient\n",
        "        if ((epoch+1)%1000==0): print ('Epoch %d, loss %.3f' %(epoch+1, loss))\n",
        "\n",
        "    return W"
      ]
    },
    {
      "cell_type": "markdown",
      "metadata": {
        "id": "4iIFO5Y4gWBY"
      },
      "source": [
        "### Train our model"
      ]
    },
    {
      "cell_type": "code",
      "execution_count": 112,
      "metadata": {
        "scrolled": false,
        "id": "v-snxvqtgWBY",
        "colab": {
          "base_uri": "https://localhost:8080/"
        },
        "outputId": "5c98b485-23ac-4e62-80fb-a424e9228fe8"
      },
      "outputs": [
        {
          "output_type": "stream",
          "name": "stderr",
          "text": [
            "<ipython-input-111-9a0285e5c1ad>:5: RuntimeWarning: divide by zero encountered in log\n",
            "  loss = np.mean(- train_y * np.log(h) - (1 - train_y) * np.log(1 - h))\n",
            "<ipython-input-111-9a0285e5c1ad>:5: RuntimeWarning: invalid value encountered in multiply\n",
            "  loss = np.mean(- train_y * np.log(h) - (1 - train_y) * np.log(1 - h))\n"
          ]
        },
        {
          "output_type": "stream",
          "name": "stdout",
          "text": [
            "Epoch 1000, loss 0.266\n",
            "Epoch 2000, loss 0.261\n",
            "Epoch 3000, loss 0.257\n",
            "Epoch 4000, loss 0.254\n",
            "Epoch 5000, loss 0.250\n",
            "Epoch 6000, loss 0.247\n",
            "Epoch 7000, loss 0.244\n",
            "Epoch 8000, loss 0.241\n",
            "Epoch 9000, loss 0.238\n",
            "Epoch 10000, loss 0.236\n",
            "Epoch 11000, loss 0.234\n",
            "Epoch 12000, loss 0.231\n",
            "Epoch 13000, loss 0.229\n",
            "Epoch 14000, loss 0.228\n",
            "Epoch 15000, loss 0.226\n",
            "Epoch 16000, loss 0.224\n",
            "Epoch 17000, loss 0.223\n",
            "Epoch 18000, loss 0.222\n",
            "Epoch 19000, loss 0.220\n",
            "Epoch 20000, loss 0.219\n",
            "Epoch 21000, loss 0.218\n",
            "Epoch 22000, loss 0.217\n",
            "Epoch 23000, loss 0.216\n",
            "Epoch 24000, loss 0.215\n",
            "Epoch 25000, loss 0.214\n",
            "Epoch 26000, loss 0.213\n",
            "Epoch 27000, loss 0.213\n",
            "Epoch 28000, loss 0.212\n",
            "Epoch 29000, loss 0.211\n",
            "Epoch 30000, loss 0.211\n",
            "Epoch 31000, loss 0.210\n",
            "Epoch 32000, loss 0.209\n",
            "Epoch 33000, loss 0.209\n",
            "Epoch 34000, loss 0.208\n",
            "Epoch 35000, loss 0.208\n",
            "Epoch 36000, loss 0.208\n",
            "Epoch 37000, loss 0.207\n",
            "Epoch 38000, loss 0.207\n",
            "Epoch 39000, loss 0.206\n",
            "Epoch 40000, loss 0.206\n",
            "==================================================\n",
            "Train err of final w:  8.462082413697045\n"
          ]
        }
      ],
      "source": [
        "W = np.random.randn(train_X.shape[1], 1)\n",
        "losses=[]\n",
        "num_epochs=40000\n",
        "learning_rate=0.01\n",
        "W=train(W,train_X, train_y, learning_rate, num_epochs , losses)\n",
        "x_preds=predict(W ,train_X)\n",
        "train_err = np.mean(x_preds != train_y) * 100\n",
        "print ('=' * 50)\n",
        "print ('Train err of final w: ', train_err)"
      ]
    },
    {
      "cell_type": "markdown",
      "metadata": {
        "id": "h3nbzTPBgWBY"
      },
      "source": [
        "## 3. Evaluate our model"
      ]
    },
    {
      "cell_type": "code",
      "execution_count": 113,
      "metadata": {
        "id": "I4QOgmblgWBd",
        "colab": {
          "base_uri": "https://localhost:8080/"
        },
        "outputId": "823ef847-b5ac-4d6b-f4e5-d85e6db0fea8"
      },
      "outputs": [
        {
          "output_type": "stream",
          "name": "stdout",
          "text": [
            "              precision    recall  f1-score   support\n",
            "\n",
            "           0       0.92      0.99      0.95     41403\n",
            "           1       0.77      0.36      0.49      5264\n",
            "\n",
            "    accuracy                           0.92     46667\n",
            "   macro avg       0.85      0.67      0.72     46667\n",
            "weighted avg       0.91      0.92      0.90     46667\n",
            "\n"
          ]
        }
      ],
      "source": [
        "preds = predict(W, train_X)\n",
        "print(classification_report(train_y, preds))"
      ]
    },
    {
      "cell_type": "code",
      "execution_count": 115,
      "metadata": {
        "id": "XaoQ71aGgWBd",
        "colab": {
          "base_uri": "https://localhost:8080/"
        },
        "outputId": "c348c35c-1846-4c78-d05d-85b84e7eac7e"
      },
      "outputs": [
        {
          "output_type": "stream",
          "name": "stdout",
          "text": [
            "              precision    recall  f1-score   support\n",
            "\n",
            "           0       0.92      0.99      0.95     20720\n",
            "           1       0.76      0.34      0.47      2613\n",
            "\n",
            "    accuracy                           0.91     23333\n",
            "   macro avg       0.84      0.66      0.71     23333\n",
            "weighted avg       0.90      0.91      0.90     23333\n",
            "\n"
          ]
        }
      ],
      "source": [
        "preds = predict(W, test_X)\n",
        "print(classification_report(test_y, preds))"
      ]
    },
    {
      "cell_type": "markdown",
      "metadata": {
        "id": "N6r1QJh3gWBd"
      },
      "source": [
        "**TODO: Comment on the result**\n",
        "*   Class Imbalance: The model excels in classifying the majority class (Class 0), showing high precision, recall, and F1-score. However, the performance on the minority class (Class 1) is notably lower, with a particularly low recall, indicating difficulty in identifying positive instances.\n",
        "*   Overall Accuracy: The overall accuracy is relatively high, but given the class imbalance, it might not be the most reliable metric. It's crucial to consider precision, recall, and F1-score, especially for the minority class, to assess the model's true effectiveness.\n",
        "*   Recommendations: addressing class imbalance through techniques like oversampling or adjusting class weights could improve the model's performance on the minority class. Additionally, fine-tuning the model or exploring different algorithms may be beneficial.\n",
        "*   Balancing Metrics: It's important to strike a balance between precision and recall, especially when dealing with imbalanced datasets. Depending on the specific goals and costs associated with false positives and false negatives, you might need to adjust the model accordingly.\n",
        "\n"
      ]
    }
  ],
  "metadata": {
    "kernelspec": {
      "display_name": "Python 3 (ipykernel)",
      "language": "python",
      "name": "python3"
    },
    "language_info": {
      "codemirror_mode": {
        "name": "ipython",
        "version": 3
      },
      "file_extension": ".py",
      "mimetype": "text/x-python",
      "name": "python",
      "nbconvert_exporter": "python",
      "pygments_lexer": "ipython3",
      "version": "3.9.7"
    },
    "colab": {
      "provenance": []
    }
  },
  "nbformat": 4,
  "nbformat_minor": 0
}