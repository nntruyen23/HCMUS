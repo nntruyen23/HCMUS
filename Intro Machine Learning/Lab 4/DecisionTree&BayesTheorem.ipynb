{
  "cells": [
    {
      "cell_type": "markdown",
      "metadata": {
        "id": "b76YngfGGfyD"
      },
      "source": [
        "# Lab04: Decision Tree and Naive Bayes\n",
        "\n",
        "- Student ID: 2112711\n",
        "- Student name: Nguyễn Nhật Truyền"
      ]
    },
    {
      "cell_type": "markdown",
      "metadata": {
        "id": "-xZqh-Z7GfyF"
      },
      "source": [
        "**How to do your homework**\n",
        "\n",
        "\n",
        "You will work directly on this notebook; the word `TODO` indicate the parts you need to do.\n",
        "\n",
        "You can discuss ideas with classmates as well as finding information from the internet, book, etc...; but *this homework must be your*.\n",
        "\n",
        "**How to submit your homework**\n",
        "\n",
        "Before submitting, rerun the notebook (`Kernel` ->` Restart & Run All`).\n",
        "\n",
        "Then create a folder named `ID` (for example, if your ID is 1234567, then name the folder `1234567`) Copy file notebook to this folder, compress and submit it on moodle.\n",
        "\n",
        "**Contents:**\n",
        "\n",
        "- Decision Tree.\n",
        "- Naive Bayes"
      ]
    },
    {
      "cell_type": "markdown",
      "metadata": {
        "id": "--NRbml7GfyG"
      },
      "source": [
        "### Import library"
      ]
    },
    {
      "cell_type": "code",
      "execution_count": 1,
      "metadata": {
        "id": "VhR1GCY5GfyH"
      },
      "outputs": [],
      "source": [
        "import matplotlib.pyplot as plt\n",
        "from sklearn import datasets\n",
        "import pandas as pd\n",
        "import numpy as np\n",
        "from sklearn.metrics import accuracy_score"
      ]
    },
    {
      "cell_type": "markdown",
      "metadata": {
        "id": "L-OzYr2SGfyN"
      },
      "source": [
        "### Load Iris dataset"
      ]
    },
    {
      "cell_type": "code",
      "execution_count": 2,
      "metadata": {
        "id": "oX5c3r4uGfyO"
      },
      "outputs": [],
      "source": [
        "from sklearn.model_selection import train_test_split\n",
        "iris=datasets.load_iris()\n",
        "\n",
        "X=iris.data\n",
        "y=iris.target\n",
        "\n",
        "#split dataset into training data and testing data\n",
        "X_train,X_test,y_train,y_test=train_test_split(X,y,test_size=0.33, random_state=42)"
      ]
    },
    {
      "cell_type": "markdown",
      "metadata": {
        "id": "US1KgZBgGfyU"
      },
      "source": [
        "## 1. Decision Tree: Iterative Dichotomiser 3 (ID3)"
      ]
    },
    {
      "cell_type": "markdown",
      "metadata": {
        "id": "4sQh1ieuGfyV"
      },
      "source": [
        "### 1.1 Information Gain"
      ]
    },
    {
      "cell_type": "markdown",
      "metadata": {
        "id": "MSjCJR_eGfyV"
      },
      "source": [
        "Expected value of the self-information (entropy):"
      ]
    },
    {
      "cell_type": "markdown",
      "metadata": {
        "id": "BZM7fmb0GfyW"
      },
      "source": [
        "$$Entropy=-\\sum_{i}^{n}p_ilog_{2}(p_i)$$"
      ]
    },
    {
      "cell_type": "markdown",
      "metadata": {
        "id": "WDjtCHd_GfyX"
      },
      "source": [
        "The entropy function gets the smallest value if there is a value of $p_i$ equal to 1, reaches the maximum value if all $ p_i $ are equal. These properties of the entropy function make it is an expression of the disorder, or randomness of a system, ..."
      ]
    },
    {
      "cell_type": "code",
      "execution_count": 3,
      "metadata": {
        "id": "kql-MFq-GfyX"
      },
      "outputs": [],
      "source": [
        "def entropy(counts, n_samples):\n",
        "    \"\"\"\n",
        "    Parameters:\n",
        "    -----------\n",
        "    counts: shape (n_classes): list number of samples in each class\n",
        "    n_samples: number of data samples\n",
        "\n",
        "    -----------\n",
        "    return entropy\n",
        "    \"\"\"\n",
        "    #TODO\n",
        "    class_proportions = counts / n_samples\n",
        "    epsilon = 1e-15\n",
        "    class_proportions[class_proportions == 0] = epsilon\n",
        "    entropy_value = -np.sum(class_proportions * np.log2(class_proportions))\n",
        "    return entropy_value"
      ]
    },
    {
      "cell_type": "code",
      "execution_count": 4,
      "metadata": {
        "id": "AsGJfLhmGfyc"
      },
      "outputs": [],
      "source": [
        "def entropy_of_one_division(division):\n",
        "    \"\"\"\n",
        "    Returns entropy of a divided group of data\n",
        "    Data may have multiple classes\n",
        "    \"\"\"\n",
        "    n_samples = len(division)\n",
        "    n_classes = set(division)\n",
        "    counts=[]\n",
        "    #count samples in each class then store it to list counts\n",
        "    #TODO:\n",
        "    for class_i in (n_classes):\n",
        "        counts.append(sum(division==class_i))\n",
        "    counts=np.asarray(counts)\n",
        "\n",
        "    return entropy(counts,n_samples),n_samples\n",
        "\n",
        "\n",
        "def get_entropy(y_predict, y):\n",
        "    \"\"\"\n",
        "    Returns entropy of a split\n",
        "    y_predict is the split decision by cutoff, True/Fasle\n",
        "    \"\"\"\n",
        "    n = len(y)\n",
        "    entropy_true, n_true = entropy_of_one_division(y[y_predict]) # left hand side entropy\n",
        "    entropy_false, n_false = entropy_of_one_division(y[~y_predict]) # right hand side entropy\n",
        "    # overall entropy\n",
        "    #TODO s=?\n",
        "    s = (n_true / n) * entropy_true + (n_false / n) * entropy_false\n",
        "    return s"
      ]
    },
    {
      "cell_type": "markdown",
      "metadata": {
        "id": "dWhnKZm9Gfyi"
      },
      "source": [
        "The information gain of classifying information set D by attribute A:\n",
        "$$ Gain(A)=Entrophy(D)-Entrophy_{A}(D)$$\n",
        "\n",
        "At each node in ID3, an attribute is chosen if its information gain is highest compare to others.\n",
        "\n",
        "All attributes of the Iris set are represented by continuous values. Therefore we need to represent them with discrete values. The simple way is to use a `cutoff` threshold to separate values of the data on each attribute into two part:` <cutoff` and `> = cutoff`.\n",
        "\n",
        "To find the best `cutoff` for an attribute, we replace` cutoff` with its values then compute the entropy, best `cutoff` achieved when value of entropy is smallest  $ \\left (\\arg \\min Entrophy_ {A} (D) \\right) $."
      ]
    },
    {
      "cell_type": "markdown",
      "metadata": {
        "id": "tTKwaSw-Gfyj"
      },
      "source": [
        "### 1.2 Decision tree"
      ]
    },
    {
      "cell_type": "code",
      "execution_count": 5,
      "metadata": {
        "id": "xp6omaz2Gfyj"
      },
      "outputs": [],
      "source": [
        "class DecisionTreeClassifier:\n",
        "    def __init__(self, tree=None, depth=0):\n",
        "        '''Parameters:\n",
        "        -----------------\n",
        "        tree: decision tree\n",
        "        depth: depth of decision tree after training'''\n",
        "\n",
        "        self.depth = depth\n",
        "        self.tree=tree\n",
        "    def fit(self, X, y, node={}, depth=0):\n",
        "        '''Parameter:\n",
        "        -----------------\n",
        "        X: training data\n",
        "        y: label of training data\n",
        "        ------------------\n",
        "        return: node\n",
        "\n",
        "        node: each node represented by cutoff value and column index, value and children.\n",
        "         - cutoff value is thresold where you divide your attribute\n",
        "         - column index is your data attribute index\n",
        "         - value of node is mean value of label indexes,\n",
        "           if a node is leaf all data samples will have same label\n",
        "\n",
        "        Note that: we divide each attribute into 2 part => each node will have 2 children: left, right.\n",
        "        '''\n",
        "\n",
        "        #Stop conditions\n",
        "\n",
        "        #if all value of y are the same\n",
        "        if np.all(y==y[0]):\n",
        "            return {'val':y[0]}\n",
        "\n",
        "        else:\n",
        "            col_idx, cutoff, entropy = self.find_best_split_of_all(X, y)    # find one split given an information gain\n",
        "            y_left = y[X[:, col_idx] < cutoff]\n",
        "            y_right = y[X[:, col_idx] >= cutoff]\n",
        "            node = {'index_col':col_idx,\n",
        "                        'cutoff':cutoff,\n",
        "                   'val':np.mean(y)}\n",
        "            node['left'] = self.fit(X[X[:, col_idx] < cutoff], y_left, {}, depth+1)\n",
        "            node['right'] = self.fit(X[X[:, col_idx] >= cutoff], y_right, {}, depth+1)\n",
        "            self.depth += 1\n",
        "            self.tree = node\n",
        "            return node\n",
        "\n",
        "    def find_best_split_of_all(self, X, y):\n",
        "        col_idx = None\n",
        "        min_entropy = 1\n",
        "        cutoff = None\n",
        "        for i, col_data in enumerate(X.T):\n",
        "            entropy, cur_cutoff = self.find_best_split(col_data, y)\n",
        "            if entropy == 0:                   #best entropy\n",
        "                return i, cur_cutoff, entropy\n",
        "            elif entropy <= min_entropy:\n",
        "                min_entropy = entropy\n",
        "                col_idx = i\n",
        "                cutoff = cur_cutoff\n",
        "\n",
        "        return col_idx, cutoff, min_entropy\n",
        "\n",
        "    def find_best_split(self, col_data, y):\n",
        "        ''' Parameters:\n",
        "        -------------\n",
        "        col_data: data samples in column'''\n",
        "\n",
        "        min_entropy = 10\n",
        "        cutoff = None\n",
        "\n",
        "        for value in set(col_data):\n",
        "            y_predict = col_data < value\n",
        "            entropy = get_entropy(y_predict, y)\n",
        "            if entropy < min_entropy:\n",
        "                min_entropy = entropy\n",
        "                cutoff = value\n",
        "\n",
        "        return min_entropy, cutoff\n",
        "\n",
        "    def predict(self, X):\n",
        "        tree = self.tree\n",
        "        pred = np.zeros(shape=len(X))\n",
        "        for i, c in enumerate(X):\n",
        "            pred[i] = self._predict(c)\n",
        "        return pred\n",
        "\n",
        "    def _predict(self, row):\n",
        "        cur_layer = self.tree\n",
        "        while cur_layer.get('cutoff'):\n",
        "            if row[cur_layer['index_col']] < cur_layer['cutoff']:\n",
        "                cur_layer = cur_layer['left']\n",
        "            else:\n",
        "                cur_layer = cur_layer['right']\n",
        "        else:\n",
        "            return cur_layer.get('val')"
      ]
    },
    {
      "cell_type": "markdown",
      "metadata": {
        "id": "v_OsIHd-Gfyq"
      },
      "source": [
        "### 1.3 Classification on Iris Dataset"
      ]
    },
    {
      "cell_type": "code",
      "execution_count": 6,
      "metadata": {
        "colab": {
          "base_uri": "https://localhost:8080/"
        },
        "id": "BNgHip1dGfyr",
        "outputId": "7fa62b6b-2a27-4483-a4da-2686a78d2181"
      },
      "outputs": [
        {
          "output_type": "stream",
          "name": "stdout",
          "text": [
            "Accuracy of your decision tree model on training data: 1.0\n",
            "Accuracy of your decision tree model: 0.96\n"
          ]
        }
      ],
      "source": [
        "model = DecisionTreeClassifier()\n",
        "tree = model.fit(X_train, y_train)\n",
        "pred=model.predict(X_train)\n",
        "print('Accuracy of your decision tree model on training data:', accuracy_score(y_train,pred))\n",
        "pred=model.predict(X_test)\n",
        "print('Accuracy of your decision tree model:', accuracy_score(y_test,pred))\n"
      ]
    },
    {
      "cell_type": "markdown",
      "metadata": {
        "id": "2rXS4sPCGfyz"
      },
      "source": [
        "## 2. Bayes Theorem\n",
        "\n",
        "Bayes formulation\n",
        "$$\\begin{equation}\n",
        "P\\left(A|B\\right)= \\dfrac{P\\left(B|A\\right)P\\left(A\\right)}{P\\left(B\\right)}\n",
        "\\end{equation}$$\n",
        "\n",
        "If $B$ is our data $\\mathcal{D}$, $A$ and $w$ are parameters we need to estimate:\n",
        "\n",
        "$$ \\begin{align}\n",
        "    \\underbrace{P(w|\\mathcal{D})}_{Posterior}= \\dfrac{1}{\\underbrace{P(\\mathcal{D})}_{Normalization}} \\overbrace{P(\\mathcal{D}|w)}^{\\text{Likelihood}} \\overbrace{P(w)}^{Prior}\n",
        "    \\end{align}\n",
        "$$"
      ]
    },
    {
      "cell_type": "markdown",
      "metadata": {
        "id": "zuPXhYHzGfy1"
      },
      "source": [
        "#### Naive Bayes\n",
        "To make it simple, it is often assumed that the components of the $D$ random variable (or the features of the $D$ data) are independent with each other, if $w$ is known. It mean:\n",
        "\n",
        "$$P(\\mathcal{D}|w)=\\prod _{i=1}^{d}P(x_i|w)$$\n",
        "\n",
        "- $d$: number of features\n",
        "\n"
      ]
    },
    {
      "cell_type": "markdown",
      "metadata": {
        "id": "1m4AZLwgGfy3"
      },
      "source": [
        "### 2.1. Probability Density Function"
      ]
    },
    {
      "cell_type": "code",
      "execution_count": 7,
      "metadata": {
        "id": "fA3arZy8Gfy4"
      },
      "outputs": [],
      "source": [
        "class pdf:\n",
        "    def __init__(self,hist=None):\n",
        "        '''\n",
        "        A probability density function represented by a histogram\n",
        "\n",
        "        hist: shape (n,1), n: number of hypotheses\n",
        "        hypo: hypothesis (simply understand as label)\n",
        "        ------------------\n",
        "        hist[hypo]=P(hypo)\n",
        "        '''\n",
        "        self.hist = hist\n",
        "\n",
        "    #virtual function\n",
        "    def likelihood(self, data, hypo):\n",
        "        '''Paramters:\n",
        "        data: new data record\n",
        "        hypo: hypothesis (simply understand as label)\n",
        "        ---------\n",
        "        return P(data/hypo)\n",
        "        '''\n",
        "        raise Exception()\n",
        "\n",
        "    #update histogram for new data\n",
        "    def update(self, data):\n",
        "        '''\n",
        "        P(hypo/data)=P(data/hypo)*P(hypo)*(1/P(data))\n",
        "        '''\n",
        "\n",
        "        #Likelihood * Prior\n",
        "        #TODO\n",
        "        for hypo in self.hist.keys():\n",
        "            #self.hist[hypo]=?\n",
        "            self.hist[hypo]=self.likelihood(data,hypo)*self.hist[hypo]\n",
        "\n",
        "        #Normalization\n",
        "\n",
        "        #TODO: s=P(data)\n",
        "        #s=?\n",
        "        s=0\n",
        "        for hypo in self.hist.keys():\n",
        "            s+=self.hist[hypo]\n",
        "        for hypo in self.hist.keys():\n",
        "            self.hist[hypo] = self.hist[hypo]/s\n",
        "\n",
        "    def plot_pdf(self):\n",
        "        #plot Histogram\n",
        "        #TODO\n",
        "        x = list(self.hist.keys())\n",
        "        y = list(self.hist.values())\n",
        "        plt.bar(x,y)\n",
        "        plt.title(\"Histogram\")\n",
        "        plt.show()\n",
        "\n",
        "    def maxHypo(self):\n",
        "        #find the hypothesis with maximum probability from hist\n",
        "        #TODO\n",
        "        max = list(self.hist.keys())[0]\n",
        "        for hypo in self.hist.keys():\n",
        "            if self.hist[hypo] > self.hist[max]:\n",
        "                max = hypo\n",
        "        return max\n",
        "\n"
      ]
    },
    {
      "cell_type": "markdown",
      "metadata": {
        "id": "x89nTrIEGfy7"
      },
      "source": [
        "### 2.2 Classification on Iris Dataset"
      ]
    },
    {
      "cell_type": "markdown",
      "metadata": {
        "id": "y9moO4N2Gfy8"
      },
      "source": [
        "#### Gaussian Naive Bayes"
      ]
    },
    {
      "cell_type": "markdown",
      "metadata": {
        "id": "rhLm2pD-Gfy-"
      },
      "source": [
        "- Naive Bayes can be extended to use on continuous data, most commonly by using a normal distribution (Gaussian distribution).\n",
        "\n",
        "- This extension called Gaussian Naive Bayes. Other functions can be used to estimate data distribution, but Gauss (or the normal distribution) is the easiest to work with since we only need to estimate the mean and standard deviation from the training data."
      ]
    },
    {
      "cell_type": "markdown",
      "metadata": {
        "id": "VDbWOYQ-GfzA"
      },
      "source": [
        "#### Define Gauss function"
      ]
    },
    {
      "cell_type": "markdown",
      "metadata": {
        "id": "TmlbwFHPGfzA"
      },
      "source": [
        "$$ f\\left(x;\\mu,\\sigma \\right)= \\dfrac{1}{\\sigma \\sqrt{2\\pi}}\n",
        "\\exp \\left({-\\dfrac{\\left(x-\\mu\\right)^2}{2 \\sigma^2}}\\right) $$"
      ]
    },
    {
      "cell_type": "code",
      "execution_count": 8,
      "metadata": {
        "id": "-OpY89tkGfzB"
      },
      "outputs": [],
      "source": [
        "def Gauss(std,mean,x):\n",
        "    #Compute the Gaussian probability distribution function for x\n",
        "    #TODO\n",
        "    exponent = -((x - mean)**2) / (2 * std**2)\n",
        "    pdf = (1 / (np.sqrt(2 * np.pi) * std)) * np.exp(exponent)\n",
        "    return pdf"
      ]
    },
    {
      "cell_type": "code",
      "execution_count": 9,
      "metadata": {
        "id": "RIutnepWGfzH"
      },
      "outputs": [],
      "source": [
        "class NBGaussian(pdf):\n",
        "    def __init__(self, hist=None, std=None, mean=None):\n",
        "        '''Parameters:\n",
        "\n",
        "        '''\n",
        "        pdf.__init__(self, hist)\n",
        "        self.std=std\n",
        "        self.mean=mean\n",
        "    def likelihood(self,data, hypo):\n",
        "        '''\n",
        "        Returns: res=P(data/hypo)\n",
        "        -----------------\n",
        "        Naive bayes:\n",
        "            Atributes are assumed to be conditionally independent given the class value.\n",
        "        '''\n",
        "\n",
        "        std=self.std[hypo]\n",
        "        mean=self.mean[hypo]\n",
        "        res=1\n",
        "        #TODO\n",
        "        #res=res*P(x1/hypo)*P(x2/hypo)...\n",
        "        for i in range(len(data)):\n",
        "            res *= Gauss(std[i], mean[i], data[i])\n",
        "        return res\n",
        "\n",
        "        return res\n",
        "    def fit(self, X,y):\n",
        "        \"\"\"Parameters:\n",
        "        X: training data\n",
        "        y: labels of training data\n",
        "        \"\"\"\n",
        "        n=len(X)\n",
        "        #number of iris species\n",
        "        #TODO\n",
        "        #n_species=???\n",
        "        n_species = len(set(y))\n",
        "\n",
        "\n",
        "        hist={}\n",
        "        mean={}\n",
        "        std={}\n",
        "\n",
        "        #separate  dataset into rows by class\n",
        "        for hypo in range(0,n_species):\n",
        "            #rows have hypo label\n",
        "            #TODO rows=\n",
        "            rows = []\n",
        "            for i in range(n):\n",
        "              if(y[i]==y[hypo]):\n",
        "                rows.append(X[i])\n",
        "            #histogram for each hypo\n",
        "            #TODO probability=?\n",
        "            probability = len(rows) / n\n",
        "\n",
        "            hist[hypo]=probability\n",
        "\n",
        "            #Each hypothesis represented by its mean and standard derivation\n",
        "            '''mean and standard derivation should be calculated for each column (or each attribute)'''\n",
        "            #TODO mean[hypo]=?, std[hypo]=?\n",
        "            mean[hypo]=X[y==hypo].mean(axis=0)\n",
        "            std[hypo]=X[y==hypo].std(axis=0)\n",
        "\n",
        "        self.mean=mean\n",
        "        self.std=std\n",
        "        self.hist=hist\n",
        "\n",
        "    def _predict(self, data, plot=False):\n",
        "        \"\"\"\n",
        "        Predict label for only 1 data sample\n",
        "        ------------\n",
        "        Parameters:\n",
        "        data: data sample\n",
        "        plot: True: draw histogram after update new record\n",
        "        -----------\n",
        "        return: label of data\n",
        "        \"\"\"\n",
        "        model=NBGaussian(hist=self.hist.copy(),std=self.std.copy(), mean=self.mean.copy())\n",
        "        model.update(data)\n",
        "        if (plot): model.plot_pdf()\n",
        "        return model.maxHypo()\n",
        "\n",
        "    def predict(self, data):\n",
        "        \"\"\"Parameters:\n",
        "        Data: test data\n",
        "        ----------\n",
        "        return labels of test data\"\"\"\n",
        "\n",
        "        pred=[]\n",
        "        for x in data:\n",
        "            pred.append(self._predict(x))\n",
        "        return pred"
      ]
    },
    {
      "cell_type": "markdown",
      "metadata": {
        "id": "1Gmv2qqxGfzM"
      },
      "source": [
        "#### Show histogram of training data"
      ]
    },
    {
      "cell_type": "code",
      "execution_count": 10,
      "metadata": {
        "colab": {
          "base_uri": "https://localhost:8080/",
          "height": 452
        },
        "id": "BkjhuGkLGfzN",
        "outputId": "3b084423-6b61-452d-b69f-96ba89d39d82"
      },
      "outputs": [
        {
          "output_type": "display_data",
          "data": {
            "text/plain": [
              "<Figure size 640x480 with 1 Axes>"
            ],
            "image/png": "[encoded data removed]"
          },
          "metadata": {}
        }
      ],
      "source": [
        "model_1=NBGaussian()\n",
        "model_1.fit(X_train, y_train)\n",
        "model_1.plot_pdf()"
      ]
    },
    {
      "cell_type": "markdown",
      "metadata": {
        "id": "itiPerhxGfzW"
      },
      "source": [
        "#### Test wih 1 data record"
      ]
    },
    {
      "cell_type": "code",
      "execution_count": 11,
      "metadata": {
        "colab": {
          "base_uri": "https://localhost:8080/",
          "height": 504
        },
        "id": "ev9UTlb6GfzX",
        "outputId": "16115d55-8eb4-42ba-9a39-661e91ea400c"
      },
      "outputs": [
        {
          "output_type": "stream",
          "name": "stdout",
          "text": [
            "Label of X_test[10]:  2\n",
            "Our histogram after update X_test[10]: \n"
          ]
        },
        {
          "output_type": "display_data",
          "data": {
            "text/plain": [
              "<Figure size 640x480 with 1 Axes>"
            ],
            "image/png": "[encoded data removed]"
          },
          "metadata": {}
        },
        {
          "output_type": "execute_result",
          "data": {
            "text/plain": [
              "2"
            ]
          },
          "metadata": {},
          "execution_count": 11
        }
      ],
      "source": [
        "#label of y_test[10]\n",
        "print('Label of X_test[10]: ', y_test[10])\n",
        "#update model and show histogram with X_test[10]:\n",
        "\n",
        "print('Our histogram after update X_test[10]: ')\n",
        "model_1._predict(X_test[10],plot=True)\n"
      ]
    },
    {
      "cell_type": "markdown",
      "metadata": {
        "id": "CAhcGUTgGfzd"
      },
      "source": [
        "#### Evaluate your Gaussian Naive Bayes model"
      ]
    },
    {
      "cell_type": "code",
      "execution_count": 12,
      "metadata": {
        "colab": {
          "base_uri": "https://localhost:8080/"
        },
        "id": "S5Kvk-rUGfze",
        "outputId": "00a3b07e-2ffb-46a7-9ab7-72fc1849dc8d"
      },
      "outputs": [
        {
          "output_type": "stream",
          "name": "stdout",
          "text": [
            "Accuracy of your Gaussian Naive Bayes model: 0.96\n"
          ]
        }
      ],
      "source": [
        "pred=model_1.predict(X_test)\n",
        "print('Accuracy of your Gaussian Naive Bayes model:', accuracy_score(y_test,pred))"
      ]
    },
    {
      "cell_type": "markdown",
      "metadata": {
        "id": "gJaWYqt5Jvmp"
      },
      "source": [
        "**TODO**: F1, Recall and Precision report"
      ]
    },
    {
      "cell_type": "code",
      "source": [
        "from sklearn.metrics import classification_report\n",
        "print(classification_report(y_test, pred))"
      ],
      "metadata": {
        "colab": {
          "base_uri": "https://localhost:8080/"
        },
        "id": "owQyUGY5MlYb",
        "outputId": "83a6df2c-27fd-465c-8a89-a9f7c9f6e739"
      },
      "execution_count": 13,
      "outputs": [
        {
          "output_type": "stream",
          "name": "stdout",
          "text": [
            "              precision    recall  f1-score   support\n",
            "\n",
            "           0       1.00      1.00      1.00        19\n",
            "           1       0.93      0.93      0.93        15\n",
            "           2       0.94      0.94      0.94        16\n",
            "\n",
            "    accuracy                           0.96        50\n",
            "   macro avg       0.96      0.96      0.96        50\n",
            "weighted avg       0.96      0.96      0.96        50\n",
            "\n"
          ]
        }
      ]
    }
  ],
  "metadata": {
    "colab": {
      "provenance": []
    },
    "kernelspec": {
      "display_name": "Python 3 (ipykernel)",
      "language": "python",
      "name": "python3"
    },
    "language_info": {
      "codemirror_mode": {
        "name": "ipython",
        "version": 3
      },
      "file_extension": ".py",
      "mimetype": "text/x-python",
      "name": "python",
      "nbconvert_exporter": "python",
      "pygments_lexer": "ipython3",
      "version": "3.9.7"
    }
  },
  "nbformat": 4,
  "nbformat_minor": 0
}