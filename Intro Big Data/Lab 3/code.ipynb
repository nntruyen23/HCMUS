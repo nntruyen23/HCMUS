{
  "nbformat": 4,
  "nbformat_minor": 0,
  "metadata": {
    "colab": {
      "provenance": [],
      "collapsed_sections": [
        "xms5H95LaCyK",
        "szVc2Ob4DnM9",
        "71BiqJOREYZX",
        "NexdQRhuEE8r",
        "0Kr2tvVC9qYJ",
        "rCTykn6N6rGJ"
      ]
    },
    "kernelspec": {
      "name": "python3",
      "display_name": "Python 3"
    },
    "language_info": {
      "name": "python"
    }
  },
  "cells": [
    {
      "cell_type": "markdown",
      "source": [
        "#SET UP"
      ],
      "metadata": {
        "id": "xms5H95LaCyK"
      }
    },
    {
      "cell_type": "code",
      "source": [
        "# install java\n",
        "!apt-get update\n",
        "!apt-get install openjdk-8-jdk-headless -qq > /dev/null\n",
        "\n",
        "# install spark (change the version number if needed)\n",
        "!wget -q https://downloads.apache.org/spark/spark-3.5.1/spark-3.5.1-bin-hadoop3.tgz\n",
        "\n",
        "# unzip the spark file to the current folder\n",
        "!tar xf spark-3.5.1-bin-hadoop3.tgz"
      ],
      "metadata": {
        "colab": {
          "base_uri": "https://localhost:8080/"
        },
        "id": "8CeyDgVTsgFz",
        "outputId": "f65818b9-b210-4f95-de43-45476c7ced5d"
      },
      "execution_count": null,
      "outputs": [
        {
          "output_type": "stream",
          "name": "stdout",
          "text": [
            "\r0% [Working]\r            \rGet:1 http://security.ubuntu.com/ubuntu jammy-security InRelease [110 kB]\n",
            "\r0% [Connecting to archive.ubuntu.com (91.189.91.82)] [1 InRelease 14.2 kB/110 kB 13%] [Waiting for h\r                                                                                                    \rHit:2 https://cloud.r-project.org/bin/linux/ubuntu jammy-cran40/ InRelease\n",
            "\r0% [Waiting for headers] [1 InRelease 14.2 kB/110 kB 13%] [Connecting to ppa.launchpadcontent.net] [\r                                                                                                    \rHit:3 http://archive.ubuntu.com/ubuntu jammy InRelease\n",
            "\r0% [Waiting for headers] [1 InRelease 25.8 kB/110 kB 23%] [Connecting to ppa.launchpadcontent.net (1\r                                                                                                    \rHit:4 https://developer.download.nvidia.com/compute/cuda/repos/ubuntu2204/x86_64  InRelease\n",
            "Get:5 http://archive.ubuntu.com/ubuntu jammy-updates InRelease [119 kB]\n",
            "Hit:6 http://archive.ubuntu.com/ubuntu jammy-backports InRelease\n",
            "Hit:7 https://ppa.launchpadcontent.net/c2d4u.team/c2d4u4.0+/ubuntu jammy InRelease\n",
            "Hit:8 https://ppa.launchpadcontent.net/deadsnakes/ppa/ubuntu jammy InRelease\n",
            "Hit:9 https://ppa.launchpadcontent.net/graphics-drivers/ppa/ubuntu jammy InRelease\n",
            "Hit:10 https://ppa.launchpadcontent.net/ubuntugis/ppa/ubuntu jammy InRelease\n",
            "Fetched 229 kB in 2s (108 kB/s)\n",
            "Reading package lists... Done\n"
          ]
        }
      ]
    },
    {
      "cell_type": "code",
      "source": [
        "# set your spark folder to your system path environment.\n",
        "import os\n",
        "os.environ[\"JAVA_HOME\"] = \"/usr/lib/jvm/java-8-openjdk-amd64\"\n",
        "os.environ[\"SPARK_HOME\"] = \"/content/spark-3.5.1-bin-hadoop3\""
      ],
      "metadata": {
        "id": "EmKsb26gaEsS"
      },
      "execution_count": null,
      "outputs": []
    },
    {
      "cell_type": "code",
      "source": [
        "!pip install findspark\n",
        "import findspark\n",
        "findspark.init()\n",
        "import pyspark"
      ],
      "metadata": {
        "colab": {
          "base_uri": "https://localhost:8080/"
        },
        "id": "6Pxrl6d_aIXQ",
        "outputId": "315b781e-1e49-41a4-e8ec-8e2e6bcc0bbf"
      },
      "execution_count": null,
      "outputs": [
        {
          "output_type": "stream",
          "name": "stdout",
          "text": [
            "Requirement already satisfied: findspark in /usr/local/lib/python3.10/dist-packages (2.0.1)\n"
          ]
        }
      ]
    },
    {
      "cell_type": "code",
      "source": [
        "# Creating a SparkSession in Python\n",
        "from pyspark.sql import SparkSession\n",
        "\n",
        "spark = SparkSession.builder.master(\"local\")\\\n",
        "          .appName(\"Spark Streaming Demonstration\")\\\n",
        "          .config(\"spark.some.config.option\", \"some-value\")\\\n",
        "          .getOrCreate()\n",
        "\n",
        "# keep the size of shuffles small\n",
        "spark.conf.set(\"spark.sql.shuffle.partitions\", \"2\")"
      ],
      "metadata": {
        "id": "mXQqMv3GaMHt"
      },
      "execution_count": null,
      "outputs": []
    },
    {
      "cell_type": "code",
      "source": [
        "from google.colab import drive\n",
        "drive.mount('/content/drive')"
      ],
      "metadata": {
        "colab": {
          "base_uri": "https://localhost:8080/"
        },
        "id": "HQCuUZ0Y_-87",
        "outputId": "2a47de0e-6c9d-4277-f00b-559668a27ba6"
      },
      "execution_count": null,
      "outputs": [
        {
          "output_type": "stream",
          "name": "stdout",
          "text": [
            "Drive already mounted at /content/drive; to attempt to forcibly remount, call drive.mount(\"/content/drive\", force_remount=True).\n"
          ]
        }
      ]
    },
    {
      "cell_type": "code",
      "source": [
        "# input path in gDrive\n",
        "inputPath = '/content/drive/MyDrive/Lab 3/taxi-data'"
      ],
      "metadata": {
        "id": "eXUv7YLJAIxK"
      },
      "execution_count": null,
      "outputs": []
    },
    {
      "cell_type": "code",
      "source": [
        "# Check if we can access the data files\n",
        "import os\n",
        "os.listdir(inputPath)"
      ],
      "metadata": {
        "colab": {
          "base_uri": "https://localhost:8080/"
        },
        "id": "kVpuL4_9Hyo4",
        "outputId": "1b75acb1-7613-41a8-96d8-c053edb95b85"
      },
      "execution_count": null,
      "outputs": [
        {
          "output_type": "execute_result",
          "data": {
            "text/plain": [
              "['part-2015-12-01-1206.csv',\n",
              " 'part-2015-12-01-0435.csv',\n",
              " 'part-2015-12-01-0822.csv',\n",
              " 'part-2015-12-01-1549.csv',\n",
              " 'part-2015-12-01-1550.csv',\n",
              " 'part-2015-12-01-0320.csv',\n",
              " 'part-2015-12-01-1329.csv',\n",
              " 'part-2015-12-01-0205.csv',\n",
              " 'part-2015-12-01-1619.csv',\n",
              " 'part-2015-12-01-0017.csv',\n",
              " 'part-2015-12-01-0642.csv',\n",
              " 'part-2015-12-01-0827.csv',\n",
              " 'part-2015-12-01-2341.csv',\n",
              " 'part-2015-12-01-0855.csv',\n",
              " 'part-2015-12-01-0747.csv',\n",
              " 'part-2015-12-01-0136.csv',\n",
              " 'part-2015-12-01-0627.csv',\n",
              " 'part-2015-12-01-1631.csv',\n",
              " 'part-2015-12-01-0028.csv',\n",
              " 'part-2015-12-01-0801.csv',\n",
              " 'part-2015-12-01-0547.csv',\n",
              " 'part-2015-12-01-0030.csv',\n",
              " 'part-2015-12-01-0615.csv',\n",
              " 'part-2015-12-01-1400.csv',\n",
              " 'part-2015-12-01-0340.csv',\n",
              " 'part-2015-12-01-1023.csv',\n",
              " 'part-2015-12-01-2322.csv',\n",
              " 'part-2015-12-01-0116.csv',\n",
              " 'part-2015-12-01-1640.csv',\n",
              " 'part-2015-12-01-1117.csv',\n",
              " 'part-2015-12-01-1223.csv',\n",
              " 'part-2015-12-01-1606.csv',\n",
              " 'part-2015-12-01-1025.csv',\n",
              " 'part-2015-12-01-0423.csv',\n",
              " 'part-2015-12-01-2224.csv',\n",
              " 'part-2015-12-01-0202.csv',\n",
              " 'part-2015-12-01-1701.csv',\n",
              " 'part-2015-12-01-0958.csv',\n",
              " 'part-2015-12-01-2027.csv',\n",
              " 'part-2015-12-01-1843.csv',\n",
              " 'part-2015-12-01-1907.csv',\n",
              " 'part-2015-12-01-1412.csv',\n",
              " 'part-2015-12-01-2306.csv',\n",
              " 'part-2015-12-01-1243.csv',\n",
              " 'part-2015-12-01-0348.csv',\n",
              " 'part-2015-12-01-1546.csv',\n",
              " 'part-2015-12-01-1146.csv',\n",
              " 'part-2015-12-01-0100.csv',\n",
              " 'part-2015-12-01-1724.csv',\n",
              " 'part-2015-12-01-1155.csv',\n",
              " 'part-2015-12-01-1837.csv',\n",
              " 'part-2015-12-01-1805.csv',\n",
              " 'part-2015-12-01-2139.csv',\n",
              " 'part-2015-12-01-1101.csv',\n",
              " 'part-2015-12-01-2245.csv',\n",
              " 'part-2015-12-01-2107.csv',\n",
              " 'part-2015-12-01-1203.csv',\n",
              " 'part-2015-12-01-0241.csv',\n",
              " 'part-2015-12-01-0919.csv',\n",
              " 'part-2015-12-01-0009.csv',\n",
              " 'part-2015-12-01-0835.csv',\n",
              " 'part-2015-12-01-1903.csv',\n",
              " 'part-2015-12-01-1302.csv',\n",
              " 'part-2015-12-01-0206.csv',\n",
              " 'part-2015-12-01-0948.csv',\n",
              " 'part-2015-12-01-0840.csv',\n",
              " 'part-2015-12-01-0846.csv',\n",
              " 'part-2015-12-01-0607.csv',\n",
              " 'part-2015-12-01-1708.csv',\n",
              " 'part-2015-12-01-1122.csv',\n",
              " 'part-2015-12-01-1311.csv',\n",
              " 'part-2015-12-01-2202.csv',\n",
              " 'part-2015-12-01-0439.csv',\n",
              " 'part-2015-12-01-1130.csv',\n",
              " 'part-2015-12-01-1621.csv',\n",
              " 'part-2015-12-01-0559.csv',\n",
              " 'part-2015-12-01-0858.csv',\n",
              " 'part-2015-12-01-0336.csv',\n",
              " 'part-2015-12-01-0530.csv',\n",
              " 'part-2015-12-01-1333.csv',\n",
              " 'part-2015-12-01-1850.csv',\n",
              " 'part-2015-12-01-1452.csv',\n",
              " 'part-2015-12-01-0604.csv',\n",
              " 'part-2015-12-01-1520.csv',\n",
              " 'part-2015-12-01-2142.csv',\n",
              " 'part-2015-12-01-0406.csv',\n",
              " 'part-2015-12-01-0859.csv',\n",
              " 'part-2015-12-01-1316.csv',\n",
              " 'part-2015-12-01-0641.csv',\n",
              " 'part-2015-12-01-1617.csv',\n",
              " 'part-2015-12-01-2148.csv',\n",
              " 'part-2015-12-01-1448.csv',\n",
              " 'part-2015-12-01-1941.csv',\n",
              " 'part-2015-12-01-1501.csv',\n",
              " 'part-2015-12-01-1214.csv',\n",
              " 'part-2015-12-01-1251.csv',\n",
              " 'part-2015-12-01-1150.csv',\n",
              " 'part-2015-12-01-2233.csv',\n",
              " 'part-2015-12-01-0918.csv',\n",
              " 'part-2015-12-01-2326.csv',\n",
              " 'part-2015-12-01-0441.csv',\n",
              " 'part-2015-12-01-1001.csv',\n",
              " 'part-2015-12-01-1039.csv',\n",
              " 'part-2015-12-01-1238.csv',\n",
              " 'part-2015-12-01-1604.csv',\n",
              " 'part-2015-12-01-1637.csv',\n",
              " 'part-2015-12-01-1310.csv',\n",
              " 'part-2015-12-01-0713.csv',\n",
              " 'part-2015-12-01-1813.csv',\n",
              " 'part-2015-12-01-0242.csv',\n",
              " 'part-2015-12-01-0546.csv',\n",
              " 'part-2015-12-01-0343.csv',\n",
              " 'part-2015-12-01-1342.csv',\n",
              " 'part-2015-12-01-0727.csv',\n",
              " 'part-2015-12-01-2154.csv',\n",
              " 'part-2015-12-01-1927.csv',\n",
              " 'part-2015-12-01-0809.csv',\n",
              " 'part-2015-12-01-0623.csv',\n",
              " 'part-2015-12-01-2103.csv',\n",
              " 'part-2015-12-01-1118.csv',\n",
              " 'part-2015-12-01-1709.csv',\n",
              " 'part-2015-12-01-0335.csv',\n",
              " 'part-2015-12-01-1648.csv',\n",
              " 'part-2015-12-01-0925.csv',\n",
              " 'part-2015-12-01-0417.csv',\n",
              " 'part-2015-12-01-0526.csv',\n",
              " 'part-2015-12-01-0020.csv',\n",
              " 'part-2015-12-01-2048.csv',\n",
              " 'part-2015-12-01-0043.csv',\n",
              " 'part-2015-12-01-2017.csv',\n",
              " 'part-2015-12-01-1348.csv',\n",
              " 'part-2015-12-01-2232.csv',\n",
              " 'part-2015-12-01-2332.csv',\n",
              " 'part-2015-12-01-1343.csv',\n",
              " 'part-2015-12-01-0653.csv',\n",
              " 'part-2015-12-01-0047.csv',\n",
              " 'part-2015-12-01-0812.csv',\n",
              " 'part-2015-12-01-1635.csv',\n",
              " 'part-2015-12-01-0944.csv',\n",
              " 'part-2015-12-01-0157.csv',\n",
              " 'part-2015-12-01-0821.csv',\n",
              " 'part-2015-12-01-0126.csv',\n",
              " 'part-2015-12-01-2114.csv',\n",
              " 'part-2015-12-01-2316.csv',\n",
              " 'part-2015-12-01-0814.csv',\n",
              " 'part-2015-12-01-1625.csv',\n",
              " 'part-2015-12-01-2045.csv',\n",
              " 'part-2015-12-01-2344.csv',\n",
              " 'part-2015-12-01-1742.csv',\n",
              " 'part-2015-12-01-1911.csv',\n",
              " 'part-2015-12-01-1216.csv',\n",
              " 'part-2015-12-01-1748.csv',\n",
              " 'part-2015-12-01-0721.csv',\n",
              " 'part-2015-12-01-1921.csv',\n",
              " 'part-2015-12-01-2140.csv',\n",
              " 'part-2015-12-01-2359.csv',\n",
              " 'part-2015-12-01-1346.csv',\n",
              " 'part-2015-12-01-1004.csv',\n",
              " 'part-2015-12-01-1409.csv',\n",
              " 'part-2015-12-01-0235.csv',\n",
              " 'part-2015-12-01-0646.csv',\n",
              " 'part-2015-12-01-1529.csv',\n",
              " 'part-2015-12-01-1357.csv',\n",
              " 'part-2015-12-01-2052.csv',\n",
              " 'part-2015-12-01-0733.csv',\n",
              " 'part-2015-12-01-0002.csv',\n",
              " 'part-2015-12-01-1446.csv',\n",
              " 'part-2015-12-01-1324.csv',\n",
              " 'part-2015-12-01-1332.csv',\n",
              " 'part-2015-12-01-1221.csv',\n",
              " 'part-2015-12-01-0255.csv',\n",
              " 'part-2015-12-01-1000.csv',\n",
              " 'part-2015-12-01-1507.csv',\n",
              " 'part-2015-12-01-2333.csv',\n",
              " 'part-2015-12-01-0323.csv',\n",
              " 'part-2015-12-01-0907.csv',\n",
              " 'part-2015-12-01-0706.csv',\n",
              " 'part-2015-12-01-1743.csv',\n",
              " 'part-2015-12-01-0236.csv',\n",
              " 'part-2015-12-01-1627.csv',\n",
              " 'part-2015-12-01-1806.csv',\n",
              " 'part-2015-12-01-0554.csv',\n",
              " 'part-2015-12-01-1739.csv',\n",
              " 'part-2015-12-01-1723.csv',\n",
              " 'part-2015-12-01-1224.csv',\n",
              " 'part-2015-12-01-0458.csv',\n",
              " 'part-2015-12-01-0910.csv',\n",
              " 'part-2015-12-01-0145.csv',\n",
              " 'part-2015-12-01-0509.csv',\n",
              " 'part-2015-12-01-0038.csv',\n",
              " 'part-2015-12-01-1817.csv',\n",
              " 'part-2015-12-01-2235.csv',\n",
              " 'part-2015-12-01-0751.csv',\n",
              " 'part-2015-12-01-0648.csv',\n",
              " 'part-2015-12-01-1252.csv',\n",
              " 'part-2015-12-01-1351.csv',\n",
              " 'part-2015-12-01-1652.csv',\n",
              " 'part-2015-12-01-0825.csv',\n",
              " 'part-2015-12-01-2100.csv',\n",
              " 'part-2015-12-01-1207.csv',\n",
              " 'part-2015-12-01-2354.csv',\n",
              " 'part-2015-12-01-0903.csv',\n",
              " 'part-2015-12-01-2342.csv',\n",
              " 'part-2015-12-01-0928.csv',\n",
              " 'part-2015-12-01-0916.csv',\n",
              " 'part-2015-12-01-2201.csv',\n",
              " 'part-2015-12-01-1611.csv',\n",
              " 'part-2015-12-01-0010.csv',\n",
              " 'part-2015-12-01-0428.csv',\n",
              " 'part-2015-12-01-0738.csv',\n",
              " 'part-2015-12-01-2238.csv',\n",
              " 'part-2015-12-01-0517.csv',\n",
              " 'part-2015-12-01-1107.csv',\n",
              " 'part-2015-12-01-1514.csv',\n",
              " 'part-2015-12-01-2225.csv',\n",
              " 'part-2015-12-01-0635.csv',\n",
              " 'part-2015-12-01-1453.csv',\n",
              " 'part-2015-12-01-0550.csv',\n",
              " 'part-2015-12-01-0245.csv',\n",
              " 'part-2015-12-01-1307.csv',\n",
              " 'part-2015-12-01-0528.csv',\n",
              " 'part-2015-12-01-0446.csv',\n",
              " 'part-2015-12-01-2129.csv',\n",
              " 'part-2015-12-01-0640.csv',\n",
              " 'part-2015-12-01-0739.csv',\n",
              " 'part-2015-12-01-1547.csv',\n",
              " 'part-2015-12-01-1638.csv',\n",
              " 'part-2015-12-01-0841.csv',\n",
              " 'part-2015-12-01-0838.csv',\n",
              " 'part-2015-12-01-1121.csv',\n",
              " 'part-2015-12-01-0137.csv',\n",
              " 'part-2015-12-01-0901.csv',\n",
              " 'part-2015-12-01-1518.csv',\n",
              " 'part-2015-12-01-1917.csv',\n",
              " 'part-2015-12-01-0941.csv',\n",
              " 'part-2015-12-01-1600.csv',\n",
              " 'part-2015-12-01-2033.csv',\n",
              " 'part-2015-12-01-0222.csv',\n",
              " 'part-2015-12-01-0523.csv',\n",
              " 'part-2015-12-01-0611.csv',\n",
              " 'part-2015-12-01-1020.csv',\n",
              " 'part-2015-12-01-1510.csv',\n",
              " 'part-2015-12-01-1538.csv',\n",
              " 'part-2015-12-01-1347.csv',\n",
              " 'part-2015-12-01-0056.csv',\n",
              " 'part-2015-12-01-1642.csv',\n",
              " 'part-2015-12-01-2134.csv',\n",
              " 'part-2015-12-01-2215.csv',\n",
              " 'part-2015-12-01-0124.csv',\n",
              " 'part-2015-12-01-0912.csv',\n",
              " 'part-2015-12-01-0725.csv',\n",
              " 'part-2015-12-01-0434.csv',\n",
              " 'part-2015-12-01-0258.csv',\n",
              " 'part-2015-12-01-0404.csv',\n",
              " 'part-2015-12-01-0525.csv',\n",
              " 'part-2015-12-01-0143.csv',\n",
              " 'part-2015-12-01-0409.csv',\n",
              " 'part-2015-12-01-0804.csv',\n",
              " 'part-2015-12-01-1359.csv',\n",
              " 'part-2015-12-01-0051.csv',\n",
              " 'part-2015-12-01-1844.csv',\n",
              " 'part-2015-12-01-2228.csv',\n",
              " 'part-2015-12-01-0743.csv',\n",
              " 'part-2015-12-01-1825.csv',\n",
              " 'part-2015-12-01-1826.csv',\n",
              " 'part-2015-12-01-1058.csv',\n",
              " 'part-2015-12-01-1253.csv',\n",
              " 'part-2015-12-01-1608.csv',\n",
              " 'part-2015-12-01-0139.csv',\n",
              " 'part-2015-12-01-1327.csv',\n",
              " 'part-2015-12-01-0044.csv',\n",
              " 'part-2015-12-01-1902.csv',\n",
              " 'part-2015-12-01-2321.csv',\n",
              " 'part-2015-12-01-2028.csv',\n",
              " 'part-2015-12-01-1713.csv',\n",
              " 'part-2015-12-01-1138.csv',\n",
              " 'part-2015-12-01-1345.csv',\n",
              " 'part-2015-12-01-1845.csv',\n",
              " 'part-2015-12-01-1956.csv',\n",
              " 'part-2015-12-01-0210.csv',\n",
              " 'part-2015-12-01-2101.csv',\n",
              " 'part-2015-12-01-2015.csv',\n",
              " 'part-2015-12-01-2356.csv',\n",
              " 'part-2015-12-01-1416.csv',\n",
              " 'part-2015-12-01-0548.csv',\n",
              " 'part-2015-12-01-2243.csv',\n",
              " 'part-2015-12-01-1651.csv',\n",
              " 'part-2015-12-01-1525.csv',\n",
              " 'part-2015-12-01-0722.csv',\n",
              " 'part-2015-12-01-0240.csv',\n",
              " 'part-2015-12-01-2240.csv',\n",
              " 'part-2015-12-01-0930.csv',\n",
              " 'part-2015-12-01-0338.csv',\n",
              " 'part-2015-12-01-0229.csv',\n",
              " 'part-2015-12-01-2135.csv',\n",
              " 'part-2015-12-01-1220.csv',\n",
              " 'part-2015-12-01-1226.csv',\n",
              " 'part-2015-12-01-2327.csv',\n",
              " 'part-2015-12-01-1137.csv',\n",
              " 'part-2015-12-01-0021.csv',\n",
              " 'part-2015-12-01-0647.csv',\n",
              " 'part-2015-12-01-1028.csv',\n",
              " 'part-2015-12-01-1948.csv',\n",
              " 'part-2015-12-01-2236.csv',\n",
              " 'part-2015-12-01-1035.csv',\n",
              " 'part-2015-12-01-0026.csv',\n",
              " 'part-2015-12-01-1933.csv',\n",
              " 'part-2015-12-01-2328.csv',\n",
              " 'part-2015-12-01-2345.csv',\n",
              " 'part-2015-12-01-1853.csv',\n",
              " 'part-2015-12-01-1129.csv',\n",
              " 'part-2015-12-01-1432.csv',\n",
              " 'part-2015-12-01-1126.csv',\n",
              " 'part-2015-12-01-0308.csv',\n",
              " 'part-2015-12-01-0354.csv',\n",
              " 'part-2015-12-01-0357.csv',\n",
              " 'part-2015-12-01-1710.csv',\n",
              " 'part-2015-12-01-0820.csv',\n",
              " 'part-2015-12-01-1123.csv',\n",
              " 'part-2015-12-01-2234.csv',\n",
              " 'part-2015-12-01-0802.csv',\n",
              " 'part-2015-12-01-0443.csv',\n",
              " 'part-2015-12-01-0408.csv',\n",
              " 'part-2015-12-01-0942.csv',\n",
              " 'part-2015-12-01-1521.csv',\n",
              " 'part-2015-12-01-1913.csv',\n",
              " 'part-2015-12-01-0506.csv',\n",
              " 'part-2015-12-01-1922.csv',\n",
              " 'part-2015-12-01-1145.csv',\n",
              " 'part-2015-12-01-0141.csv',\n",
              " 'part-2015-12-01-1337.csv',\n",
              " 'part-2015-12-01-1854.csv',\n",
              " 'part-2015-12-01-0839.csv',\n",
              " 'part-2015-12-01-2206.csv',\n",
              " 'part-2015-12-01-2119.csv',\n",
              " 'part-2015-12-01-0505.csv',\n",
              " 'part-2015-12-01-1419.csv',\n",
              " 'part-2015-12-01-2044.csv',\n",
              " 'part-2015-12-01-2221.csv',\n",
              " 'part-2015-12-01-1620.csv',\n",
              " 'part-2015-12-01-1532.csv',\n",
              " 'part-2015-12-01-0726.csv',\n",
              " 'part-2015-12-01-1016.csv',\n",
              " 'part-2015-12-01-1404.csv',\n",
              " 'part-2015-12-01-2007.csv',\n",
              " 'part-2015-12-01-1711.csv',\n",
              " 'part-2015-12-01-0226.csv',\n",
              " 'part-2015-12-01-0142.csv',\n",
              " 'part-2015-12-01-1209.csv',\n",
              " 'part-2015-12-01-1319.csv',\n",
              " 'part-2015-12-01-2231.csv',\n",
              " 'part-2015-12-01-0832.csv',\n",
              " 'part-2015-12-01-1819.csv',\n",
              " 'part-2015-12-01-0224.csv',\n",
              " 'part-2015-12-01-0754.csv',\n",
              " 'part-2015-12-01-0806.csv',\n",
              " 'part-2015-12-01-2150.csv',\n",
              " 'part-2015-12-01-1552.csv',\n",
              " 'part-2015-12-01-2128.csv',\n",
              " 'part-2015-12-01-1511.csv',\n",
              " 'part-2015-12-01-1237.csv',\n",
              " 'part-2015-12-01-2308.csv',\n",
              " 'part-2015-12-01-1144.csv',\n",
              " 'part-2015-12-01-1802.csv',\n",
              " 'part-2015-12-01-0737.csv',\n",
              " 'part-2015-12-01-1403.csv',\n",
              " 'part-2015-12-01-1741.csv',\n",
              " 'part-2015-12-01-1943.csv',\n",
              " 'part-2015-12-01-0200.csv',\n",
              " 'part-2015-12-01-0753.csv',\n",
              " 'part-2015-12-01-2112.csv',\n",
              " 'part-2015-12-01-1851.csv',\n",
              " 'part-2015-12-01-1430.csv',\n",
              " 'part-2015-12-01-1417.csv',\n",
              " 'part-2015-12-01-0212.csv',\n",
              " 'part-2015-12-01-1052.csv',\n",
              " 'part-2015-12-01-0234.csv',\n",
              " 'part-2015-12-01-1057.csv',\n",
              " 'part-2015-12-01-2244.csv',\n",
              " 'part-2015-12-01-1644.csv',\n",
              " 'part-2015-12-01-1013.csv',\n",
              " 'part-2015-12-01-0729.csv',\n",
              " 'part-2015-12-01-0504.csv',\n",
              " 'part-2015-12-01-0211.csv',\n",
              " 'part-2015-12-01-1258.csv',\n",
              " 'part-2015-12-01-1210.csv',\n",
              " 'part-2015-12-01-2317.csv',\n",
              " 'part-2015-12-01-0208.csv',\n",
              " 'part-2015-12-01-1602.csv',\n",
              " 'part-2015-12-01-1148.csv',\n",
              " 'part-2015-12-01-2133.csv',\n",
              " 'part-2015-12-01-0031.csv',\n",
              " 'part-2015-12-01-1804.csv',\n",
              " 'part-2015-12-01-0924.csv',\n",
              " 'part-2015-12-01-1119.csv',\n",
              " 'part-2015-12-01-0534.csv',\n",
              " 'part-2015-12-01-0625.csv',\n",
              " 'part-2015-12-01-0150.csv',\n",
              " 'part-2015-12-01-1930.csv',\n",
              " 'part-2015-12-01-1131.csv',\n",
              " 'part-2015-12-01-1135.csv',\n",
              " 'part-2015-12-01-1139.csv',\n",
              " 'part-2015-12-01-0544.csv',\n",
              " 'part-2015-12-01-0003.csv',\n",
              " 'part-2015-12-01-0133.csv',\n",
              " 'part-2015-12-01-0256.csv',\n",
              " 'part-2015-12-01-0203.csv',\n",
              " 'part-2015-12-01-1937.csv',\n",
              " 'part-2015-12-01-1438.csv',\n",
              " 'part-2015-12-01-2330.csv',\n",
              " 'part-2015-12-01-2358.csv',\n",
              " 'part-2015-12-01-1051.csv',\n",
              " 'part-2015-12-01-1201.csv',\n",
              " 'part-2015-12-01-0437.csv',\n",
              " 'part-2015-12-01-1009.csv',\n",
              " 'part-2015-12-01-0040.csv',\n",
              " 'part-2015-12-01-1439.csv',\n",
              " 'part-2015-12-01-0438.csv',\n",
              " 'part-2015-12-01-0507.csv',\n",
              " 'part-2015-12-01-0957.csv',\n",
              " 'part-2015-12-01-1626.csv',\n",
              " 'part-2015-12-01-2318.csv',\n",
              " 'part-2015-12-01-0414.csv',\n",
              " 'part-2015-12-01-1427.csv',\n",
              " 'part-2015-12-01-1259.csv',\n",
              " 'part-2015-12-01-2118.csv',\n",
              " 'part-2015-12-01-0939.csv',\n",
              " 'part-2015-12-01-1513.csv',\n",
              " 'part-2015-12-01-0419.csv',\n",
              " 'part-2015-12-01-0000.csv',\n",
              " 'part-2015-12-01-1910.csv',\n",
              " 'part-2015-12-01-0322.csv',\n",
              " 'part-2015-12-01-0826.csv',\n",
              " 'part-2015-12-01-0657.csv',\n",
              " 'part-2015-12-01-1601.csv',\n",
              " 'part-2015-12-01-0624.csv',\n",
              " 'part-2015-12-01-1402.csv',\n",
              " 'part-2015-12-01-1205.csv',\n",
              " 'part-2015-12-01-0512.csv',\n",
              " 'part-2015-12-01-0217.csv',\n",
              " 'part-2015-12-01-2311.csv',\n",
              " 'part-2015-12-01-1614.csv',\n",
              " 'part-2015-12-01-1752.csv',\n",
              " 'part-2015-12-01-2313.csv',\n",
              " 'part-2015-12-01-2050.csv',\n",
              " 'part-2015-12-01-0601.csv',\n",
              " 'part-2015-12-01-2149.csv',\n",
              " 'part-2015-12-01-0228.csv',\n",
              " 'part-2015-12-01-0927.csv',\n",
              " 'part-2015-12-01-1523.csv',\n",
              " 'part-2015-12-01-0537.csv',\n",
              " 'part-2015-12-01-0301.csv',\n",
              " 'part-2015-12-01-0310.csv',\n",
              " 'part-2015-12-01-1751.csv',\n",
              " 'part-2015-12-01-1832.csv',\n",
              " 'part-2015-12-01-1014.csv',\n",
              " 'part-2015-12-01-1810.csv',\n",
              " 'part-2015-12-01-2025.csv',\n",
              " 'part-2015-12-01-1750.csv',\n",
              " 'part-2015-12-01-0041.csv',\n",
              " 'part-2015-12-01-0950.csv',\n",
              " 'part-2015-12-01-1500.csv',\n",
              " 'part-2015-12-01-0334.csv',\n",
              " 'part-2015-12-01-1852.csv',\n",
              " 'part-2015-12-01-0316.csv',\n",
              " 'part-2015-12-01-1954.csv',\n",
              " 'part-2015-12-01-1442.csv',\n",
              " 'part-2015-12-01-0558.csv',\n",
              " 'part-2015-12-01-2258.csv',\n",
              " 'part-2015-12-01-1746.csv',\n",
              " 'part-2015-12-01-0932.csv',\n",
              " 'part-2015-12-01-0257.csv',\n",
              " 'part-2015-12-01-2223.csv',\n",
              " 'part-2015-12-01-1645.csv',\n",
              " 'part-2015-12-01-1718.csv',\n",
              " 'part-2015-12-01-0709.csv',\n",
              " 'part-2015-12-01-0757.csv',\n",
              " 'part-2015-12-01-0552.csv',\n",
              " 'part-2015-12-01-0432.csv',\n",
              " 'part-2015-12-01-2034.csv',\n",
              " 'part-2015-12-01-1411.csv',\n",
              " 'part-2015-12-01-0324.csv',\n",
              " 'part-2015-12-01-0515.csv',\n",
              " 'part-2015-12-01-2031.csv',\n",
              " 'part-2015-12-01-1151.csv',\n",
              " 'part-2015-12-01-2009.csv',\n",
              " 'part-2015-12-01-2002.csv',\n",
              " 'part-2015-12-01-1730.csv',\n",
              " 'part-2015-12-01-0430.csv',\n",
              " 'part-2015-12-01-1727.csv',\n",
              " 'part-2015-12-01-0553.csv',\n",
              " 'part-2015-12-01-0427.csv',\n",
              " 'part-2015-12-01-2353.csv',\n",
              " 'part-2015-12-01-2256.csv',\n",
              " 'part-2015-12-01-1445.csv',\n",
              " 'part-2015-12-01-1753.csv',\n",
              " 'part-2015-12-01-0522.csv',\n",
              " 'part-2015-12-01-1426.csv',\n",
              " 'part-2015-12-01-2347.csv',\n",
              " 'part-2015-12-01-1551.csv',\n",
              " 'part-2015-12-01-0148.csv',\n",
              " 'part-2015-12-01-2039.csv',\n",
              " 'part-2015-12-01-2110.csv',\n",
              " 'part-2015-12-01-1255.csv',\n",
              " 'part-2015-12-01-0413.csv',\n",
              " 'part-2015-12-01-0513.csv',\n",
              " 'part-2015-12-01-0712.csv',\n",
              " 'part-2015-12-01-1609.csv',\n",
              " 'part-2015-12-01-0401.csv',\n",
              " 'part-2015-12-01-0130.csv',\n",
              " 'part-2015-12-01-0811.csv',\n",
              " 'part-2015-12-01-0315.csv',\n",
              " 'part-2015-12-01-2001.csv',\n",
              " 'part-2015-12-01-1929.csv',\n",
              " 'part-2015-12-01-2205.csv',\n",
              " 'part-2015-12-01-1133.csv',\n",
              " 'part-2015-12-01-1641.csv',\n",
              " 'part-2015-12-01-0556.csv',\n",
              " 'part-2015-12-01-1537.csv',\n",
              " 'part-2015-12-01-1053.csv',\n",
              " 'part-2015-12-01-1719.csv',\n",
              " 'part-2015-12-01-0954.csv',\n",
              " 'part-2015-12-01-1735.csv',\n",
              " 'part-2015-12-01-0542.csv',\n",
              " 'part-2015-12-01-0650.csv',\n",
              " 'part-2015-12-01-0014.csv',\n",
              " 'part-2015-12-01-1636.csv',\n",
              " 'part-2015-12-01-1726.csv',\n",
              " 'part-2015-12-01-0905.csv',\n",
              " 'part-2015-12-01-0613.csv',\n",
              " 'part-2015-12-01-0508.csv',\n",
              " 'part-2015-12-01-2130.csv',\n",
              " 'part-2015-12-01-0545.csv',\n",
              " 'part-2015-12-01-0016.csv',\n",
              " 'part-2015-12-01-2301.csv',\n",
              " 'part-2015-12-01-1208.csv',\n",
              " 'part-2015-12-01-1410.csv',\n",
              " 'part-2015-12-01-2049.csv',\n",
              " 'part-2015-12-01-1246.csv',\n",
              " 'part-2015-12-01-0645.csv',\n",
              " 'part-2015-12-01-1147.csv',\n",
              " 'part-2015-12-01-1556.csv',\n",
              " 'part-2015-12-01-2109.csv',\n",
              " 'part-2015-12-01-1657.csv',\n",
              " 'part-2015-12-01-1232.csv',\n",
              " 'part-2015-12-01-1935.csv',\n",
              " 'part-2015-12-01-0540.csv',\n",
              " 'part-2015-12-01-1033.csv',\n",
              " 'part-2015-12-01-0110.csv',\n",
              " 'part-2015-12-01-2251.csv',\n",
              " 'part-2015-12-01-0250.csv',\n",
              " 'part-2015-12-01-0113.csv',\n",
              " 'part-2015-12-01-0708.csv',\n",
              " 'part-2015-12-01-1142.csv',\n",
              " 'part-2015-12-01-2153.csv',\n",
              " 'part-2015-12-01-0457.csv',\n",
              " 'part-2015-12-01-1615.csv',\n",
              " 'part-2015-12-01-1112.csv',\n",
              " 'part-2015-12-01-0448.csv',\n",
              " 'part-2015-12-01-0418.csv',\n",
              " 'part-2015-12-01-0543.csv',\n",
              " 'part-2015-12-01-0039.csv',\n",
              " 'part-2015-12-01-1522.csv',\n",
              " 'part-2015-12-01-0631.csv',\n",
              " 'part-2015-12-01-2059.csv',\n",
              " 'part-2015-12-01-1449.csv',\n",
              " 'part-2015-12-01-0532.csv',\n",
              " 'part-2015-12-01-1043.csv',\n",
              " 'part-2015-12-01-0651.csv',\n",
              " 'part-2015-12-01-2055.csv',\n",
              " 'part-2015-12-01-1947.csv',\n",
              " 'part-2015-12-01-0715.csv',\n",
              " 'part-2015-12-01-0617.csv',\n",
              " 'part-2015-12-01-0931.csv',\n",
              " 'part-2015-12-01-1007.csv',\n",
              " 'part-2015-12-01-1435.csv',\n",
              " 'part-2015-12-01-2324.csv',\n",
              " 'part-2015-12-01-1505.csv',\n",
              " 'part-2015-12-01-1105.csv',\n",
              " 'part-2015-12-01-2200.csv',\n",
              " 'part-2015-12-01-1830.csv',\n",
              " 'part-2015-12-01-0442.csv',\n",
              " 'part-2015-12-01-1944.csv',\n",
              " 'part-2015-12-01-0050.csv',\n",
              " 'part-2015-12-01-2220.csv',\n",
              " 'part-2015-12-01-1100.csv',\n",
              " 'part-2015-12-01-0746.csv',\n",
              " 'part-2015-12-01-0450.csv',\n",
              " 'part-2015-12-01-1350.csv',\n",
              " 'part-2015-12-01-0718.csv',\n",
              " 'part-2015-12-01-0313.csv',\n",
              " 'part-2015-12-01-2157.csv',\n",
              " 'part-2015-12-01-2208.csv',\n",
              " 'part-2015-12-01-1113.csv',\n",
              " 'part-2015-12-01-0337.csv',\n",
              " 'part-2015-12-01-0549.csv',\n",
              " 'part-2015-12-01-0436.csv',\n",
              " 'part-2015-12-01-2054.csv',\n",
              " 'part-2015-12-01-0328.csv',\n",
              " 'part-2015-12-01-1557.csv',\n",
              " 'part-2015-12-01-1755.csv',\n",
              " 'part-2015-12-01-1655.csv',\n",
              " 'part-2015-12-01-2022.csv',\n",
              " 'part-2015-12-01-0819.csv',\n",
              " 'part-2015-12-01-2351.csv',\n",
              " 'part-2015-12-01-0158.csv',\n",
              " 'part-2015-12-01-1015.csv',\n",
              " 'part-2015-12-01-2357.csv',\n",
              " 'part-2015-12-01-2143.csv',\n",
              " 'part-2015-12-01-1229.csv',\n",
              " 'part-2015-12-01-1322.csv',\n",
              " 'part-2015-12-01-1818.csv',\n",
              " 'part-2015-12-01-0842.csv',\n",
              " 'part-2015-12-01-2104.csv',\n",
              " 'part-2015-12-01-0852.csv',\n",
              " 'part-2015-12-01-0813.csv',\n",
              " 'part-2015-12-01-2013.csv',\n",
              " 'part-2015-12-01-0332.csv',\n",
              " 'part-2015-12-01-0730.csv',\n",
              " 'part-2015-12-01-0259.csv',\n",
              " 'part-2015-12-01-0620.csv',\n",
              " 'part-2015-12-01-2159.csv',\n",
              " 'part-2015-12-01-0824.csv',\n",
              " 'part-2015-12-01-1325.csv',\n",
              " 'part-2015-12-01-1828.csv',\n",
              " 'part-2015-12-01-0440.csv',\n",
              " 'part-2015-12-01-0557.csv',\n",
              " 'part-2015-12-01-0911.csv',\n",
              " 'part-2015-12-01-1618.csv',\n",
              " 'part-2015-12-01-1504.csv',\n",
              " 'part-2015-12-01-0403.csv',\n",
              " 'part-2015-12-01-0347.csv',\n",
              " 'part-2015-12-01-0612.csv',\n",
              " 'part-2015-12-01-1455.csv',\n",
              " 'part-2015-12-01-1301.csv',\n",
              " 'part-2015-12-01-1443.csv',\n",
              " 'part-2015-12-01-1842.csv',\n",
              " 'part-2015-12-01-0243.csv',\n",
              " 'part-2015-12-01-0045.csv',\n",
              " 'part-2015-12-01-1436.csv',\n",
              " 'part-2015-12-01-0350.csv',\n",
              " 'part-2015-12-01-0935.csv',\n",
              " 'part-2015-12-01-1204.csv',\n",
              " 'part-2015-12-01-0351.csv',\n",
              " 'part-2015-12-01-0816.csv',\n",
              " 'part-2015-12-01-2051.csv',\n",
              " 'part-2015-12-01-2302.csv',\n",
              " 'part-2015-12-01-2212.csv',\n",
              " 'part-2015-12-01-0216.csv',\n",
              " 'part-2015-12-01-2030.csv',\n",
              " 'part-2015-12-01-1531.csv',\n",
              " 'part-2015-12-01-2349.csv',\n",
              " 'part-2015-12-01-2113.csv',\n",
              " 'part-2015-12-01-1349.csv',\n",
              " 'part-2015-12-01-1545.csv',\n",
              " 'part-2015-12-01-1235.csv',\n",
              " 'part-2015-12-01-0037.csv',\n",
              " 'part-2015-12-01-1056.csv',\n",
              " 'part-2015-12-01-0221.csv',\n",
              " 'part-2015-12-01-0318.csv',\n",
              " 'part-2015-12-01-2053.csv',\n",
              " 'part-2015-12-01-0306.csv',\n",
              " 'part-2015-12-01-0327.csv',\n",
              " 'part-2015-12-01-0049.csv',\n",
              " 'part-2015-12-01-0129.csv',\n",
              " 'part-2015-12-01-2152.csv',\n",
              " 'part-2015-12-01-1846.csv',\n",
              " 'part-2015-12-01-1314.csv',\n",
              " 'part-2015-12-01-0755.csv',\n",
              " 'part-2015-12-01-0238.csv',\n",
              " 'part-2015-12-01-0830.csv',\n",
              " 'part-2015-12-01-0309.csv',\n",
              " 'part-2015-12-01-0758.csv',\n",
              " 'part-2015-12-01-2038.csv',\n",
              " 'part-2015-12-01-0700.csv',\n",
              " 'part-2015-12-01-0938.csv',\n",
              " 'part-2015-12-01-2137.csv',\n",
              " 'part-2015-12-01-1340.csv',\n",
              " 'part-2015-12-01-0808.csv',\n",
              " 'part-2015-12-01-1407.csv',\n",
              " 'part-2015-12-01-1949.csv',\n",
              " 'part-2015-12-01-2021.csv',\n",
              " 'part-2015-12-01-1931.csv',\n",
              " 'part-2015-12-01-0744.csv',\n",
              " 'part-2015-12-01-1245.csv',\n",
              " 'part-2015-12-01-1754.csv',\n",
              " 'part-2015-12-01-0731.csv',\n",
              " 'part-2015-12-01-2217.csv',\n",
              " 'part-2015-12-01-1157.csv',\n",
              " 'part-2015-12-01-2041.csv',\n",
              " 'part-2015-12-01-1807.csv',\n",
              " 'part-2015-12-01-0501.csv',\n",
              " 'part-2015-12-01-1502.csv',\n",
              " 'part-2015-12-01-0914.csv',\n",
              " 'part-2015-12-01-1544.csv',\n",
              " 'part-2015-12-01-0027.csv',\n",
              " 'part-2015-12-01-1031.csv',\n",
              " 'part-2015-12-01-0949.csv',\n",
              " 'part-2015-12-01-2011.csv',\n",
              " 'part-2015-12-01-1702.csv',\n",
              " 'part-2015-12-01-0845.csv',\n",
              " 'part-2015-12-01-2247.csv',\n",
              " 'part-2015-12-01-2255.csv',\n",
              " 'part-2015-12-01-1447.csv',\n",
              " 'part-2015-12-01-0630.csv',\n",
              " 'part-2015-12-01-0011.csv',\n",
              " 'part-2015-12-01-1540.csv',\n",
              " 'part-2015-12-01-1036.csv',\n",
              " 'part-2015-12-01-2138.csv',\n",
              " 'part-2015-12-01-0956.csv',\n",
              " 'part-2015-12-01-0606.csv',\n",
              " 'part-2015-12-01-1236.csv',\n",
              " 'part-2015-12-01-2204.csv',\n",
              " 'part-2015-12-01-1249.csv',\n",
              " 'part-2015-12-01-0304.csv',\n",
              " 'part-2015-12-01-0058.csv',\n",
              " 'part-2015-12-01-0803.csv',\n",
              " 'part-2015-12-01-0127.csv',\n",
              " 'part-2015-12-01-0220.csv',\n",
              " 'part-2015-12-01-2339.csv',\n",
              " 'part-2015-12-01-1623.csv',\n",
              " 'part-2015-12-01-1047.csv',\n",
              " 'part-2015-12-01-1421.csv',\n",
              " 'part-2015-12-01-1530.csv',\n",
              " 'part-2015-12-01-0710.csv',\n",
              " 'part-2015-12-01-0922.csv',\n",
              " 'part-2015-12-01-0231.csv',\n",
              " 'part-2015-12-01-1127.csv',\n",
              " 'part-2015-12-01-0909.csv',\n",
              " 'part-2015-12-01-1950.csv',\n",
              " 'part-2015-12-01-0539.csv',\n",
              " 'part-2015-12-01-2219.csv',\n",
              " 'part-2015-12-01-2127.csv',\n",
              " 'part-2015-12-01-1418.csv',\n",
              " 'part-2015-12-01-0913.csv',\n",
              " 'part-2015-12-01-0223.csv',\n",
              " 'part-2015-12-01-0823.csv',\n",
              " 'part-2015-12-01-0345.csv',\n",
              " 'part-2015-12-01-0254.csv',\n",
              " 'part-2015-12-01-0459.csv',\n",
              " 'part-2015-12-01-2248.csv',\n",
              " 'part-2015-12-01-2211.csv',\n",
              " 'part-2015-12-01-1102.csv',\n",
              " 'part-2015-12-01-0538.csv',\n",
              " 'part-2015-12-01-0405.csv',\n",
              " 'part-2015-12-01-2035.csv',\n",
              " 'part-2015-12-01-1018.csv',\n",
              " 'part-2015-12-01-0929.csv',\n",
              " 'part-2015-12-01-2032.csv',\n",
              " 'part-2015-12-01-0237.csv',\n",
              " 'part-2015-12-01-0059.csv',\n",
              " 'part-2015-12-01-2307.csv',\n",
              " 'part-2015-12-01-1905.csv',\n",
              " 'part-2015-12-01-2136.csv',\n",
              " 'part-2015-12-01-0952.csv',\n",
              " 'part-2015-12-01-1250.csv',\n",
              " 'part-2015-12-01-0915.csv',\n",
              " 'part-2015-12-01-1934.csv',\n",
              " 'part-2015-12-01-1134.csv',\n",
              " 'part-2015-12-01-0917.csv',\n",
              " 'part-2015-12-01-2043.csv',\n",
              " 'part-2015-12-01-0605.csv',\n",
              " 'part-2015-12-01-2125.csv',\n",
              " 'part-2015-12-01-1136.csv',\n",
              " 'part-2015-12-01-1916.csv',\n",
              " 'part-2015-12-01-2131.csv',\n",
              " 'part-2015-12-01-0410.csv',\n",
              " 'part-2015-12-01-1616.csv',\n",
              " 'part-2015-12-01-2156.csv',\n",
              " 'part-2015-12-01-1506.csv',\n",
              " 'part-2015-12-01-0053.csv',\n",
              " 'part-2015-12-01-2312.csv',\n",
              " 'part-2015-12-01-1202.csv',\n",
              " 'part-2015-12-01-0654.csv',\n",
              " 'part-2015-12-01-0807.csv',\n",
              " 'part-2015-12-01-0447.csv',\n",
              " 'part-2015-12-01-1300.csv',\n",
              " 'part-2015-12-01-0247.csv',\n",
              " 'part-2015-12-01-1234.csv',\n",
              " 'part-2015-12-01-0356.csv',\n",
              " 'part-2015-12-01-0411.csv',\n",
              " 'part-2015-12-01-2151.csv',\n",
              " 'part-2015-12-01-0201.csv',\n",
              " 'part-2015-12-01-0614.csv',\n",
              " 'part-2015-12-01-1722.csv',\n",
              " 'part-2015-12-01-0227.csv',\n",
              " 'part-2015-12-01-0634.csv',\n",
              " 'part-2015-12-01-0052.csv',\n",
              " 'part-2015-12-01-0945.csv',\n",
              " 'part-2015-12-01-1257.csv',\n",
              " 'part-2015-12-01-0837.csv',\n",
              " 'part-2015-12-01-2144.csv',\n",
              " 'part-2015-12-01-0520.csv',\n",
              " 'part-2015-12-01-1110.csv',\n",
              " 'part-2015-12-01-1628.csv',\n",
              " 'part-2015-12-01-2315.csv',\n",
              " 'part-2015-12-01-1906.csv',\n",
              " 'part-2015-12-01-2102.csv',\n",
              " 'part-2015-12-01-0144.csv',\n",
              " 'part-2015-12-01-0121.csv',\n",
              " 'part-2015-12-01-0649.csv',\n",
              " 'part-2015-12-01-0246.csv',\n",
              " 'part-2015-12-01-1951.csv',\n",
              " 'part-2015-12-01-1029.csv',\n",
              " 'part-2015-12-01-1629.csv',\n",
              " 'part-2015-12-01-1011.csv',\n",
              " 'part-2015-12-01-2042.csv',\n",
              " 'part-2015-12-01-0610.csv',\n",
              " 'part-2015-12-01-1230.csv',\n",
              " 'part-2015-12-01-0123.csv',\n",
              " 'part-2015-12-01-0004.csv',\n",
              " 'part-2015-12-01-0218.csv',\n",
              " 'part-2015-12-01-0535.csv',\n",
              " 'part-2015-12-01-0213.csv',\n",
              " 'part-2015-12-01-0717.csv',\n",
              " 'part-2015-12-01-0644.csv',\n",
              " 'part-2015-12-01-2254.csv',\n",
              " 'part-2015-12-01-1108.csv',\n",
              " 'part-2015-12-01-0829.csv',\n",
              " 'part-2015-12-01-2117.csv',\n",
              " 'part-2015-12-01-0851.csv',\n",
              " 'part-2015-12-01-1932.csv',\n",
              " 'part-2015-12-01-0659.csv',\n",
              " 'part-2015-12-01-1055.csv',\n",
              " 'part-2015-12-01-2242.csv',\n",
              " 'part-2015-12-01-0253.csv',\n",
              " 'part-2015-12-01-0748.csv',\n",
              " 'part-2015-12-01-2123.csv',\n",
              " 'part-2015-12-01-0750.csv',\n",
              " 'part-2015-12-01-1955.csv',\n",
              " 'part-2015-12-01-0431.csv',\n",
              " 'part-2015-12-01-1152.csv',\n",
              " 'part-2015-12-01-2014.csv',\n",
              " 'part-2015-12-01-1756.csv',\n",
              " 'part-2015-12-01-2019.csv',\n",
              " 'part-2015-12-01-1836.csv',\n",
              " 'part-2015-12-01-2310.csv',\n",
              " 'part-2015-12-01-0055.csv',\n",
              " 'part-2015-12-01-1005.csv',\n",
              " 'part-2015-12-01-1256.csv',\n",
              " 'part-2015-12-01-0107.csv',\n",
              " 'part-2015-12-01-1945.csv',\n",
              " 'part-2015-12-01-0108.csv',\n",
              " 'part-2015-12-01-1106.csv',\n",
              " 'part-2015-12-01-1425.csv',\n",
              " 'part-2015-12-01-0024.csv',\n",
              " 'part-2015-12-01-0033.csv',\n",
              " 'part-2015-12-01-1812.csv',\n",
              " 'part-2015-12-01-0307.csv',\n",
              " 'part-2015-12-01-0454.csv',\n",
              " 'part-2015-12-01-1957.csv',\n",
              " 'part-2015-12-01-1429.csv',\n",
              " 'part-2015-12-01-1017.csv',\n",
              " 'part-2015-12-01-1022.csv',\n",
              " 'part-2015-12-01-2218.csv',\n",
              " 'part-2015-12-01-1539.csv',\n",
              " 'part-2015-12-01-0704.csv',\n",
              " 'part-2015-12-01-1059.csv',\n",
              " 'part-2015-12-01-0923.csv',\n",
              " 'part-2015-12-01-1849.csv',\n",
              " 'part-2015-12-01-0131.csv',\n",
              " 'part-2015-12-01-2334.csv',\n",
              " 'part-2015-12-01-1811.csv',\n",
              " 'part-2015-12-01-1444.csv',\n",
              " 'part-2015-12-01-1330.csv',\n",
              " 'part-2015-12-01-1816.csv',\n",
              " 'part-2015-12-01-1656.csv',\n",
              " 'part-2015-12-01-2237.csv',\n",
              " 'part-2015-12-01-0503.csv',\n",
              " 'part-2015-12-01-2207.csv',\n",
              " 'part-2015-12-01-2305.csv',\n",
              " 'part-2015-12-01-1415.csv',\n",
              " 'part-2015-12-01-1434.csv',\n",
              " 'part-2015-12-01-2018.csv',\n",
              " 'part-2015-12-01-1354.csv',\n",
              " 'part-2015-12-01-1115.csv',\n",
              " 'part-2015-12-01-0214.csv',\n",
              " 'part-2015-12-01-0333.csv',\n",
              " 'part-2015-12-01-1706.csv',\n",
              " 'part-2015-12-01-0344.csv',\n",
              " 'part-2015-12-01-0319.csv',\n",
              " 'part-2015-12-01-0828.csv',\n",
              " 'part-2015-12-01-0716.csv',\n",
              " 'part-2015-12-01-1747.csv',\n",
              " 'part-2015-12-01-1535.csv',\n",
              " 'part-2015-12-01-2257.csv',\n",
              " 'part-2015-12-01-1541.csv',\n",
              " 'part-2015-12-01-0146.csv',\n",
              " 'part-2015-12-01-0433.csv',\n",
              " 'part-2015-12-01-0608.csv',\n",
              " 'part-2015-12-01-0629.csv',\n",
              " 'part-2015-12-01-2336.csv',\n",
              " 'part-2015-12-01-1734.csv',\n",
              " 'part-2015-12-01-2325.csv',\n",
              " 'part-2015-12-01-0424.csv',\n",
              " 'part-2015-12-01-0904.csv',\n",
              " 'part-2015-12-01-0745.csv',\n",
              " 'part-2015-12-01-0119.csv',\n",
              " 'part-2015-12-01-1037.csv',\n",
              " 'part-2015-12-01-0959.csv',\n",
              " 'part-2015-12-01-1519.csv',\n",
              " 'part-2015-12-01-0106.csv',\n",
              " 'part-2015-12-01-0025.csv',\n",
              " 'part-2015-12-01-0132.csv',\n",
              " 'part-2015-12-01-0305.csv',\n",
              " 'part-2015-12-01-1515.csv',\n",
              " 'part-2015-12-01-0843.csv',\n",
              " 'part-2015-12-01-0153.csv',\n",
              " 'part-2015-12-01-0934.csv',\n",
              " 'part-2015-12-01-0711.csv',\n",
              " 'part-2015-12-01-0541.csv',\n",
              " 'part-2015-12-01-1839.csv',\n",
              " 'part-2015-12-01-0817.csv',\n",
              " 'part-2015-12-01-1233.csv',\n",
              " 'part-2015-12-01-1603.csv',\n",
              " 'part-2015-12-01-0022.csv',\n",
              " 'part-2015-12-01-1026.csv',\n",
              " 'part-2015-12-01-1225.csv',\n",
              " 'part-2015-12-01-2338.csv',\n",
              " 'part-2015-12-01-1401.csv',\n",
              " 'part-2015-12-01-0453.csv',\n",
              " 'part-2015-12-01-1450.csv',\n",
              " 'part-2015-12-01-0339.csv',\n",
              " 'part-2015-12-01-1647.csv',\n",
              " 'part-2015-12-01-0703.csv',\n",
              " 'part-2015-12-01-1856.csv',\n",
              " 'part-2015-12-01-0936.csv',\n",
              " 'part-2015-12-01-1218.csv',\n",
              " 'part-2015-12-01-0425.csv',\n",
              " 'part-2015-12-01-1714.csv',\n",
              " 'part-2015-12-01-0449.csv',\n",
              " 'part-2015-12-01-1534.csv',\n",
              " 'part-2015-12-01-1900.csv',\n",
              " 'part-2015-12-01-1622.csv',\n",
              " 'part-2015-12-01-2020.csv',\n",
              " 'part-2015-12-01-2227.csv',\n",
              " 'part-2015-12-01-1634.csv',\n",
              " 'part-2015-12-01-0719.csv',\n",
              " 'part-2015-12-01-1048.csv',\n",
              " 'part-2015-12-01-0618.csv',\n",
              " 'part-2015-12-01-0536.csv',\n",
              " 'part-2015-12-01-0636.csv',\n",
              " 'part-2015-12-01-1959.csv',\n",
              " 'part-2015-12-01-0118.csv',\n",
              " 'part-2015-12-01-0035.csv',\n",
              " 'part-2015-12-01-2012.csv',\n",
              " 'part-2015-12-01-1143.csv',\n",
              " 'part-2015-12-01-1046.csv',\n",
              " 'part-2015-12-01-1658.csv',\n",
              " 'part-2015-12-01-2319.csv',\n",
              " 'part-2015-12-01-2203.csv',\n",
              " 'part-2015-12-01-0232.csv',\n",
              " 'part-2015-12-01-0736.csv',\n",
              " 'part-2015-12-01-2047.csv',\n",
              " 'part-2015-12-01-1328.csv',\n",
              " 'part-2015-12-01-1408.csv',\n",
              " 'part-2015-12-01-0921.csv',\n",
              " 'part-2015-12-01-1654.csv',\n",
              " 'part-2015-12-01-1855.csv',\n",
              " 'part-2015-12-01-2304.csv',\n",
              " 'part-2015-12-01-0514.csv',\n",
              " 'part-2015-12-01-0619.csv',\n",
              " 'part-2015-12-01-2121.csv',\n",
              " 'part-2015-12-01-0349.csv',\n",
              " 'part-2015-12-01-2323.csv',\n",
              " 'part-2015-12-01-1914.csv',\n",
              " 'part-2015-12-01-0420.csv',\n",
              " 'part-2015-12-01-1358.csv',\n",
              " 'part-2015-12-01-0311.csv',\n",
              " 'part-2015-12-01-0008.csv',\n",
              " 'part-2015-12-01-0122.csv',\n",
              " 'part-2015-12-01-1749.csv',\n",
              " 'part-2015-12-01-1814.csv',\n",
              " 'part-2015-12-01-2239.csv',\n",
              " 'part-2015-12-01-0225.csv',\n",
              " 'part-2015-12-01-1707.csv',\n",
              " 'part-2015-12-01-1919.csv',\n",
              " 'part-2015-12-01-2046.csv',\n",
              " 'part-2015-12-01-0908.csv',\n",
              " 'part-2015-12-01-0407.csv',\n",
              " 'part-2015-12-01-1958.csv',\n",
              " 'part-2015-12-01-0134.csv',\n",
              " 'part-2015-12-01-0831.csv',\n",
              " 'part-2015-12-01-1044.csv',\n",
              " 'part-2015-12-01-2008.csv',\n",
              " 'part-2015-12-01-1904.csv',\n",
              " 'part-2015-12-01-0805.csv',\n",
              " 'part-2015-12-01-1738.csv',\n",
              " 'part-2015-12-01-0429.csv',\n",
              " 'part-2015-12-01-1313.csv',\n",
              " 'part-2015-12-01-1745.csv',\n",
              " 'part-2015-12-01-0415.csv',\n",
              " 'part-2015-12-01-1120.csv',\n",
              " 'part-2015-12-01-0239.csv',\n",
              " 'part-2015-12-01-0857.csv',\n",
              " 'part-2015-12-01-2252.csv',\n",
              " 'part-2015-12-01-0705.csv',\n",
              " 'part-2015-12-01-1936.csv',\n",
              " 'part-2015-12-01-0159.csv',\n",
              " 'part-2015-12-01-0701.csv',\n",
              " ...]"
            ]
          },
          "metadata": {},
          "execution_count": 7
        }
      ]
    },
    {
      "cell_type": "markdown",
      "source": [
        "#STREAMING"
      ],
      "metadata": {
        "id": "eRn9mHrSaPFt"
      }
    },
    {
      "cell_type": "markdown",
      "source": [
        "\n",
        "* Yellow Taxis pick up street-hailing passengers anywhere in NYC.\n",
        "* Green Taxis pick up street-hailing passengers in NYC **except for** below East 96th Street and West 110th Street in Manhattan.\n"
      ],
      "metadata": {
        "id": "qeZOWY5QnG2r"
      }
    },
    {
      "cell_type": "markdown",
      "source": [
        "##Task 1"
      ],
      "metadata": {
        "id": "szVc2Ob4DnM9"
      }
    },
    {
      "cell_type": "code",
      "source": [
        "from pyspark.sql.types import *\n",
        "\n",
        "temp_schema = StructType(\n",
        "    [\n",
        "        StructField(\"_c1\", StringType(), True), # type\n",
        "        StructField(\"_c2\", StringType(), True), # VendorID\n",
        "        StructField(\"_c3\", StringType(), True), # pickup_datetime\n",
        "        StructField(\"_c4\", StringType(), True), # dropoff_datetime\n",
        "        StructField(\"_c5\", StringType(), True),\n",
        "        StructField(\"_c6\", StringType(), True),\n",
        "        StructField(\"_c7\", StringType(), True),\n",
        "        StructField(\"_c8\", StringType(), True),\n",
        "        StructField(\"_c9\", StringType(), True),\n",
        "        StructField(\"_c10\", StringType(), True),\n",
        "        StructField(\"_c11\", StringType(), True),\n",
        "        StructField(\"_c12\", StringType(), True),\n",
        "        StructField(\"_c13\", StringType(), True),\n",
        "        StructField(\"_c14\", StringType(), True),\n",
        "        StructField(\"_c15\", StringType(), True),\n",
        "        StructField(\"_c16\", StringType(), True),\n",
        "        StructField(\"_c17\", StringType(), True),\n",
        "        StructField(\"_c18\", StringType(), True),\n",
        "        StructField(\"_c19\", StringType(), True),\n",
        "        StructField(\"_c20\", StringType(), True),\n",
        "        StructField(\"_c21\", StringType(), True),\n",
        "        StructField(\"_c22\", StringType(), True),\n",
        "    ]\n",
        ")"
      ],
      "metadata": {
        "id": "t35Atjys_fsL"
      },
      "execution_count": null,
      "outputs": []
    },
    {
      "cell_type": "code",
      "source": [
        "from pyspark.sql.functions import *\n",
        "\n",
        "# Similar to definition of staticInputDF above, just using `readStream` instead of `read`\n",
        "streamingInputDF = (\n",
        "    spark\n",
        "        .readStream\n",
        "        .schema(temp_schema)                # Set the schema of the csv data\n",
        "        .option(\"maxFilesPerTrigger\", 8)    # Treat a sequence of files as a stream by picking one file at a time\n",
        "        .csv(inputPath)\n",
        ")"
      ],
      "metadata": {
        "id": "EJjS4RenaOxf"
      },
      "execution_count": null,
      "outputs": []
    },
    {
      "cell_type": "code",
      "source": [
        "# This query stores the results in memory then visualize it\n",
        "query = (\n",
        "    streamingInputDF\n",
        "        .writeStream\n",
        "        .format(\"memory\")         # console or memory(= store in-memory table)\n",
        "        .queryName(\"input\")       # counts = name of the in-memory table\n",
        "        .outputMode(\"append\")\n",
        "        .option(\"truncate\", \"false\")\n",
        "        .start()\n",
        ")\n",
        "query.awaitTermination(30)\n",
        "\n",
        "spark.sql('select (*) from input').show(truncate=False)"
      ],
      "metadata": {
        "colab": {
          "base_uri": "https://localhost:8080/"
        },
        "id": "qHKZiuIrKHxG",
        "outputId": "384836de-9584-41cb-b316-977b9e36655f"
      },
      "execution_count": null,
      "outputs": [
        {
          "output_type": "stream",
          "name": "stdout",
          "text": [
            "+------+---+-------------------+-------------------+---+-----+-------------------+------------------+-------------------+------------------+-------------------+------------------+----+----+----+----+-----+----+----+-----+----+----+\n",
            "|_c1   |_c2|_c3                |_c4                |_c5|_c6  |_c7                |_c8               |_c9                |_c10              |_c11               |_c12              |_c13|_c14|_c15|_c16|_c17 |_c18|_c19|_c20 |_c21|_c22|\n",
            "+------+---+-------------------+-------------------+---+-----+-------------------+------------------+-------------------+------------------+-------------------+------------------+----+----+----+----+-----+----+----+-----+----+----+\n",
            "|yellow|2  |2015-12-01 08:07:20|2015-12-01 08:22:00|2  |1.60 |-74.00714111328125 |40.718009948730469|1                  |N                 |-73.990066528320312|40.724758148193359|2   |11  |0   |0.5 |0    |0   |0.3 |11.8 |NULL|NULL|\n",
            "|yellow|2  |2015-12-01 08:07:27|2015-12-01 08:22:00|1  |1.68 |-73.967636108398438|40.753421783447266|1                  |N                 |-73.977951049804687|40.748668670654297|2   |10.5|0   |0.5 |0    |0   |0.3 |11.3 |NULL|NULL|\n",
            "|yellow|1  |2015-12-01 08:09:25|2015-12-01 08:22:00|1  |1.70 |-73.964714050292969|40.772930145263672|1                  |N                 |-73.975135803222656|40.752773284912109|2   |9.5 |0   |0.5 |0    |0   |0.3 |10.3 |NULL|NULL|\n",
            "|yellow|2  |2015-12-01 08:15:01|2015-12-01 08:22:00|1  |.50  |-73.9686279296875  |40.764450073242188|1                  |N                 |-73.962379455566406|40.767189025878906|1   |6   |0   |0.5 |1.02 |0   |0.3 |7.82 |NULL|NULL|\n",
            "|yellow|2  |2015-12-01 08:15:47|2015-12-01 08:22:00|6  |.93  |-73.982208251953125|40.765155792236328|1                  |N                 |-73.9886474609375  |40.753150939941406|2   |6   |0   |0.5 |0    |0   |0.3 |6.8  |NULL|NULL|\n",
            "|yellow|2  |2015-12-01 08:17:12|2015-12-01 08:22:00|6  |.85  |-73.977073669433594|40.749591827392578|1                  |N                 |-73.985488891601562|40.741401672363281|1   |5.5 |0   |0.5 |1    |0   |0.3 |7.3  |NULL|NULL|\n",
            "|green |2  |2015-12-01 07:59:04|2015-12-01 08:22:00|N  |5    |-73.864982604980469|40.849971771240234|-73.889938354492187|40.846805572509766|2                  |2.24              |10  |0   |0   |0   |0    |NULL|0   |10   |2   |2   |\n",
            "|green |2  |2015-12-01 08:01:10|2015-12-01 08:22:00|N  |1    |-73.953300476074219|40.79132080078125 |-73.978019714355469|40.756916046142578|1                  |2.67              |14.5|0   |0.5 |1.53|0    |NULL|0.3 |16.83|1   |1   |\n",
            "|green |2  |2015-12-01 08:11:30|2015-12-01 08:22:00|N  |1    |-73.938529968261719|40.845584869384766|-73.935478210449219|40.850051879882813|1                  |1.43              |8   |0   |0.5 |0   |0    |NULL|0.3 |8.8  |2   |1   |\n",
            "|green |2  |2015-12-01 08:08:36|2015-12-01 08:22:00|N  |1    |-73.998855590820312|40.680953979492188|-73.98455810546875 |40.683609008789063|1                  |1.05              |9.5 |0   |0.5 |1   |0    |NULL|0.3 |11.3 |1   |1   |\n",
            "|yellow|1  |2015-12-01 07:05:41|2015-12-01 08:22:01|1  |19.50|-73.777885437011719|40.646747589111328|2                  |N                 |-73.956474304199219|40.7789306640625  |1   |52  |0   |0.5 |13.2 |0   |0.3 |66   |NULL|NULL|\n",
            "|yellow|2  |2015-12-01 07:43:10|2015-12-01 08:22:01|2  |4.56 |-73.986328125      |40.740570068359375|1                  |N                 |-73.974281311035156|40.756259918212891|1   |25  |0   |0.5 |2    |0   |0.3 |27.8 |NULL|NULL|\n",
            "|yellow|2  |2015-12-01 07:37:16|2015-12-01 08:22:01|1  |16.58|-73.954734802246094|40.76593017578125 |2                  |N                 |-73.794303894042969|40.644607543945313|1   |52  |0   |0.5 |11.67|5.54|0.3 |70.01|NULL|NULL|\n",
            "|yellow|1  |2015-12-01 08:06:15|2015-12-01 08:22:01|1  |1.20 |-73.971153259277344|40.747802734375   |1                  |N                 |-73.987159729003906|40.752803802490234|1   |11  |0   |0.5 |1    |0   |0.3 |12.8 |NULL|NULL|\n",
            "|yellow|1  |2015-12-01 08:09:54|2015-12-01 08:22:01|1  |2.00 |-73.992393493652344|40.748668670654297|1                  |N                 |-73.985748291015625|40.727619171142578|1   |9.5 |0   |0.5 |2.05 |0   |0.3 |12.35|NULL|NULL|\n",
            "|yellow|1  |2015-12-01 08:13:14|2015-12-01 08:22:01|1  |1.60 |-73.976852416992188|40.780189514160156|1                  |N                 |-73.994499206542969|40.769172668457031|2   |8   |0   |0.5 |0    |0   |0.3 |8.8  |NULL|NULL|\n",
            "|yellow|2  |2015-12-01 08:17:52|2015-12-01 08:22:01|2  |.86  |-73.9798583984375  |40.745918273925781|1                  |N                 |-73.975059509277344|40.754718780517578|1   |5   |0   |0.5 |1    |0   |0.3 |6.8  |NULL|NULL|\n",
            "|green |1  |2015-12-01 08:04:02|2015-12-01 08:22:01|N  |1    |-74.000717163085938|40.689071655273438|-74.010177612304688|40.713508605957031|2                  |3.00              |14.5|0   |0.5 |2.5 |0    |NULL|0.3 |17.8 |1   |1   |\n",
            "|yellow|2  |2015-12-01 08:01:28|2015-12-01 08:22:02|6  |2.04 |-73.9830322265625  |40.7677001953125  |1                  |N                 |-73.98736572265625 |40.744354248046875|1   |13.5|0   |0.5 |2.86 |0   |0.3 |17.16|NULL|NULL|\n",
            "|yellow|2  |2015-12-01 07:50:26|2015-12-01 08:22:02|1  |11.08|-73.987281799316406|40.758136749267578|1                  |N                 |-73.864776611328125|40.770320892333984|1   |34  |0   |0.5 |8.07 |5.54|0.3 |48.41|NULL|NULL|\n",
            "+------+---+-------------------+-------------------+---+-----+-------------------+------------------+-------------------+------------------+-------------------+------------------+----+----+----+----+-----+----+----+-----+----+----+\n",
            "only showing top 20 rows\n",
            "\n"
          ]
        }
      ]
    },
    {
      "cell_type": "markdown",
      "source": [
        "##Task 2"
      ],
      "metadata": {
        "id": "71BiqJOREYZX"
      }
    },
    {
      "cell_type": "code",
      "source": [
        "# cast the Timestamp type\n",
        "dropoff_datetime_DF = (\n",
        "    streamingInputDF\n",
        "        .select(streamingInputDF['_c4']\n",
        "        .cast(\"timestamp\")\n",
        "        .alias(\"dropoff_datetime\"))\n",
        ")\n",
        "\n",
        "# groupBy count\n",
        "count_dropoff_datetime_DF = (\n",
        "    dropoff_datetime_DF\n",
        "        .withWatermark(\"dropoff_datetime\", \"5 minutes\")\n",
        "        .groupBy(window(\"dropoff_datetime\", \"1 hour\"))\n",
        "        .count()\n",
        "        .withColumn(\"timestamp\",\n",
        "                    when(hour(col(\"window\")[\"end\"]) == 0, 24 * 360_000)\n",
        "                    .otherwise(hour(col(\"window\")[\"end\"]) * 360_000))\n",
        ")\n",
        "\n",
        "# Is this DF actually a streaming DF?\n",
        "count_dropoff_datetime_DF.isStreaming"
      ],
      "metadata": {
        "colab": {
          "base_uri": "https://localhost:8080/"
        },
        "id": "yJZS4MdECiQl",
        "outputId": "2d97cbcf-c4e1-4b3b-e2e2-351d55921b02"
      },
      "execution_count": null,
      "outputs": [
        {
          "output_type": "execute_result",
          "data": {
            "text/plain": [
              "True"
            ]
          },
          "metadata": {},
          "execution_count": 11
        }
      ]
    },
    {
      "cell_type": "code",
      "source": [
        "# This query stores the aggregation results in memory then visualize it\n",
        "EventCount = (\n",
        "    count_dropoff_datetime_DF\n",
        "        .writeStream\n",
        "        .format(\"memory\")              # console or memory(= store in-memory table)\n",
        "        .queryName(\"event_count\")      # counts = name of the in-memory table\n",
        "        .outputMode(\"complete\")\n",
        "        .option(\"truncate\", \"false\")\n",
        "        .start()\n",
        ")\n",
        "EventCount.awaitTermination(300)\n",
        "\n",
        "spark.sql('select (*) from event_count order by window').show(truncate=False)"
      ],
      "metadata": {
        "id": "PfeZ_duK7Vb5",
        "colab": {
          "base_uri": "https://localhost:8080/"
        },
        "outputId": "1c5eefb6-abd7-472e-a5c9-2426e65cdab5"
      },
      "execution_count": null,
      "outputs": [
        {
          "output_type": "stream",
          "name": "stdout",
          "text": [
            "+------------------------------------------+-----+---------+\n",
            "|window                                    |count|timestamp|\n",
            "+------------------------------------------+-----+---------+\n",
            "|{2015-12-01 00:00:00, 2015-12-01 01:00:00}|7396 |360000   |\n",
            "|{2015-12-01 01:00:00, 2015-12-01 02:00:00}|5780 |720000   |\n",
            "|{2015-12-01 02:00:00, 2015-12-01 03:00:00}|3605 |1080000  |\n",
            "|{2015-12-01 03:00:00, 2015-12-01 04:00:00}|2426 |1440000  |\n",
            "|{2015-12-01 04:00:00, 2015-12-01 05:00:00}|2505 |1800000  |\n",
            "|{2015-12-01 05:00:00, 2015-12-01 06:00:00}|3858 |2160000  |\n",
            "|{2015-12-01 06:00:00, 2015-12-01 07:00:00}|10258|2520000  |\n",
            "|{2015-12-01 07:00:00, 2015-12-01 08:00:00}|19007|2880000  |\n",
            "|{2015-12-01 08:00:00, 2015-12-01 09:00:00}|23799|3240000  |\n",
            "|{2015-12-01 09:00:00, 2015-12-01 10:00:00}|24003|3600000  |\n",
            "|{2015-12-01 10:00:00, 2015-12-01 11:00:00}|21179|3960000  |\n",
            "|{2015-12-01 11:00:00, 2015-12-01 12:00:00}|20219|4320000  |\n",
            "|{2015-12-01 12:00:00, 2015-12-01 13:00:00}|20522|4680000  |\n",
            "|{2015-12-01 13:00:00, 2015-12-01 14:00:00}|20556|5040000  |\n",
            "|{2015-12-01 14:00:00, 2015-12-01 15:00:00}|21712|5400000  |\n",
            "|{2015-12-01 15:00:00, 2015-12-01 16:00:00}|22016|5760000  |\n",
            "|{2015-12-01 16:00:00, 2015-12-01 17:00:00}|18034|6120000  |\n",
            "|{2015-12-01 17:00:00, 2015-12-01 18:00:00}|19719|6480000  |\n",
            "|{2015-12-01 18:00:00, 2015-12-01 19:00:00}|25563|6840000  |\n",
            "|{2015-12-01 19:00:00, 2015-12-01 20:00:00}|28178|7200000  |\n",
            "+------------------------------------------+-----+---------+\n",
            "only showing top 20 rows\n",
            "\n"
          ]
        }
      ]
    },
    {
      "cell_type": "code",
      "source": [
        "import os\n",
        "\n",
        "output_path = '/content/drive/MyDrive/Lab 3/task2-output'\n",
        "checkpoint_path = '/content/drive/MyDrive/Lab 3/task2-checkpoint'\n",
        "\n",
        "if not os.path.exists(output_path):\n",
        "    os.makedirs(output_path)\n",
        "\n",
        "if not os.path.exists(checkpoint_path):\n",
        "    os.makedirs(checkpoint_path)"
      ],
      "metadata": {
        "id": "WEynKDpIF3J1"
      },
      "execution_count": null,
      "outputs": []
    },
    {
      "cell_type": "code",
      "source": [
        "# Start the query to write each window into a separate directory\n",
        "query = (\n",
        "    count_dropoff_datetime_DF\n",
        "        .drop(\"window\")\n",
        "        .withColumnRenamed(\"timestamp\", \"output\")\n",
        "        .writeStream\n",
        "        .format(\"csv\")\n",
        "        .partitionBy(\"output\")  # Partition by the timestamp\n",
        "        .option(\"path\", output_path)  # /task2-output\n",
        "        .option(\"checkpointLocation\", checkpoint_path) \\\n",
        "        .outputMode(\"append\")\n",
        "        .start()\n",
        ")\n",
        "\n",
        "query.awaitTermination(900)"
      ],
      "metadata": {
        "id": "PnXVxMNLGDUZ",
        "colab": {
          "base_uri": "https://localhost:8080/"
        },
        "outputId": "5a594401-c780-40cb-af27-d9f67dd2c35c"
      },
      "execution_count": null,
      "outputs": [
        {
          "output_type": "execute_result",
          "data": {
            "text/plain": [
              "False"
            ]
          },
          "metadata": {},
          "execution_count": 14
        }
      ]
    },
    {
      "cell_type": "code",
      "source": [
        "task2_result_df = spark.sql('select (*) from event_count order by window')\n",
        "task2_result_df.show(truncate=False)"
      ],
      "metadata": {
        "colab": {
          "base_uri": "https://localhost:8080/"
        },
        "id": "vutJh_sM6aX_",
        "outputId": "16151c5f-31c7-411f-f211-df5d3eba1b5f"
      },
      "execution_count": null,
      "outputs": [
        {
          "output_type": "stream",
          "name": "stdout",
          "text": [
            "+------------------------------------------+-----+---------+\n",
            "|window                                    |count|timestamp|\n",
            "+------------------------------------------+-----+---------+\n",
            "|{2015-12-01 00:00:00, 2015-12-01 01:00:00}|7396 |360000   |\n",
            "|{2015-12-01 01:00:00, 2015-12-01 02:00:00}|5780 |720000   |\n",
            "|{2015-12-01 02:00:00, 2015-12-01 03:00:00}|3605 |1080000  |\n",
            "|{2015-12-01 03:00:00, 2015-12-01 04:00:00}|2426 |1440000  |\n",
            "|{2015-12-01 04:00:00, 2015-12-01 05:00:00}|2505 |1800000  |\n",
            "|{2015-12-01 05:00:00, 2015-12-01 06:00:00}|3858 |2160000  |\n",
            "|{2015-12-01 06:00:00, 2015-12-01 07:00:00}|10258|2520000  |\n",
            "|{2015-12-01 07:00:00, 2015-12-01 08:00:00}|19007|2880000  |\n",
            "|{2015-12-01 08:00:00, 2015-12-01 09:00:00}|23799|3240000  |\n",
            "|{2015-12-01 09:00:00, 2015-12-01 10:00:00}|24003|3600000  |\n",
            "|{2015-12-01 10:00:00, 2015-12-01 11:00:00}|21179|3960000  |\n",
            "|{2015-12-01 11:00:00, 2015-12-01 12:00:00}|20219|4320000  |\n",
            "|{2015-12-01 12:00:00, 2015-12-01 13:00:00}|20522|4680000  |\n",
            "|{2015-12-01 13:00:00, 2015-12-01 14:00:00}|20556|5040000  |\n",
            "|{2015-12-01 14:00:00, 2015-12-01 15:00:00}|21712|5400000  |\n",
            "|{2015-12-01 15:00:00, 2015-12-01 16:00:00}|22016|5760000  |\n",
            "|{2015-12-01 16:00:00, 2015-12-01 17:00:00}|18034|6120000  |\n",
            "|{2015-12-01 17:00:00, 2015-12-01 18:00:00}|19719|6480000  |\n",
            "|{2015-12-01 18:00:00, 2015-12-01 19:00:00}|25563|6840000  |\n",
            "|{2015-12-01 19:00:00, 2015-12-01 20:00:00}|28178|7200000  |\n",
            "+------------------------------------------+-----+---------+\n",
            "only showing top 20 rows\n",
            "\n"
          ]
        }
      ]
    },
    {
      "cell_type": "code",
      "source": [
        "import os\n",
        "\n",
        "output_path = '/content/drive/MyDrive/Lab 3/task2-output-backup'\n",
        "\n",
        "if not os.path.exists(output_path):\n",
        "    os.makedirs(output_path)"
      ],
      "metadata": {
        "id": "mGFO9Fjs6wlp"
      },
      "execution_count": null,
      "outputs": []
    },
    {
      "cell_type": "code",
      "source": [
        "# Iterate over the rows of the DataFrame and write each row to a separate file\n",
        "for row in task2_result_df.collect():\n",
        "    count = row['count']\n",
        "    start_time = row['window']['start'].strftime(\"%Y-%m-%d %H:%M:%S\")\n",
        "    end_time = row['window']['end'].strftime(\"%Y-%m-%d %H:%M:%S\")\n",
        "\n",
        "    hour_value = int(row['window']['end'].strftime(\"%H\"))  # Extract the hour from the end time\n",
        "\n",
        "    if hour_value == 0:\n",
        "        hour_value = 24\n",
        "    file_name = f\"output-{hour_value * 360_000}.txt\"\n",
        "\n",
        "    with open(os.path.join(output_path, file_name), 'w') as file:\n",
        "        row_str = f\"Window Start: {start_time}\\nWindow End: {end_time}\\nCount: {count}\"\n",
        "        file.write(row_str)"
      ],
      "metadata": {
        "id": "d9b6qylC7mGe"
      },
      "execution_count": null,
      "outputs": []
    },
    {
      "cell_type": "markdown",
      "source": [
        "##Task 3"
      ],
      "metadata": {
        "id": "NexdQRhuEE8r"
      }
    },
    {
      "cell_type": "code",
      "source": [
        "# YELLOW: C11, C12\n",
        "# GREEN: C9, C10\n",
        "\n",
        "dropoff_DF = streamingInputDF.select(\n",
        "    when(col('_c1') == 'yellow', col('_c11')).otherwise(col('_c9')).cast(\"double\").alias('dropoff_longitude'),\n",
        "    when(col('_c1') == 'yellow', col('_c12')).otherwise(col('_c10')).cast(\"double\").alias('dropoff_latitude'),\n",
        "    col('_c4').cast(\"timestamp\").alias(\"dropoff_datetime\")\n",
        ")\n",
        "\n",
        "# Is this DF actually a streaming DF?\n",
        "dropoff_DF.isStreaming"
      ],
      "metadata": {
        "id": "ZQakkoYwPaxs",
        "colab": {
          "base_uri": "https://localhost:8080/"
        },
        "outputId": "f0e798c1-6fa3-4314-96c3-166375d24537"
      },
      "execution_count": null,
      "outputs": [
        {
          "output_type": "execute_result",
          "data": {
            "text/plain": [
              "True"
            ]
          },
          "metadata": {},
          "execution_count": 11
        }
      ]
    },
    {
      "cell_type": "code",
      "source": [
        "# This query stores the aggregation results in memory then visualize it\n",
        "dropoff_query = (\n",
        "    dropoff_DF\n",
        "        .writeStream\n",
        "        .format(\"memory\")         # console or memory(= store in-memory table)\n",
        "        .queryName(\"dropoff_input\")      # counts = name of the in-memory table\n",
        "        .outputMode(\"append\")\n",
        "        .option(\"truncate\", \"false\")\n",
        "        .start()\n",
        ")\n",
        "dropoff_query.awaitTermination(60)\n",
        "\n",
        "spark.sql('select (*) from dropoff_input').show(truncate=False)"
      ],
      "metadata": {
        "colab": {
          "base_uri": "https://localhost:8080/"
        },
        "id": "jDmAaW-pPwSA",
        "outputId": "8da14161-1405-4176-9403-10ee7ab5bab1"
      },
      "execution_count": null,
      "outputs": [
        {
          "output_type": "stream",
          "name": "stdout",
          "text": [
            "+------------------+------------------+-------------------+\n",
            "|dropoff_longitude |dropoff_latitude  |dropoff_datetime   |\n",
            "+------------------+------------------+-------------------+\n",
            "|-73.99006652832031|40.72475814819336 |2015-12-01 08:22:00|\n",
            "|-73.97795104980469|40.7486686706543  |2015-12-01 08:22:00|\n",
            "|-73.97513580322266|40.75277328491211 |2015-12-01 08:22:00|\n",
            "|-73.9623794555664 |40.767189025878906|2015-12-01 08:22:00|\n",
            "|-73.9886474609375 |40.753150939941406|2015-12-01 08:22:00|\n",
            "|-73.98548889160156|40.74140167236328 |2015-12-01 08:22:00|\n",
            "|-73.88993835449219|40.846805572509766|2015-12-01 08:22:00|\n",
            "|-73.97801971435547|40.75691604614258 |2015-12-01 08:22:00|\n",
            "|-73.93547821044922|40.85005187988281 |2015-12-01 08:22:00|\n",
            "|-73.98455810546875|40.68360900878906 |2015-12-01 08:22:00|\n",
            "|-73.95647430419922|40.7789306640625  |2015-12-01 08:22:01|\n",
            "|-73.97428131103516|40.75625991821289 |2015-12-01 08:22:01|\n",
            "|-73.79430389404297|40.64460754394531 |2015-12-01 08:22:01|\n",
            "|-73.9871597290039 |40.752803802490234|2015-12-01 08:22:01|\n",
            "|-73.98574829101562|40.72761917114258 |2015-12-01 08:22:01|\n",
            "|-73.99449920654297|40.76917266845703 |2015-12-01 08:22:01|\n",
            "|-73.97505950927734|40.75471878051758 |2015-12-01 08:22:01|\n",
            "|-74.01017761230469|40.71350860595703 |2015-12-01 08:22:01|\n",
            "|-73.98736572265625|40.744354248046875|2015-12-01 08:22:02|\n",
            "|-73.86477661132812|40.770320892333984|2015-12-01 08:22:02|\n",
            "+------------------+------------------+-------------------+\n",
            "only showing top 20 rows\n",
            "\n"
          ]
        }
      ]
    },
    {
      "cell_type": "code",
      "source": [
        "# Define the bounding boxes\n",
        "goldman = [[-74.0141012, 40.7152191],\n",
        "           [-74.013777, 40.7152275],\n",
        "           [-74.0141027, 40.7138745],\n",
        "           [-74.0144185, 40.7140753]]\n",
        "\n",
        "citigroup = [[-74.011869, 40.7217236],\n",
        "             [-74.009867, 40.721493],\n",
        "             [-74.010140, 40.720053],\n",
        "             [-74.012083, 40.720267]]\n",
        "\n",
        "# Define the point_in_polygon function as a Spark UDF\n",
        "@udf(returnType=StringType())\n",
        "def point_in_polygon(point):\n",
        "    x, y = point\n",
        "    in_goldman = False\n",
        "    in_citigroup = False\n",
        "\n",
        "    # Check if the point is in the Goldman box\n",
        "    num_crossings = 0\n",
        "    for i in range(len(goldman)):\n",
        "        x1, y1 = goldman[i]\n",
        "        x2, y2 = goldman[(i + 1) % len(goldman)]\n",
        "        if ((y1 > y) != (y2 > y)) and (x < (x2 - x1) * (y - y1) / (y2 - y1) + x1):\n",
        "            num_crossings += 1\n",
        "    in_goldman = num_crossings % 2 == 1\n",
        "\n",
        "    # Check if the point is in the Citigroup box\n",
        "    num_crossings = 0\n",
        "    for i in range(len(citigroup)):\n",
        "        x1, y1 = citigroup[i]\n",
        "        x2, y2 = citigroup[(i + 1) % len(citigroup)]\n",
        "        if ((y1 > y) != (y2 > y)) and (x < (x2 - x1) * (y - y1) / (y2 - y1) + x1):\n",
        "            num_crossings += 1\n",
        "    in_citigroup = num_crossings % 2 == 1\n",
        "\n",
        "    # Determine the state\n",
        "    if in_goldman:\n",
        "        return \"goldman\"\n",
        "    elif in_citigroup:\n",
        "        return \"citigroup\"\n",
        "    else:\n",
        "        return \"none\""
      ],
      "metadata": {
        "id": "_vXGnMPFE2b6"
      },
      "execution_count": null,
      "outputs": []
    },
    {
      "cell_type": "code",
      "source": [
        "dropoff_state_DF = (\n",
        "    dropoff_DF\n",
        "        .withColumn(\"state\", point_in_polygon(struct(\"dropoff_longitude\", \"dropoff_latitude\")))\n",
        ")\n",
        "\n",
        "# Is this DF actually a streaming DF?\n",
        "dropoff_state_DF.isStreaming"
      ],
      "metadata": {
        "id": "9UxjfXkDFB6B",
        "colab": {
          "base_uri": "https://localhost:8080/"
        },
        "outputId": "5fbbbadf-451b-4fd7-aa44-d0e07f5abe9d"
      },
      "execution_count": null,
      "outputs": [
        {
          "output_type": "execute_result",
          "data": {
            "text/plain": [
              "True"
            ]
          },
          "metadata": {},
          "execution_count": 14
        }
      ]
    },
    {
      "cell_type": "code",
      "source": [
        "count_dropoff_at_headquarters_DF = (\n",
        "    dropoff_state_DF\n",
        "        .filter((dropoff_state_DF.state == 'goldman') | (dropoff_state_DF.state == 'citigroup'))\n",
        "        .withWatermark(\"dropoff_datetime\", \"5 minutes\")\n",
        "        .groupBy(window(\"dropoff_datetime\", \"1 hour\"), \"state\")\n",
        "        .count()\n",
        "        .withColumn(\"timestamp\",\n",
        "                    when(hour(col(\"window\")[\"end\"]) == 0, 24 * 360_000)\n",
        "                    .otherwise(hour(col(\"window\")[\"end\"]) * 360_000))\n",
        ")\n",
        "\n",
        "# Is this DF actually a streaming DF?\n",
        "count_dropoff_at_headquarters_DF.isStreaming"
      ],
      "metadata": {
        "id": "qABM9y1iisws",
        "colab": {
          "base_uri": "https://localhost:8080/"
        },
        "outputId": "1088d331-d2b1-4a8f-e157-5e0aeb0209f6"
      },
      "execution_count": null,
      "outputs": [
        {
          "output_type": "execute_result",
          "data": {
            "text/plain": [
              "True"
            ]
          },
          "metadata": {},
          "execution_count": 15
        }
      ]
    },
    {
      "cell_type": "code",
      "source": [
        "# This query stores the aggregation results in memory then visualize it\n",
        "RegionEventCount = (\n",
        "    count_dropoff_at_headquarters_DF\n",
        "        .writeStream\n",
        "        .format(\"memory\")         # console or memory(= store in-memory table)\n",
        "        .queryName(\"region_event_count\")      # counts = name of the in-memory table\n",
        "        .outputMode(\"complete\")\n",
        "        .option(\"truncate\", \"false\")\n",
        "        .start()\n",
        ")\n",
        "RegionEventCount.awaitTermination(900)\n",
        "\n",
        "spark.sql('select (*) from region_event_count order by window, state').show(truncate=False)"
      ],
      "metadata": {
        "colab": {
          "base_uri": "https://localhost:8080/"
        },
        "id": "l-Ix0ub3IUl-",
        "outputId": "1f7f4762-e023-4842-9bcb-7aad64e8fce4"
      },
      "execution_count": null,
      "outputs": [
        {
          "output_type": "stream",
          "name": "stdout",
          "text": [
            "+------------------------------------------+---------+-----+---------+\n",
            "|window                                    |state    |count|timestamp|\n",
            "+------------------------------------------+---------+-----+---------+\n",
            "|{2015-12-01 00:00:00, 2015-12-01 01:00:00}|citigroup|5    |360000   |\n",
            "|{2015-12-01 01:00:00, 2015-12-01 02:00:00}|citigroup|2    |720000   |\n",
            "|{2015-12-01 02:00:00, 2015-12-01 03:00:00}|citigroup|1    |1080000  |\n",
            "|{2015-12-01 04:00:00, 2015-12-01 05:00:00}|citigroup|1    |1800000  |\n",
            "|{2015-12-01 05:00:00, 2015-12-01 06:00:00}|citigroup|8    |2160000  |\n",
            "|{2015-12-01 05:00:00, 2015-12-01 06:00:00}|goldman  |3    |2160000  |\n",
            "|{2015-12-01 06:00:00, 2015-12-01 07:00:00}|citigroup|46   |2520000  |\n",
            "|{2015-12-01 06:00:00, 2015-12-01 07:00:00}|goldman  |11   |2520000  |\n",
            "|{2015-12-01 07:00:00, 2015-12-01 08:00:00}|citigroup|62   |2880000  |\n",
            "|{2015-12-01 07:00:00, 2015-12-01 08:00:00}|goldman  |17   |2880000  |\n",
            "|{2015-12-01 08:00:00, 2015-12-01 09:00:00}|citigroup|56   |3240000  |\n",
            "|{2015-12-01 08:00:00, 2015-12-01 09:00:00}|goldman  |25   |3240000  |\n",
            "|{2015-12-01 09:00:00, 2015-12-01 10:00:00}|citigroup|60   |3600000  |\n",
            "|{2015-12-01 09:00:00, 2015-12-01 10:00:00}|goldman  |39   |3600000  |\n",
            "|{2015-12-01 10:00:00, 2015-12-01 11:00:00}|citigroup|18   |3960000  |\n",
            "|{2015-12-01 10:00:00, 2015-12-01 11:00:00}|goldman  |26   |3960000  |\n",
            "|{2015-12-01 11:00:00, 2015-12-01 12:00:00}|citigroup|17   |4320000  |\n",
            "|{2015-12-01 11:00:00, 2015-12-01 12:00:00}|goldman  |16   |4320000  |\n",
            "|{2015-12-01 12:00:00, 2015-12-01 13:00:00}|citigroup|24   |4680000  |\n",
            "|{2015-12-01 12:00:00, 2015-12-01 13:00:00}|goldman  |7    |4680000  |\n",
            "+------------------------------------------+---------+-----+---------+\n",
            "only showing top 20 rows\n",
            "\n"
          ]
        }
      ]
    },
    {
      "cell_type": "code",
      "source": [
        "task3_result_df = spark.sql('select (*) from region_event_count order by window, state')\n",
        "task3_result_df.show(truncate=False)"
      ],
      "metadata": {
        "colab": {
          "base_uri": "https://localhost:8080/"
        },
        "id": "BKFKy3rhBwP6",
        "outputId": "8dcf23a3-7912-47eb-a25a-6923138f0b94"
      },
      "execution_count": null,
      "outputs": [
        {
          "output_type": "stream",
          "name": "stdout",
          "text": [
            "+------------------------------------------+---------+-----+---------+\n",
            "|window                                    |state    |count|timestamp|\n",
            "+------------------------------------------+---------+-----+---------+\n",
            "|{2015-12-01 00:00:00, 2015-12-01 01:00:00}|citigroup|5    |360000   |\n",
            "|{2015-12-01 01:00:00, 2015-12-01 02:00:00}|citigroup|2    |720000   |\n",
            "|{2015-12-01 02:00:00, 2015-12-01 03:00:00}|citigroup|1    |1080000  |\n",
            "|{2015-12-01 04:00:00, 2015-12-01 05:00:00}|citigroup|1    |1800000  |\n",
            "|{2015-12-01 05:00:00, 2015-12-01 06:00:00}|citigroup|8    |2160000  |\n",
            "|{2015-12-01 05:00:00, 2015-12-01 06:00:00}|goldman  |3    |2160000  |\n",
            "|{2015-12-01 06:00:00, 2015-12-01 07:00:00}|citigroup|46   |2520000  |\n",
            "|{2015-12-01 06:00:00, 2015-12-01 07:00:00}|goldman  |11   |2520000  |\n",
            "|{2015-12-01 07:00:00, 2015-12-01 08:00:00}|citigroup|62   |2880000  |\n",
            "|{2015-12-01 07:00:00, 2015-12-01 08:00:00}|goldman  |17   |2880000  |\n",
            "|{2015-12-01 08:00:00, 2015-12-01 09:00:00}|citigroup|56   |3240000  |\n",
            "|{2015-12-01 08:00:00, 2015-12-01 09:00:00}|goldman  |25   |3240000  |\n",
            "|{2015-12-01 09:00:00, 2015-12-01 10:00:00}|citigroup|60   |3600000  |\n",
            "|{2015-12-01 09:00:00, 2015-12-01 10:00:00}|goldman  |39   |3600000  |\n",
            "|{2015-12-01 10:00:00, 2015-12-01 11:00:00}|citigroup|18   |3960000  |\n",
            "|{2015-12-01 10:00:00, 2015-12-01 11:00:00}|goldman  |26   |3960000  |\n",
            "|{2015-12-01 11:00:00, 2015-12-01 12:00:00}|citigroup|17   |4320000  |\n",
            "|{2015-12-01 11:00:00, 2015-12-01 12:00:00}|goldman  |16   |4320000  |\n",
            "|{2015-12-01 12:00:00, 2015-12-01 13:00:00}|citigroup|24   |4680000  |\n",
            "|{2015-12-01 12:00:00, 2015-12-01 13:00:00}|goldman  |7    |4680000  |\n",
            "+------------------------------------------+---------+-----+---------+\n",
            "only showing top 20 rows\n",
            "\n"
          ]
        }
      ]
    },
    {
      "cell_type": "code",
      "source": [
        "import os\n",
        "\n",
        "output_path = '/content/drive/MyDrive/Lab 3/task3-output-backup'\n",
        "\n",
        "if not os.path.exists(output_path):\n",
        "    os.makedirs(output_path)"
      ],
      "metadata": {
        "id": "V1ccl1qYBLIX"
      },
      "execution_count": null,
      "outputs": []
    },
    {
      "cell_type": "code",
      "source": [
        "# Iterate over the rows of the DataFrame and write each row to a separate file\n",
        "for row in task3_result_df.collect():\n",
        "    headquarter = row['state']\n",
        "    count = row['count']\n",
        "    start_time = row['window']['start'].strftime(\"%Y-%m-%d %H:%M:%S\")\n",
        "    end_time = row['window']['end'].strftime(\"%Y-%m-%d %H:%M:%S\")\n",
        "\n",
        "    hour_value = int(row['window']['end'].strftime(\"%H\"))  # Extract the hour from the end time\n",
        "\n",
        "    if hour_value == 0:\n",
        "        hour_value = 24\n",
        "    file_name = f\"output-{hour_value * 360_000}.txt\"\n",
        "\n",
        "    with open(os.path.join(output_path, file_name), 'a') as file:\n",
        "        row_str = f\"\\nWindow Start: {start_time}\\nWindow End: {end_time}\\nHeadquarter: {headquarter}\\nCount: {count}\"\n",
        "        file.write(row_str)"
      ],
      "metadata": {
        "id": "oKGoxHOsB3u7"
      },
      "execution_count": null,
      "outputs": []
    },
    {
      "cell_type": "markdown",
      "source": [
        "##Task 4"
      ],
      "metadata": {
        "id": "HTzH1NuUI2N5"
      }
    },
    {
      "cell_type": "markdown",
      "source": [
        "##goldman sach"
      ],
      "metadata": {
        "id": "0Kr2tvVC9qYJ"
      }
    },
    {
      "cell_type": "code",
      "source": [
        "count_dropoff_at_goldman_DF = (\n",
        "    dropoff_state_DF\n",
        "        .filter(dropoff_state_DF.state == 'goldman')\n",
        "        .withWatermark(\"dropoff_datetime\", \"5 minutes\")\n",
        "        .groupBy(\"state\", window(\"dropoff_datetime\", \"10 minutes\"))\n",
        "        .count()\n",
        ")\n",
        "\n",
        "# Is this DF actually a streaming DF?\n",
        "count_dropoff_at_goldman_DF.isStreaming"
      ],
      "metadata": {
        "colab": {
          "base_uri": "https://localhost:8080/"
        },
        "id": "4Rk8qQ8mS6iy",
        "outputId": "d3629c6c-4dce-4613-93a2-111ee814d12a"
      },
      "execution_count": null,
      "outputs": [
        {
          "output_type": "execute_result",
          "data": {
            "text/plain": [
              "True"
            ]
          },
          "metadata": {},
          "execution_count": 16
        }
      ]
    },
    {
      "cell_type": "code",
      "source": [
        "# This query stores the aggregation results in memory then visualize it\n",
        "goldmanEventCount10m = (\n",
        "    count_dropoff_at_goldman_DF\n",
        "        .writeStream\n",
        "        .format(\"memory\")         # console or memory(= store in-memory table)\n",
        "        .queryName(\"goldman_event_count_each_10m\")      # counts = name of the in-memory table\n",
        "        .outputMode(\"complete\")\n",
        "        .option(\"truncate\", \"false\")\n",
        "        .start()\n",
        ")\n",
        "goldmanEventCount10m.awaitTermination(1200)\n",
        "\n",
        "spark.sql('select (*) from goldman_event_count_each_10m order by window').show(truncate=False)"
      ],
      "metadata": {
        "colab": {
          "base_uri": "https://localhost:8080/"
        },
        "id": "u2BgJZTFT1kO",
        "outputId": "d6f03996-2000-4d16-cfd6-0ca6902d8a28"
      },
      "execution_count": null,
      "outputs": [
        {
          "output_type": "stream",
          "name": "stdout",
          "text": [
            "+-------+------------------------------------------+-----+\n",
            "|state  |window                                    |count|\n",
            "+-------+------------------------------------------+-----+\n",
            "|goldman|{2015-12-01 05:20:00, 2015-12-01 05:30:00}|1    |\n",
            "|goldman|{2015-12-01 05:50:00, 2015-12-01 06:00:00}|2    |\n",
            "|goldman|{2015-12-01 06:00:00, 2015-12-01 06:10:00}|1    |\n",
            "|goldman|{2015-12-01 06:10:00, 2015-12-01 06:20:00}|1    |\n",
            "|goldman|{2015-12-01 06:20:00, 2015-12-01 06:30:00}|1    |\n",
            "|goldman|{2015-12-01 06:30:00, 2015-12-01 06:40:00}|2    |\n",
            "|goldman|{2015-12-01 06:40:00, 2015-12-01 06:50:00}|3    |\n",
            "|goldman|{2015-12-01 06:50:00, 2015-12-01 07:00:00}|3    |\n",
            "|goldman|{2015-12-01 07:00:00, 2015-12-01 07:10:00}|3    |\n",
            "|goldman|{2015-12-01 07:20:00, 2015-12-01 07:30:00}|3    |\n",
            "|goldman|{2015-12-01 07:30:00, 2015-12-01 07:40:00}|5    |\n",
            "|goldman|{2015-12-01 07:40:00, 2015-12-01 07:50:00}|4    |\n",
            "|goldman|{2015-12-01 07:50:00, 2015-12-01 08:00:00}|2    |\n",
            "|goldman|{2015-12-01 08:00:00, 2015-12-01 08:10:00}|6    |\n",
            "|goldman|{2015-12-01 08:10:00, 2015-12-01 08:20:00}|6    |\n",
            "|goldman|{2015-12-01 08:20:00, 2015-12-01 08:30:00}|1    |\n",
            "|goldman|{2015-12-01 08:30:00, 2015-12-01 08:40:00}|2    |\n",
            "|goldman|{2015-12-01 08:40:00, 2015-12-01 08:50:00}|3    |\n",
            "|goldman|{2015-12-01 08:50:00, 2015-12-01 09:00:00}|7    |\n",
            "|goldman|{2015-12-01 09:00:00, 2015-12-01 09:10:00}|3    |\n",
            "+-------+------------------------------------------+-----+\n",
            "only showing top 20 rows\n",
            "\n"
          ]
        }
      ]
    },
    {
      "cell_type": "code",
      "source": [
        "from pyspark.sql.window import Window\n",
        "\n",
        "# Define a window specification\n",
        "windowSpec = Window.orderBy(\"window\")\n",
        "\n",
        "goldmanEventCount10mDF = spark.sql('select (*) from goldman_event_count_each_10m order by window')\n",
        "\n",
        "goldmanEventCount10mDF_with_prev = (\n",
        "    goldmanEventCount10mDF\n",
        "        .withColumn(\"prev_window\", lag(\"window\", offset=1, default=None).over(windowSpec))\n",
        "        .withColumn(\"prev_count\", lag(\"count\", offset=1, default=None).over(windowSpec))\n",
        ")\n",
        "\n",
        "goldmanEventCount10mDF_with_prev.show(truncate=False)"
      ],
      "metadata": {
        "colab": {
          "base_uri": "https://localhost:8080/"
        },
        "id": "AjJ4DyBUtcFy",
        "outputId": "3bfc5827-6feb-4e0a-f200-143f2bf40c68"
      },
      "execution_count": null,
      "outputs": [
        {
          "output_type": "stream",
          "name": "stdout",
          "text": [
            "+-------+------------------------------------------+-----+------------------------------------------+----------+\n",
            "|state  |window                                    |count|prev_window                               |prev_count|\n",
            "+-------+------------------------------------------+-----+------------------------------------------+----------+\n",
            "|goldman|{2015-12-01 05:20:00, 2015-12-01 05:30:00}|1    |NULL                                      |NULL      |\n",
            "|goldman|{2015-12-01 05:50:00, 2015-12-01 06:00:00}|2    |{2015-12-01 05:20:00, 2015-12-01 05:30:00}|1         |\n",
            "|goldman|{2015-12-01 06:00:00, 2015-12-01 06:10:00}|1    |{2015-12-01 05:50:00, 2015-12-01 06:00:00}|2         |\n",
            "|goldman|{2015-12-01 06:10:00, 2015-12-01 06:20:00}|1    |{2015-12-01 06:00:00, 2015-12-01 06:10:00}|1         |\n",
            "|goldman|{2015-12-01 06:20:00, 2015-12-01 06:30:00}|1    |{2015-12-01 06:10:00, 2015-12-01 06:20:00}|1         |\n",
            "|goldman|{2015-12-01 06:30:00, 2015-12-01 06:40:00}|2    |{2015-12-01 06:20:00, 2015-12-01 06:30:00}|1         |\n",
            "|goldman|{2015-12-01 06:40:00, 2015-12-01 06:50:00}|3    |{2015-12-01 06:30:00, 2015-12-01 06:40:00}|2         |\n",
            "|goldman|{2015-12-01 06:50:00, 2015-12-01 07:00:00}|3    |{2015-12-01 06:40:00, 2015-12-01 06:50:00}|3         |\n",
            "|goldman|{2015-12-01 07:00:00, 2015-12-01 07:10:00}|3    |{2015-12-01 06:50:00, 2015-12-01 07:00:00}|3         |\n",
            "|goldman|{2015-12-01 07:20:00, 2015-12-01 07:30:00}|3    |{2015-12-01 07:00:00, 2015-12-01 07:10:00}|3         |\n",
            "|goldman|{2015-12-01 07:30:00, 2015-12-01 07:40:00}|5    |{2015-12-01 07:20:00, 2015-12-01 07:30:00}|3         |\n",
            "|goldman|{2015-12-01 07:40:00, 2015-12-01 07:50:00}|4    |{2015-12-01 07:30:00, 2015-12-01 07:40:00}|5         |\n",
            "|goldman|{2015-12-01 07:50:00, 2015-12-01 08:00:00}|2    |{2015-12-01 07:40:00, 2015-12-01 07:50:00}|4         |\n",
            "|goldman|{2015-12-01 08:00:00, 2015-12-01 08:10:00}|6    |{2015-12-01 07:50:00, 2015-12-01 08:00:00}|2         |\n",
            "|goldman|{2015-12-01 08:10:00, 2015-12-01 08:20:00}|6    |{2015-12-01 08:00:00, 2015-12-01 08:10:00}|6         |\n",
            "|goldman|{2015-12-01 08:20:00, 2015-12-01 08:30:00}|1    |{2015-12-01 08:10:00, 2015-12-01 08:20:00}|6         |\n",
            "|goldman|{2015-12-01 08:30:00, 2015-12-01 08:40:00}|2    |{2015-12-01 08:20:00, 2015-12-01 08:30:00}|1         |\n",
            "|goldman|{2015-12-01 08:40:00, 2015-12-01 08:50:00}|3    |{2015-12-01 08:30:00, 2015-12-01 08:40:00}|2         |\n",
            "|goldman|{2015-12-01 08:50:00, 2015-12-01 09:00:00}|7    |{2015-12-01 08:40:00, 2015-12-01 08:50:00}|3         |\n",
            "|goldman|{2015-12-01 09:00:00, 2015-12-01 09:10:00}|3    |{2015-12-01 08:50:00, 2015-12-01 09:00:00}|7         |\n",
            "+-------+------------------------------------------+-----+------------------------------------------+----------+\n",
            "only showing top 20 rows\n",
            "\n"
          ]
        }
      ]
    },
    {
      "cell_type": "code",
      "source": [
        "goldmanEventCountEach10mDF_check_doubled = (\n",
        "    goldmanEventCount10mDF_with_prev\n",
        "        .withColumn(\"has_doubled\",\n",
        "                    when(\n",
        "                        (col(\"count\") >= 10) &\n",
        "                        (col(\"count\") >= 2 * col(\"prev_count\")) &\n",
        "                        (col(\"window.start\") == col(\"prev_window.end\")),\n",
        "                        \"yes\")\n",
        "                    .otherwise(\"no\"))\n",
        ")\n",
        "\n",
        "goldmanEventCountEach10mDF_check_doubled.show(truncate=False)"
      ],
      "metadata": {
        "colab": {
          "base_uri": "https://localhost:8080/"
        },
        "id": "BDaOnsr7t33-",
        "outputId": "650f6acd-0686-4ae4-c9e4-bd92914b3fe4"
      },
      "execution_count": null,
      "outputs": [
        {
          "output_type": "stream",
          "name": "stdout",
          "text": [
            "+-------+------------------------------------------+-----+------------------------------------------+----------+-----------+\n",
            "|state  |window                                    |count|prev_window                               |prev_count|has_doubled|\n",
            "+-------+------------------------------------------+-----+------------------------------------------+----------+-----------+\n",
            "|goldman|{2015-12-01 05:20:00, 2015-12-01 05:30:00}|1    |NULL                                      |NULL      |no         |\n",
            "|goldman|{2015-12-01 05:50:00, 2015-12-01 06:00:00}|2    |{2015-12-01 05:20:00, 2015-12-01 05:30:00}|1         |no         |\n",
            "|goldman|{2015-12-01 06:00:00, 2015-12-01 06:10:00}|1    |{2015-12-01 05:50:00, 2015-12-01 06:00:00}|2         |no         |\n",
            "|goldman|{2015-12-01 06:10:00, 2015-12-01 06:20:00}|1    |{2015-12-01 06:00:00, 2015-12-01 06:10:00}|1         |no         |\n",
            "|goldman|{2015-12-01 06:20:00, 2015-12-01 06:30:00}|1    |{2015-12-01 06:10:00, 2015-12-01 06:20:00}|1         |no         |\n",
            "|goldman|{2015-12-01 06:30:00, 2015-12-01 06:40:00}|2    |{2015-12-01 06:20:00, 2015-12-01 06:30:00}|1         |no         |\n",
            "|goldman|{2015-12-01 06:40:00, 2015-12-01 06:50:00}|3    |{2015-12-01 06:30:00, 2015-12-01 06:40:00}|2         |no         |\n",
            "|goldman|{2015-12-01 06:50:00, 2015-12-01 07:00:00}|3    |{2015-12-01 06:40:00, 2015-12-01 06:50:00}|3         |no         |\n",
            "|goldman|{2015-12-01 07:00:00, 2015-12-01 07:10:00}|3    |{2015-12-01 06:50:00, 2015-12-01 07:00:00}|3         |no         |\n",
            "|goldman|{2015-12-01 07:20:00, 2015-12-01 07:30:00}|3    |{2015-12-01 07:00:00, 2015-12-01 07:10:00}|3         |no         |\n",
            "|goldman|{2015-12-01 07:30:00, 2015-12-01 07:40:00}|5    |{2015-12-01 07:20:00, 2015-12-01 07:30:00}|3         |no         |\n",
            "|goldman|{2015-12-01 07:40:00, 2015-12-01 07:50:00}|4    |{2015-12-01 07:30:00, 2015-12-01 07:40:00}|5         |no         |\n",
            "|goldman|{2015-12-01 07:50:00, 2015-12-01 08:00:00}|2    |{2015-12-01 07:40:00, 2015-12-01 07:50:00}|4         |no         |\n",
            "|goldman|{2015-12-01 08:00:00, 2015-12-01 08:10:00}|6    |{2015-12-01 07:50:00, 2015-12-01 08:00:00}|2         |no         |\n",
            "|goldman|{2015-12-01 08:10:00, 2015-12-01 08:20:00}|6    |{2015-12-01 08:00:00, 2015-12-01 08:10:00}|6         |no         |\n",
            "|goldman|{2015-12-01 08:20:00, 2015-12-01 08:30:00}|1    |{2015-12-01 08:10:00, 2015-12-01 08:20:00}|6         |no         |\n",
            "|goldman|{2015-12-01 08:30:00, 2015-12-01 08:40:00}|2    |{2015-12-01 08:20:00, 2015-12-01 08:30:00}|1         |no         |\n",
            "|goldman|{2015-12-01 08:40:00, 2015-12-01 08:50:00}|3    |{2015-12-01 08:30:00, 2015-12-01 08:40:00}|2         |no         |\n",
            "|goldman|{2015-12-01 08:50:00, 2015-12-01 09:00:00}|7    |{2015-12-01 08:40:00, 2015-12-01 08:50:00}|3         |no         |\n",
            "|goldman|{2015-12-01 09:00:00, 2015-12-01 09:10:00}|3    |{2015-12-01 08:50:00, 2015-12-01 09:00:00}|7         |no         |\n",
            "+-------+------------------------------------------+-----+------------------------------------------+----------+-----------+\n",
            "only showing top 20 rows\n",
            "\n"
          ]
        }
      ]
    },
    {
      "cell_type": "code",
      "source": [
        "goldmanEventCountEach10mDF_doubled = goldmanEventCountEach10mDF_check_doubled.filter(col(\"has_doubled\") == \"yes\")\n",
        "goldmanEventCountEach10mDF_doubled.show(truncate=False)"
      ],
      "metadata": {
        "colab": {
          "base_uri": "https://localhost:8080/"
        },
        "id": "EvAv1Y-kuWHP",
        "outputId": "3cdab7db-bdfd-4187-f881-9871ddc1ee3d"
      },
      "execution_count": null,
      "outputs": [
        {
          "output_type": "stream",
          "name": "stdout",
          "text": [
            "+-----+------+-----+-----------+----------+-----------+\n",
            "|state|window|count|prev_window|prev_count|has_doubled|\n",
            "+-----+------+-----+-----------+----------+-----------+\n",
            "+-----+------+-----+-----------+----------+-----------+\n",
            "\n"
          ]
        }
      ]
    },
    {
      "cell_type": "code",
      "source": [
        "# Define a function to format and print the results\n",
        "def print_goldman_doubled_count(rows):\n",
        "    for row in rows:\n",
        "        previous_count = row['prev_count']\n",
        "        current_count = row['count']\n",
        "        start_time = row['window']['start'].strftime(\"%Y-%m-%d %H:%M:%S\")\n",
        "        end_time = row['window']['end'].strftime(\"%Y-%m-%d %H:%M:%S\")\n",
        "        print(f\"The number of arrivals to Goldman Sachs has doubled from {previous_count} to {current_count} at {start_time} - {end_time}\")\n",
        "\n",
        "# Print the results in the specified format\n",
        "goldman_doubled_rows = goldmanEventCountEach10mDF_doubled.select(\"prev_count\", \"count\", \"window\").collect()  # Collect the rows to the driver\n",
        "print_goldman_doubled_count(goldman_doubled_rows)"
      ],
      "metadata": {
        "id": "NtR8oKLAyd24"
      },
      "execution_count": null,
      "outputs": []
    },
    {
      "cell_type": "markdown",
      "source": [
        "##citigroup"
      ],
      "metadata": {
        "id": "rCTykn6N6rGJ"
      }
    },
    {
      "cell_type": "code",
      "source": [
        "count_dropoff_at_citigroup_DF = (\n",
        "    dropoff_state_DF\n",
        "        .filter(dropoff_state_DF.state == 'citigroup')\n",
        "        .withWatermark(\"dropoff_datetime\", \"5 minutes\")\n",
        "        .groupBy(\"state\", window(\"dropoff_datetime\", \"10 minutes\"))\n",
        "        .count()\n",
        ")\n",
        "\n",
        "# Is this DF actually a streaming DF?\n",
        "count_dropoff_at_citigroup_DF.isStreaming"
      ],
      "metadata": {
        "colab": {
          "base_uri": "https://localhost:8080/"
        },
        "id": "M6SpBd5bhj_B",
        "outputId": "7635bb96-c0b5-43d6-e58e-fcd10f53fd9e"
      },
      "execution_count": null,
      "outputs": [
        {
          "output_type": "execute_result",
          "data": {
            "text/plain": [
              "True"
            ]
          },
          "metadata": {},
          "execution_count": 22
        }
      ]
    },
    {
      "cell_type": "code",
      "source": [
        "# This query stores the aggregation results in memory then visualize it\n",
        "citigroupEventCount10m = (\n",
        "    count_dropoff_at_citigroup_DF\n",
        "        .writeStream\n",
        "        .format(\"memory\")         # console or memory(= store in-memory table)\n",
        "        .queryName(\"citigroup_event_count_each_10m\")      # counts = name of the in-memory table\n",
        "        .outputMode(\"complete\")\n",
        "        .option(\"truncate\", \"false\")\n",
        "        .start()\n",
        ")\n",
        "citigroupEventCount10m.awaitTermination(1200)\n",
        "\n",
        "spark.sql('select (*) from citigroup_event_count_each_10m order by window').show(truncate=False)"
      ],
      "metadata": {
        "id": "0in5t2Fmg-rl",
        "colab": {
          "base_uri": "https://localhost:8080/"
        },
        "outputId": "b4e2907f-4f81-4945-a054-677368cedc84"
      },
      "execution_count": null,
      "outputs": [
        {
          "output_type": "stream",
          "name": "stdout",
          "text": [
            "+---------+------------------------------------------+-----+\n",
            "|state    |window                                    |count|\n",
            "+---------+------------------------------------------+-----+\n",
            "|citigroup|{2015-12-01 00:10:00, 2015-12-01 00:20:00}|1    |\n",
            "|citigroup|{2015-12-01 00:20:00, 2015-12-01 00:30:00}|2    |\n",
            "|citigroup|{2015-12-01 00:50:00, 2015-12-01 01:00:00}|2    |\n",
            "|citigroup|{2015-12-01 01:00:00, 2015-12-01 01:10:00}|1    |\n",
            "|citigroup|{2015-12-01 01:40:00, 2015-12-01 01:50:00}|1    |\n",
            "|citigroup|{2015-12-01 02:40:00, 2015-12-01 02:50:00}|1    |\n",
            "|citigroup|{2015-12-01 04:00:00, 2015-12-01 04:10:00}|1    |\n",
            "|citigroup|{2015-12-01 05:10:00, 2015-12-01 05:20:00}|1    |\n",
            "|citigroup|{2015-12-01 05:40:00, 2015-12-01 05:50:00}|1    |\n",
            "|citigroup|{2015-12-01 05:50:00, 2015-12-01 06:00:00}|6    |\n",
            "|citigroup|{2015-12-01 06:10:00, 2015-12-01 06:20:00}|1    |\n",
            "|citigroup|{2015-12-01 06:20:00, 2015-12-01 06:30:00}|7    |\n",
            "|citigroup|{2015-12-01 06:30:00, 2015-12-01 06:40:00}|7    |\n",
            "|citigroup|{2015-12-01 06:40:00, 2015-12-01 06:50:00}|13   |\n",
            "|citigroup|{2015-12-01 06:50:00, 2015-12-01 07:00:00}|18   |\n",
            "|citigroup|{2015-12-01 07:00:00, 2015-12-01 07:10:00}|15   |\n",
            "|citigroup|{2015-12-01 07:10:00, 2015-12-01 07:20:00}|10   |\n",
            "|citigroup|{2015-12-01 07:20:00, 2015-12-01 07:30:00}|10   |\n",
            "|citigroup|{2015-12-01 07:30:00, 2015-12-01 07:40:00}|9    |\n",
            "|citigroup|{2015-12-01 07:40:00, 2015-12-01 07:50:00}|10   |\n",
            "+---------+------------------------------------------+-----+\n",
            "only showing top 20 rows\n",
            "\n"
          ]
        }
      ]
    },
    {
      "cell_type": "code",
      "source": [
        "from pyspark.sql.window import Window\n",
        "\n",
        "# Define a window specification\n",
        "windowSpec  = Window.orderBy(\"window\")\n",
        "\n",
        "citigroupEventCount10mDF = spark.sql('select (*) from citigroup_event_count_each_10m order by window')\n",
        "\n",
        "citigroupEventCount10mDF_with_prev = (\n",
        "    citigroupEventCount10mDF\n",
        "        .withColumn(\"prev_window\", lag(\"window\", offset=1, default=None).over(windowSpec))\n",
        "        .withColumn(\"prev_count\", lag(\"count\", offset=1, default=None).over(windowSpec))\n",
        ")\n",
        "\n",
        "citigroupEventCount10mDF_with_prev.show(truncate=False)"
      ],
      "metadata": {
        "colab": {
          "base_uri": "https://localhost:8080/"
        },
        "id": "jHXaWpImzpCx",
        "outputId": "1c82d543-c487-49fa-9d77-8edc55e7e7e7"
      },
      "execution_count": null,
      "outputs": [
        {
          "output_type": "stream",
          "name": "stdout",
          "text": [
            "+---------+------------------------------------------+-----+------------------------------------------+----------+\n",
            "|state    |window                                    |count|prev_window                               |prev_count|\n",
            "+---------+------------------------------------------+-----+------------------------------------------+----------+\n",
            "|citigroup|{2015-12-01 00:10:00, 2015-12-01 00:20:00}|1    |NULL                                      |NULL      |\n",
            "|citigroup|{2015-12-01 00:20:00, 2015-12-01 00:30:00}|2    |{2015-12-01 00:10:00, 2015-12-01 00:20:00}|1         |\n",
            "|citigroup|{2015-12-01 00:50:00, 2015-12-01 01:00:00}|2    |{2015-12-01 00:20:00, 2015-12-01 00:30:00}|2         |\n",
            "|citigroup|{2015-12-01 01:00:00, 2015-12-01 01:10:00}|1    |{2015-12-01 00:50:00, 2015-12-01 01:00:00}|2         |\n",
            "|citigroup|{2015-12-01 01:40:00, 2015-12-01 01:50:00}|1    |{2015-12-01 01:00:00, 2015-12-01 01:10:00}|1         |\n",
            "|citigroup|{2015-12-01 02:40:00, 2015-12-01 02:50:00}|1    |{2015-12-01 01:40:00, 2015-12-01 01:50:00}|1         |\n",
            "|citigroup|{2015-12-01 04:00:00, 2015-12-01 04:10:00}|1    |{2015-12-01 02:40:00, 2015-12-01 02:50:00}|1         |\n",
            "|citigroup|{2015-12-01 05:10:00, 2015-12-01 05:20:00}|1    |{2015-12-01 04:00:00, 2015-12-01 04:10:00}|1         |\n",
            "|citigroup|{2015-12-01 05:40:00, 2015-12-01 05:50:00}|1    |{2015-12-01 05:10:00, 2015-12-01 05:20:00}|1         |\n",
            "|citigroup|{2015-12-01 05:50:00, 2015-12-01 06:00:00}|6    |{2015-12-01 05:40:00, 2015-12-01 05:50:00}|1         |\n",
            "|citigroup|{2015-12-01 06:10:00, 2015-12-01 06:20:00}|1    |{2015-12-01 05:50:00, 2015-12-01 06:00:00}|6         |\n",
            "|citigroup|{2015-12-01 06:20:00, 2015-12-01 06:30:00}|7    |{2015-12-01 06:10:00, 2015-12-01 06:20:00}|1         |\n",
            "|citigroup|{2015-12-01 06:30:00, 2015-12-01 06:40:00}|7    |{2015-12-01 06:20:00, 2015-12-01 06:30:00}|7         |\n",
            "|citigroup|{2015-12-01 06:40:00, 2015-12-01 06:50:00}|13   |{2015-12-01 06:30:00, 2015-12-01 06:40:00}|7         |\n",
            "|citigroup|{2015-12-01 06:50:00, 2015-12-01 07:00:00}|18   |{2015-12-01 06:40:00, 2015-12-01 06:50:00}|13        |\n",
            "|citigroup|{2015-12-01 07:00:00, 2015-12-01 07:10:00}|15   |{2015-12-01 06:50:00, 2015-12-01 07:00:00}|18        |\n",
            "|citigroup|{2015-12-01 07:10:00, 2015-12-01 07:20:00}|10   |{2015-12-01 07:00:00, 2015-12-01 07:10:00}|15        |\n",
            "|citigroup|{2015-12-01 07:20:00, 2015-12-01 07:30:00}|10   |{2015-12-01 07:10:00, 2015-12-01 07:20:00}|10        |\n",
            "|citigroup|{2015-12-01 07:30:00, 2015-12-01 07:40:00}|9    |{2015-12-01 07:20:00, 2015-12-01 07:30:00}|10        |\n",
            "|citigroup|{2015-12-01 07:40:00, 2015-12-01 07:50:00}|10   |{2015-12-01 07:30:00, 2015-12-01 07:40:00}|9         |\n",
            "+---------+------------------------------------------+-----+------------------------------------------+----------+\n",
            "only showing top 20 rows\n",
            "\n"
          ]
        }
      ]
    },
    {
      "cell_type": "code",
      "source": [
        "citigroupEventCountEach10mDF_check_doubled = (\n",
        "    citigroupEventCount10mDF_with_prev\n",
        "        .withColumn(\n",
        "            \"has_doubled\",\n",
        "            when(\n",
        "                (col(\"count\") >= 10) &\n",
        "                (col(\"count\") >= 2 * col(\"prev_count\")) &\n",
        "                (col(\"window.start\") == col(\"prev_window.end\")),\n",
        "                \"yes\")\n",
        "            .otherwise(\"no\"))\n",
        ")\n",
        "\n",
        "citigroupEventCountEach10mDF_check_doubled.show(truncate=False)"
      ],
      "metadata": {
        "id": "cwtxx9sI0CVU",
        "colab": {
          "base_uri": "https://localhost:8080/"
        },
        "outputId": "542d840e-41a5-4f2b-b35a-c3fe1bbe0bb8"
      },
      "execution_count": null,
      "outputs": [
        {
          "output_type": "stream",
          "name": "stdout",
          "text": [
            "+---------+------------------------------------------+-----+------------------------------------------+----------+-----------+\n",
            "|state    |window                                    |count|prev_window                               |prev_count|has_doubled|\n",
            "+---------+------------------------------------------+-----+------------------------------------------+----------+-----------+\n",
            "|citigroup|{2015-12-01 00:10:00, 2015-12-01 00:20:00}|1    |NULL                                      |NULL      |no         |\n",
            "|citigroup|{2015-12-01 00:20:00, 2015-12-01 00:30:00}|2    |{2015-12-01 00:10:00, 2015-12-01 00:20:00}|1         |no         |\n",
            "|citigroup|{2015-12-01 00:50:00, 2015-12-01 01:00:00}|2    |{2015-12-01 00:20:00, 2015-12-01 00:30:00}|2         |no         |\n",
            "|citigroup|{2015-12-01 01:00:00, 2015-12-01 01:10:00}|1    |{2015-12-01 00:50:00, 2015-12-01 01:00:00}|2         |no         |\n",
            "|citigroup|{2015-12-01 01:40:00, 2015-12-01 01:50:00}|1    |{2015-12-01 01:00:00, 2015-12-01 01:10:00}|1         |no         |\n",
            "|citigroup|{2015-12-01 02:40:00, 2015-12-01 02:50:00}|1    |{2015-12-01 01:40:00, 2015-12-01 01:50:00}|1         |no         |\n",
            "|citigroup|{2015-12-01 04:00:00, 2015-12-01 04:10:00}|1    |{2015-12-01 02:40:00, 2015-12-01 02:50:00}|1         |no         |\n",
            "|citigroup|{2015-12-01 05:10:00, 2015-12-01 05:20:00}|1    |{2015-12-01 04:00:00, 2015-12-01 04:10:00}|1         |no         |\n",
            "|citigroup|{2015-12-01 05:40:00, 2015-12-01 05:50:00}|1    |{2015-12-01 05:10:00, 2015-12-01 05:20:00}|1         |no         |\n",
            "|citigroup|{2015-12-01 05:50:00, 2015-12-01 06:00:00}|6    |{2015-12-01 05:40:00, 2015-12-01 05:50:00}|1         |no         |\n",
            "|citigroup|{2015-12-01 06:10:00, 2015-12-01 06:20:00}|1    |{2015-12-01 05:50:00, 2015-12-01 06:00:00}|6         |no         |\n",
            "|citigroup|{2015-12-01 06:20:00, 2015-12-01 06:30:00}|7    |{2015-12-01 06:10:00, 2015-12-01 06:20:00}|1         |no         |\n",
            "|citigroup|{2015-12-01 06:30:00, 2015-12-01 06:40:00}|7    |{2015-12-01 06:20:00, 2015-12-01 06:30:00}|7         |no         |\n",
            "|citigroup|{2015-12-01 06:40:00, 2015-12-01 06:50:00}|13   |{2015-12-01 06:30:00, 2015-12-01 06:40:00}|7         |no         |\n",
            "|citigroup|{2015-12-01 06:50:00, 2015-12-01 07:00:00}|18   |{2015-12-01 06:40:00, 2015-12-01 06:50:00}|13        |no         |\n",
            "|citigroup|{2015-12-01 07:00:00, 2015-12-01 07:10:00}|15   |{2015-12-01 06:50:00, 2015-12-01 07:00:00}|18        |no         |\n",
            "|citigroup|{2015-12-01 07:10:00, 2015-12-01 07:20:00}|10   |{2015-12-01 07:00:00, 2015-12-01 07:10:00}|15        |no         |\n",
            "|citigroup|{2015-12-01 07:20:00, 2015-12-01 07:30:00}|10   |{2015-12-01 07:10:00, 2015-12-01 07:20:00}|10        |no         |\n",
            "|citigroup|{2015-12-01 07:30:00, 2015-12-01 07:40:00}|9    |{2015-12-01 07:20:00, 2015-12-01 07:30:00}|10        |no         |\n",
            "|citigroup|{2015-12-01 07:40:00, 2015-12-01 07:50:00}|10   |{2015-12-01 07:30:00, 2015-12-01 07:40:00}|9         |no         |\n",
            "+---------+------------------------------------------+-----+------------------------------------------+----------+-----------+\n",
            "only showing top 20 rows\n",
            "\n"
          ]
        }
      ]
    },
    {
      "cell_type": "code",
      "source": [
        "citigroupEventCountEach10mDF_doubled = citigroupEventCountEach10mDF_check_doubled.filter(col(\"has_doubled\") == \"yes\")\n",
        "citigroupEventCountEach10mDF_doubled.show(truncate=False)"
      ],
      "metadata": {
        "colab": {
          "base_uri": "https://localhost:8080/"
        },
        "id": "MBRQ9yrt1ktb",
        "outputId": "698fc550-9b09-46b1-9a6e-162ce0eb6b5c"
      },
      "execution_count": null,
      "outputs": [
        {
          "output_type": "stream",
          "name": "stdout",
          "text": [
            "+---------+------------------------------------------+-----+------------------------------------------+----------+-----------+\n",
            "|state    |window                                    |count|prev_window                               |prev_count|has_doubled|\n",
            "+---------+------------------------------------------+-----+------------------------------------------+----------+-----------+\n",
            "|citigroup|{2015-12-01 08:50:00, 2015-12-01 09:00:00}|12   |{2015-12-01 08:40:00, 2015-12-01 08:50:00}|3         |yes        |\n",
            "|citigroup|{2015-12-01 14:00:00, 2015-12-01 14:10:00}|10   |{2015-12-01 13:50:00, 2015-12-01 14:00:00}|3         |yes        |\n",
            "+---------+------------------------------------------+-----+------------------------------------------+----------+-----------+\n",
            "\n"
          ]
        }
      ]
    },
    {
      "cell_type": "code",
      "source": [
        "# Define a function to format and print the results\n",
        "def print_citigroup_doubled_count(rows):\n",
        "    for row in rows:\n",
        "        previous_count = row['prev_count']\n",
        "        current_count = row['count']\n",
        "        start_time = row['window']['start'].strftime(\"%Y-%m-%d %H:%M:%S\")\n",
        "        end_time = row['window']['end'].strftime(\"%Y-%m-%d %H:%M:%S\")\n",
        "        print(f\"The number of arrivals to Citigroup has doubled from {previous_count} to {current_count} at {start_time} - {end_time}\")\n",
        "\n",
        "# Print the results in the specified format\n",
        "citigroup_doubled_rows = citigroupEventCountEach10mDF_doubled.select(\"prev_count\", \"count\", \"window\").collect()  # Collect the rows to the driver\n",
        "print_citigroup_doubled_count(citigroup_doubled_rows)"
      ],
      "metadata": {
        "colab": {
          "base_uri": "https://localhost:8080/"
        },
        "id": "rdqKv8kV2leg",
        "outputId": "a2d7b3d6-6fda-4990-b3fd-42efc854c1c7"
      },
      "execution_count": null,
      "outputs": [
        {
          "output_type": "stream",
          "name": "stdout",
          "text": [
            "The number of arrivals to Citigroup has doubled from 3 to 12 at 2015-12-01 08:50:00 - 2015-12-01 09:00:00\n",
            "The number of arrivals to Citigroup has doubled from 3 to 10 at 2015-12-01 14:00:00 - 2015-12-01 14:10:00\n"
          ]
        }
      ]
    },
    {
      "cell_type": "code",
      "source": [],
      "metadata": {
        "id": "OKvkU_kiTbyV"
      },
      "execution_count": null,
      "outputs": []
    }
  ]
}