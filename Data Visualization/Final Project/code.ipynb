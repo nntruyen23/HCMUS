{
  "cells": [
    {
      "cell_type": "markdown",
      "metadata": {
        "id": "tNKKYRLWEx8g"
      },
      "source": [
        "|MSSV|Họ và tên|\n",
        "|----|---------|\n",
        "|21127012|Trần Huy Bân|\n",
        "|21127191|Nguyễn Nhật Truyền|\n",
        "|21127430|Nguyễn Huy Thành|\n",
        "|21127507|Đinh Công Huy Hoàng|\n",
        "|21127592|Nguyễn Minh Đạt|"
      ]
    },
    {
      "cell_type": "code",
      "execution_count": 8,
      "metadata": {
        "id": "gOjPivNcHCQm"
      },
      "outputs": [],
      "source": [
        "import pandas as pd\n",
        "import numpy as np\n",
        "import seaborn as sns\n",
        "import matplotlib.pyplot as plt\n",
        "import warnings\n",
        "warnings.filterwarnings(\"ignore\")"
      ]
    },
    {
      "cell_type": "code",
      "source": [
        "from google.colab import drive\n",
        "drive.mount('/content/drive')"
      ],
      "metadata": {
        "colab": {
          "base_uri": "https://localhost:8080/"
        },
        "id": "MQy4u25o3IOC",
        "outputId": "e79872ff-df03-42d3-a39c-13557d40f816"
      },
      "execution_count": 9,
      "outputs": [
        {
          "output_type": "stream",
          "name": "stdout",
          "text": [
            "Drive already mounted at /content/drive; to attempt to forcibly remount, call drive.mount(\"/content/drive\", force_remount=True).\n"
          ]
        }
      ]
    },
    {
      "cell_type": "markdown",
      "metadata": {
        "id": "10XPQdDFHCQq"
      },
      "source": [
        "## **ĐỌC DỮ LIỆU**"
      ]
    },
    {
      "cell_type": "code",
      "execution_count": 11,
      "metadata": {
        "colab": {
          "base_uri": "https://localhost:8080/",
          "height": 423
        },
        "id": "WpHi2BZrHCQq",
        "outputId": "731b5ff1-2dae-4588-b127-b3f542f99635"
      },
      "outputs": [
        {
          "output_type": "execute_result",
          "data": {
            "text/plain": [
              "         Tỉnh  Diện tích  Mật độ dân số   Năm  Dân số trung bình       Nam  \\\n",
              "0     CẢ NƯỚC  330957.60     217.536929  1995           71995.50  35237.40   \n",
              "1     CẢ NƯỚC  330957.60     221.045536  1996           73156.70  35857.30   \n",
              "2     CẢ NƯỚC  330957.60     224.520905  1997           74306.90  36473.10   \n",
              "3     CẢ NƯỚC  330957.60     227.993858  1998           75456.30  37089.70   \n",
              "4     CẢ NƯỚC  330957.60     231.439616  1999           76596.70  37662.10   \n",
              "...       ...        ...            ...   ...                ...       ...   \n",
              "1955   Cà Mau    5221.20     228.990000  2018            1195.60    605.10   \n",
              "1956   Cà Mau    5221.20     229.000000  2019            1194.30    604.90   \n",
              "1957   Cà Mau    5274.50     226.000000  2020            1193.89    604.74   \n",
              "1958   Cà Mau    5274.51     229.000000  2021            1208.75    612.26   \n",
              "1959   Cà Mau    5274.51     229.000000  2022            1207.63    617.17   \n",
              "\n",
              "            Nữ  Thành Thị  Nông Thôn  Doanh thu trung bình  \\\n",
              "0     36758.10   14938.10   57057.40                  1387   \n",
              "1     37299.40   15419.90   57736.80                  1387   \n",
              "2     37833.80   16835.40   57471.50                  1387   \n",
              "3     38366.60   17464.60   57991.70                  1387   \n",
              "4     38934.60   18081.60   58515.10                  1387   \n",
              "...        ...        ...        ...                   ...   \n",
              "1955    590.40     270.30     925.30                  2986   \n",
              "1956    589.40     271.70     922.60                  3214   \n",
              "1957    589.16     271.11     922.78                  3034   \n",
              "1958    596.49     275.35     933.40                  3239   \n",
              "1959    590.46     275.77     931.86                  3768   \n",
              "\n",
              "      Thu từ tiền lương, tiền công  Thu từ nông, lâm nghiệp, thủy sản  \\\n",
              "0                              622                                279   \n",
              "1                              622                                279   \n",
              "2                              622                                279   \n",
              "3                              622                                279   \n",
              "4                              622                                279   \n",
              "...                            ...                                ...   \n",
              "1955                           798                               1015   \n",
              "1956                          1112                               1000   \n",
              "1957                          1152                                967   \n",
              "1958                          1096                                998   \n",
              "1959                          1419                               1115   \n",
              "\n",
              "      Thu phi nông, lâm nghiệp, thủy sản  Các khoản thu khác  \n",
              "0                                    328                 158  \n",
              "1                                    328                 158  \n",
              "2                                    328                 158  \n",
              "3                                    328                 158  \n",
              "4                                    328                 158  \n",
              "...                                  ...                 ...  \n",
              "1955                                 813                 360  \n",
              "1956                                 845                 258  \n",
              "1957                                 552                 364  \n",
              "1958                                 853                 292  \n",
              "1959                                 918                 316  \n",
              "\n",
              "[1960 rows x 14 columns]"
            ],
            "text/html": [
              "\n",
              "  <div id=\"df-508bc5e6-3836-4048-ab5c-555e6d7a49b3\" class=\"colab-df-container\">\n",
              "    <div>\n",
              "<style scoped>\n",
              "    .dataframe tbody tr th:only-of-type {\n",
              "        vertical-align: middle;\n",
              "    }\n",
              "\n",
              "    .dataframe tbody tr th {\n",
              "        vertical-align: top;\n",
              "    }\n",
              "\n",
              "    .dataframe thead th {\n",
              "        text-align: right;\n",
              "    }\n",
              "</style>\n",
              "<table border=\"1\" class=\"dataframe\">\n",
              "  <thead>\n",
              "    <tr style=\"text-align: right;\">\n",
              "      <th></th>\n",
              "      <th>Tỉnh</th>\n",
              "      <th>Diện tích</th>\n",
              "      <th>Mật độ dân số</th>\n",
              "      <th>Năm</th>\n",
              "      <th>Dân số trung bình</th>\n",
              "      <th>Nam</th>\n",
              "      <th>Nữ</th>\n",
              "      <th>Thành Thị</th>\n",
              "      <th>Nông Thôn</th>\n",
              "      <th>Doanh thu trung bình</th>\n",
              "      <th>Thu từ tiền lương, tiền công</th>\n",
              "      <th>Thu từ nông, lâm nghiệp, thủy sản</th>\n",
              "      <th>Thu phi nông, lâm nghiệp, thủy sản</th>\n",
              "      <th>Các khoản thu khác</th>\n",
              "    </tr>\n",
              "  </thead>\n",
              "  <tbody>\n",
              "    <tr>\n",
              "      <th>0</th>\n",
              "      <td>CẢ NƯỚC</td>\n",
              "      <td>330957.60</td>\n",
              "      <td>217.536929</td>\n",
              "      <td>1995</td>\n",
              "      <td>71995.50</td>\n",
              "      <td>35237.40</td>\n",
              "      <td>36758.10</td>\n",
              "      <td>14938.10</td>\n",
              "      <td>57057.40</td>\n",
              "      <td>1387</td>\n",
              "      <td>622</td>\n",
              "      <td>279</td>\n",
              "      <td>328</td>\n",
              "      <td>158</td>\n",
              "    </tr>\n",
              "    <tr>\n",
              "      <th>1</th>\n",
              "      <td>CẢ NƯỚC</td>\n",
              "      <td>330957.60</td>\n",
              "      <td>221.045536</td>\n",
              "      <td>1996</td>\n",
              "      <td>73156.70</td>\n",
              "      <td>35857.30</td>\n",
              "      <td>37299.40</td>\n",
              "      <td>15419.90</td>\n",
              "      <td>57736.80</td>\n",
              "      <td>1387</td>\n",
              "      <td>622</td>\n",
              "      <td>279</td>\n",
              "      <td>328</td>\n",
              "      <td>158</td>\n",
              "    </tr>\n",
              "    <tr>\n",
              "      <th>2</th>\n",
              "      <td>CẢ NƯỚC</td>\n",
              "      <td>330957.60</td>\n",
              "      <td>224.520905</td>\n",
              "      <td>1997</td>\n",
              "      <td>74306.90</td>\n",
              "      <td>36473.10</td>\n",
              "      <td>37833.80</td>\n",
              "      <td>16835.40</td>\n",
              "      <td>57471.50</td>\n",
              "      <td>1387</td>\n",
              "      <td>622</td>\n",
              "      <td>279</td>\n",
              "      <td>328</td>\n",
              "      <td>158</td>\n",
              "    </tr>\n",
              "    <tr>\n",
              "      <th>3</th>\n",
              "      <td>CẢ NƯỚC</td>\n",
              "      <td>330957.60</td>\n",
              "      <td>227.993858</td>\n",
              "      <td>1998</td>\n",
              "      <td>75456.30</td>\n",
              "      <td>37089.70</td>\n",
              "      <td>38366.60</td>\n",
              "      <td>17464.60</td>\n",
              "      <td>57991.70</td>\n",
              "      <td>1387</td>\n",
              "      <td>622</td>\n",
              "      <td>279</td>\n",
              "      <td>328</td>\n",
              "      <td>158</td>\n",
              "    </tr>\n",
              "    <tr>\n",
              "      <th>4</th>\n",
              "      <td>CẢ NƯỚC</td>\n",
              "      <td>330957.60</td>\n",
              "      <td>231.439616</td>\n",
              "      <td>1999</td>\n",
              "      <td>76596.70</td>\n",
              "      <td>37662.10</td>\n",
              "      <td>38934.60</td>\n",
              "      <td>18081.60</td>\n",
              "      <td>58515.10</td>\n",
              "      <td>1387</td>\n",
              "      <td>622</td>\n",
              "      <td>279</td>\n",
              "      <td>328</td>\n",
              "      <td>158</td>\n",
              "    </tr>\n",
              "    <tr>\n",
              "      <th>...</th>\n",
              "      <td>...</td>\n",
              "      <td>...</td>\n",
              "      <td>...</td>\n",
              "      <td>...</td>\n",
              "      <td>...</td>\n",
              "      <td>...</td>\n",
              "      <td>...</td>\n",
              "      <td>...</td>\n",
              "      <td>...</td>\n",
              "      <td>...</td>\n",
              "      <td>...</td>\n",
              "      <td>...</td>\n",
              "      <td>...</td>\n",
              "      <td>...</td>\n",
              "    </tr>\n",
              "    <tr>\n",
              "      <th>1955</th>\n",
              "      <td>Cà Mau</td>\n",
              "      <td>5221.20</td>\n",
              "      <td>228.990000</td>\n",
              "      <td>2018</td>\n",
              "      <td>1195.60</td>\n",
              "      <td>605.10</td>\n",
              "      <td>590.40</td>\n",
              "      <td>270.30</td>\n",
              "      <td>925.30</td>\n",
              "      <td>2986</td>\n",
              "      <td>798</td>\n",
              "      <td>1015</td>\n",
              "      <td>813</td>\n",
              "      <td>360</td>\n",
              "    </tr>\n",
              "    <tr>\n",
              "      <th>1956</th>\n",
              "      <td>Cà Mau</td>\n",
              "      <td>5221.20</td>\n",
              "      <td>229.000000</td>\n",
              "      <td>2019</td>\n",
              "      <td>1194.30</td>\n",
              "      <td>604.90</td>\n",
              "      <td>589.40</td>\n",
              "      <td>271.70</td>\n",
              "      <td>922.60</td>\n",
              "      <td>3214</td>\n",
              "      <td>1112</td>\n",
              "      <td>1000</td>\n",
              "      <td>845</td>\n",
              "      <td>258</td>\n",
              "    </tr>\n",
              "    <tr>\n",
              "      <th>1957</th>\n",
              "      <td>Cà Mau</td>\n",
              "      <td>5274.50</td>\n",
              "      <td>226.000000</td>\n",
              "      <td>2020</td>\n",
              "      <td>1193.89</td>\n",
              "      <td>604.74</td>\n",
              "      <td>589.16</td>\n",
              "      <td>271.11</td>\n",
              "      <td>922.78</td>\n",
              "      <td>3034</td>\n",
              "      <td>1152</td>\n",
              "      <td>967</td>\n",
              "      <td>552</td>\n",
              "      <td>364</td>\n",
              "    </tr>\n",
              "    <tr>\n",
              "      <th>1958</th>\n",
              "      <td>Cà Mau</td>\n",
              "      <td>5274.51</td>\n",
              "      <td>229.000000</td>\n",
              "      <td>2021</td>\n",
              "      <td>1208.75</td>\n",
              "      <td>612.26</td>\n",
              "      <td>596.49</td>\n",
              "      <td>275.35</td>\n",
              "      <td>933.40</td>\n",
              "      <td>3239</td>\n",
              "      <td>1096</td>\n",
              "      <td>998</td>\n",
              "      <td>853</td>\n",
              "      <td>292</td>\n",
              "    </tr>\n",
              "    <tr>\n",
              "      <th>1959</th>\n",
              "      <td>Cà Mau</td>\n",
              "      <td>5274.51</td>\n",
              "      <td>229.000000</td>\n",
              "      <td>2022</td>\n",
              "      <td>1207.63</td>\n",
              "      <td>617.17</td>\n",
              "      <td>590.46</td>\n",
              "      <td>275.77</td>\n",
              "      <td>931.86</td>\n",
              "      <td>3768</td>\n",
              "      <td>1419</td>\n",
              "      <td>1115</td>\n",
              "      <td>918</td>\n",
              "      <td>316</td>\n",
              "    </tr>\n",
              "  </tbody>\n",
              "</table>\n",
              "<p>1960 rows × 14 columns</p>\n",
              "</div>\n",
              "    <div class=\"colab-df-buttons\">\n",
              "\n",
              "  <div class=\"colab-df-container\">\n",
              "    <button class=\"colab-df-convert\" onclick=\"convertToInteractive('df-508bc5e6-3836-4048-ab5c-555e6d7a49b3')\"\n",
              "            title=\"Convert this dataframe to an interactive table.\"\n",
              "            style=\"display:none;\">\n",
              "\n",
              "  <svg xmlns=\"http://www.w3.org/2000/svg\" height=\"24px\" viewBox=\"0 -960 960 960\">\n",
              "    <path d=\"M120-120v-720h720v720H120Zm60-500h600v-160H180v160Zm220 220h160v-160H400v160Zm0 220h160v-160H400v160ZM180-400h160v-160H180v160Zm440 0h160v-160H620v160ZM180-180h160v-160H180v160Zm440 0h160v-160H620v160Z\"/>\n",
              "  </svg>\n",
              "    </button>\n",
              "\n",
              "  <style>\n",
              "    .colab-df-container {\n",
              "      display:flex;\n",
              "      gap: 12px;\n",
              "    }\n",
              "\n",
              "    .colab-df-convert {\n",
              "      background-color: #E8F0FE;\n",
              "      border: none;\n",
              "      border-radius: 50%;\n",
              "      cursor: pointer;\n",
              "      display: none;\n",
              "      fill: #1967D2;\n",
              "      height: 32px;\n",
              "      padding: 0 0 0 0;\n",
              "      width: 32px;\n",
              "    }\n",
              "\n",
              "    .colab-df-convert:hover {\n",
              "      background-color: #E2EBFA;\n",
              "      box-shadow: 0px 1px 2px rgba(60, 64, 67, 0.3), 0px 1px 3px 1px rgba(60, 64, 67, 0.15);\n",
              "      fill: #174EA6;\n",
              "    }\n",
              "\n",
              "    .colab-df-buttons div {\n",
              "      margin-bottom: 4px;\n",
              "    }\n",
              "\n",
              "    [theme=dark] .colab-df-convert {\n",
              "      background-color: #3B4455;\n",
              "      fill: #D2E3FC;\n",
              "    }\n",
              "\n",
              "    [theme=dark] .colab-df-convert:hover {\n",
              "      background-color: #434B5C;\n",
              "      box-shadow: 0px 1px 3px 1px rgba(0, 0, 0, 0.15);\n",
              "      filter: drop-shadow(0px 1px 2px rgba(0, 0, 0, 0.3));\n",
              "      fill: #FFFFFF;\n",
              "    }\n",
              "  </style>\n",
              "\n",
              "    <script>\n",
              "      const buttonEl =\n",
              "        document.querySelector('#df-508bc5e6-3836-4048-ab5c-555e6d7a49b3 button.colab-df-convert');\n",
              "      buttonEl.style.display =\n",
              "        google.colab.kernel.accessAllowed ? 'block' : 'none';\n",
              "\n",
              "      async function convertToInteractive(key) {\n",
              "        const element = document.querySelector('#df-508bc5e6-3836-4048-ab5c-555e6d7a49b3');\n",
              "        const dataTable =\n",
              "          await google.colab.kernel.invokeFunction('convertToInteractive',\n",
              "                                                    [key], {});\n",
              "        if (!dataTable) return;\n",
              "\n",
              "        const docLinkHtml = 'Like what you see? Visit the ' +\n",
              "          '<a target=\"_blank\" href=https://colab.research.google.com/notebooks/data_table.ipynb>data table notebook</a>'\n",
              "          + ' to learn more about interactive tables.';\n",
              "        element.innerHTML = '';\n",
              "        dataTable['output_type'] = 'display_data';\n",
              "        await google.colab.output.renderOutput(dataTable, element);\n",
              "        const docLink = document.createElement('div');\n",
              "        docLink.innerHTML = docLinkHtml;\n",
              "        element.appendChild(docLink);\n",
              "      }\n",
              "    </script>\n",
              "  </div>\n",
              "\n",
              "\n",
              "<div id=\"df-c2da43a9-f756-4f7e-ab82-6cb168c68332\">\n",
              "  <button class=\"colab-df-quickchart\" onclick=\"quickchart('df-c2da43a9-f756-4f7e-ab82-6cb168c68332')\"\n",
              "            title=\"Suggest charts\"\n",
              "            style=\"display:none;\">\n",
              "\n",
              "<svg xmlns=\"http://www.w3.org/2000/svg\" height=\"24px\"viewBox=\"0 0 24 24\"\n",
              "     width=\"24px\">\n",
              "    <g>\n",
              "        <path d=\"M19 3H5c-1.1 0-2 .9-2 2v14c0 1.1.9 2 2 2h14c1.1 0 2-.9 2-2V5c0-1.1-.9-2-2-2zM9 17H7v-7h2v7zm4 0h-2V7h2v10zm4 0h-2v-4h2v4z\"/>\n",
              "    </g>\n",
              "</svg>\n",
              "  </button>\n",
              "\n",
              "<style>\n",
              "  .colab-df-quickchart {\n",
              "      --bg-color: #E8F0FE;\n",
              "      --fill-color: #1967D2;\n",
              "      --hover-bg-color: #E2EBFA;\n",
              "      --hover-fill-color: #174EA6;\n",
              "      --disabled-fill-color: #AAA;\n",
              "      --disabled-bg-color: #DDD;\n",
              "  }\n",
              "\n",
              "  [theme=dark] .colab-df-quickchart {\n",
              "      --bg-color: #3B4455;\n",
              "      --fill-color: #D2E3FC;\n",
              "      --hover-bg-color: #434B5C;\n",
              "      --hover-fill-color: #FFFFFF;\n",
              "      --disabled-bg-color: #3B4455;\n",
              "      --disabled-fill-color: #666;\n",
              "  }\n",
              "\n",
              "  .colab-df-quickchart {\n",
              "    background-color: var(--bg-color);\n",
              "    border: none;\n",
              "    border-radius: 50%;\n",
              "    cursor: pointer;\n",
              "    display: none;\n",
              "    fill: var(--fill-color);\n",
              "    height: 32px;\n",
              "    padding: 0;\n",
              "    width: 32px;\n",
              "  }\n",
              "\n",
              "  .colab-df-quickchart:hover {\n",
              "    background-color: var(--hover-bg-color);\n",
              "    box-shadow: 0 1px 2px rgba(60, 64, 67, 0.3), 0 1px 3px 1px rgba(60, 64, 67, 0.15);\n",
              "    fill: var(--button-hover-fill-color);\n",
              "  }\n",
              "\n",
              "  .colab-df-quickchart-complete:disabled,\n",
              "  .colab-df-quickchart-complete:disabled:hover {\n",
              "    background-color: var(--disabled-bg-color);\n",
              "    fill: var(--disabled-fill-color);\n",
              "    box-shadow: none;\n",
              "  }\n",
              "\n",
              "  .colab-df-spinner {\n",
              "    border: 2px solid var(--fill-color);\n",
              "    border-color: transparent;\n",
              "    border-bottom-color: var(--fill-color);\n",
              "    animation:\n",
              "      spin 1s steps(1) infinite;\n",
              "  }\n",
              "\n",
              "  @keyframes spin {\n",
              "    0% {\n",
              "      border-color: transparent;\n",
              "      border-bottom-color: var(--fill-color);\n",
              "      border-left-color: var(--fill-color);\n",
              "    }\n",
              "    20% {\n",
              "      border-color: transparent;\n",
              "      border-left-color: var(--fill-color);\n",
              "      border-top-color: var(--fill-color);\n",
              "    }\n",
              "    30% {\n",
              "      border-color: transparent;\n",
              "      border-left-color: var(--fill-color);\n",
              "      border-top-color: var(--fill-color);\n",
              "      border-right-color: var(--fill-color);\n",
              "    }\n",
              "    40% {\n",
              "      border-color: transparent;\n",
              "      border-right-color: var(--fill-color);\n",
              "      border-top-color: var(--fill-color);\n",
              "    }\n",
              "    60% {\n",
              "      border-color: transparent;\n",
              "      border-right-color: var(--fill-color);\n",
              "    }\n",
              "    80% {\n",
              "      border-color: transparent;\n",
              "      border-right-color: var(--fill-color);\n",
              "      border-bottom-color: var(--fill-color);\n",
              "    }\n",
              "    90% {\n",
              "      border-color: transparent;\n",
              "      border-bottom-color: var(--fill-color);\n",
              "    }\n",
              "  }\n",
              "</style>\n",
              "\n",
              "  <script>\n",
              "    async function quickchart(key) {\n",
              "      const quickchartButtonEl =\n",
              "        document.querySelector('#' + key + ' button');\n",
              "      quickchartButtonEl.disabled = true;  // To prevent multiple clicks.\n",
              "      quickchartButtonEl.classList.add('colab-df-spinner');\n",
              "      try {\n",
              "        const charts = await google.colab.kernel.invokeFunction(\n",
              "            'suggestCharts', [key], {});\n",
              "      } catch (error) {\n",
              "        console.error('Error during call to suggestCharts:', error);\n",
              "      }\n",
              "      quickchartButtonEl.classList.remove('colab-df-spinner');\n",
              "      quickchartButtonEl.classList.add('colab-df-quickchart-complete');\n",
              "    }\n",
              "    (() => {\n",
              "      let quickchartButtonEl =\n",
              "        document.querySelector('#df-c2da43a9-f756-4f7e-ab82-6cb168c68332 button');\n",
              "      quickchartButtonEl.style.display =\n",
              "        google.colab.kernel.accessAllowed ? 'block' : 'none';\n",
              "    })();\n",
              "  </script>\n",
              "</div>\n",
              "\n",
              "  <div id=\"id_52e5fe98-be77-4ac7-809f-9c4c8b6473e8\">\n",
              "    <style>\n",
              "      .colab-df-generate {\n",
              "        background-color: #E8F0FE;\n",
              "        border: none;\n",
              "        border-radius: 50%;\n",
              "        cursor: pointer;\n",
              "        display: none;\n",
              "        fill: #1967D2;\n",
              "        height: 32px;\n",
              "        padding: 0 0 0 0;\n",
              "        width: 32px;\n",
              "      }\n",
              "\n",
              "      .colab-df-generate:hover {\n",
              "        background-color: #E2EBFA;\n",
              "        box-shadow: 0px 1px 2px rgba(60, 64, 67, 0.3), 0px 1px 3px 1px rgba(60, 64, 67, 0.15);\n",
              "        fill: #174EA6;\n",
              "      }\n",
              "\n",
              "      [theme=dark] .colab-df-generate {\n",
              "        background-color: #3B4455;\n",
              "        fill: #D2E3FC;\n",
              "      }\n",
              "\n",
              "      [theme=dark] .colab-df-generate:hover {\n",
              "        background-color: #434B5C;\n",
              "        box-shadow: 0px 1px 3px 1px rgba(0, 0, 0, 0.15);\n",
              "        filter: drop-shadow(0px 1px 2px rgba(0, 0, 0, 0.3));\n",
              "        fill: #FFFFFF;\n",
              "      }\n",
              "    </style>\n",
              "    <button class=\"colab-df-generate\" onclick=\"generateWithVariable('raw_data')\"\n",
              "            title=\"Generate code using this dataframe.\"\n",
              "            style=\"display:none;\">\n",
              "\n",
              "  <svg xmlns=\"http://www.w3.org/2000/svg\" height=\"24px\"viewBox=\"0 0 24 24\"\n",
              "       width=\"24px\">\n",
              "    <path d=\"M7,19H8.4L18.45,9,17,7.55,7,17.6ZM5,21V16.75L18.45,3.32a2,2,0,0,1,2.83,0l1.4,1.43a1.91,1.91,0,0,1,.58,1.4,1.91,1.91,0,0,1-.58,1.4L9.25,21ZM18.45,9,17,7.55Zm-12,3A5.31,5.31,0,0,0,4.9,8.1,5.31,5.31,0,0,0,1,6.5,5.31,5.31,0,0,0,4.9,4.9,5.31,5.31,0,0,0,6.5,1,5.31,5.31,0,0,0,8.1,4.9,5.31,5.31,0,0,0,12,6.5,5.46,5.46,0,0,0,6.5,12Z\"/>\n",
              "  </svg>\n",
              "    </button>\n",
              "    <script>\n",
              "      (() => {\n",
              "      const buttonEl =\n",
              "        document.querySelector('#id_52e5fe98-be77-4ac7-809f-9c4c8b6473e8 button.colab-df-generate');\n",
              "      buttonEl.style.display =\n",
              "        google.colab.kernel.accessAllowed ? 'block' : 'none';\n",
              "\n",
              "      buttonEl.onclick = () => {\n",
              "        google.colab.notebook.generateWithVariable('raw_data');\n",
              "      }\n",
              "      })();\n",
              "    </script>\n",
              "  </div>\n",
              "\n",
              "    </div>\n",
              "  </div>\n"
            ],
            "application/vnd.google.colaboratory.intrinsic+json": {
              "type": "dataframe",
              "variable_name": "raw_data",
              "summary": "{\n  \"name\": \"raw_data\",\n  \"rows\": 1960,\n  \"fields\": [\n    {\n      \"column\": \"T\\u1ec9nh\",\n      \"properties\": {\n        \"dtype\": \"category\",\n        \"num_unique_values\": 70,\n        \"samples\": [\n          \"B\\u1eafc Giang\",\n          \"C\\u1ea2 N\\u01af\\u1edaC\",\n          \"\\u00d0\\u00f4ng Nam B\\u1ed9\"\n        ],\n        \"semantic_type\": \"\",\n        \"description\": \"\"\n      }\n    },\n    {\n      \"column\": \"Di\\u1ec7n t\\u00edch\",\n      \"properties\": {\n        \"dtype\": \"number\",\n        \"std\": 41753.30049342871,\n        \"min\": 822.7,\n        \"max\": 331345.7,\n        \"num_unique_values\": 410,\n        \"samples\": [\n          95835.8,\n          8310.1,\n          3531.7\n        ],\n        \"semantic_type\": \"\",\n        \"description\": \"\"\n      }\n    },\n    {\n      \"column\": \"M\\u1eadt \\u0111\\u1ed9 d\\u00e2n s\\u1ed1\",\n      \"properties\": {\n        \"dtype\": \"number\",\n        \"std\": 523.8736232393335,\n        \"min\": 28.84535997357992,\n        \"max\": 4481.0,\n        \"num_unique_values\": 1861,\n        \"samples\": [\n          1192.548596112311,\n          57.29102358315842,\n          220.2694673898461\n        ],\n        \"semantic_type\": \"\",\n        \"description\": \"\"\n      }\n    },\n    {\n      \"column\": \"N\\u0103m\",\n      \"properties\": {\n        \"dtype\": \"number\",\n        \"std\": 8,\n        \"min\": 1995,\n        \"max\": 2022,\n        \"num_unique_values\": 28,\n        \"samples\": [\n          2004,\n          2020,\n          2003\n        ],\n        \"semantic_type\": \"\",\n        \"description\": \"\"\n      }\n    },\n    {\n      \"column\": \"D\\u00e2n s\\u1ed1 trung b\\u00ecnh\",\n      \"properties\": {\n        \"dtype\": \"number\",\n        \"std\": 10749.42075067781,\n        \"min\": 254.2,\n        \"max\": 99474.42,\n        \"num_unique_values\": 1890,\n        \"samples\": [\n          1147.1,\n          1470.7,\n          1540.9\n        ],\n        \"semantic_type\": \"\",\n        \"description\": \"\"\n      }\n    },\n    {\n      \"column\": \"Nam\",\n      \"properties\": {\n        \"dtype\": \"number\",\n        \"std\": 5313.387983536202,\n        \"min\": 126.9,\n        \"max\": 49590.24,\n        \"num_unique_values\": 1843,\n        \"samples\": [\n          865.92,\n          4405.1,\n          467.2\n        ],\n        \"semantic_type\": \"\",\n        \"description\": \"\"\n      }\n    },\n    {\n      \"column\": \"N\\u1eef\",\n      \"properties\": {\n        \"dtype\": \"number\",\n        \"std\": 5436.267797572564,\n        \"min\": 127.3,\n        \"max\": 49884.17,\n        \"num_unique_values\": 1844,\n        \"samples\": [\n          907.29,\n          2022.2,\n          1726.12\n        ],\n        \"semantic_type\": \"\",\n        \"description\": \"\"\n      }\n    },\n    {\n      \"column\": \"Th\\u00e0nh Th\\u1ecb\",\n      \"properties\": {\n        \"dtype\": \"number\",\n        \"std\": 3409.466492627345,\n        \"min\": 23.5,\n        \"max\": 37350.5,\n        \"num_unique_values\": 1779,\n        \"samples\": [\n          397.25,\n          87.6,\n          4252.0\n        ],\n        \"semantic_type\": \"\",\n        \"description\": \"\"\n      }\n    },\n    {\n      \"column\": \"N\\u00f4ng Th\\u00f4n\",\n      \"properties\": {\n        \"dtype\": \"number\",\n        \"std\": 7531.932748843399,\n        \"min\": 117.5,\n        \"max\": 62748.3,\n        \"num_unique_values\": 1861,\n        \"samples\": [\n          988.8,\n          238.5,\n          693.5\n        ],\n        \"semantic_type\": \"\",\n        \"description\": \"\"\n      }\n    },\n    {\n      \"column\": \"Doanh thu trung b\\u00ecnh\",\n      \"properties\": {\n        \"dtype\": \"number\",\n        \"std\": 1235,\n        \"min\": 567,\n        \"max\": 8076,\n        \"num_unique_values\": 587,\n        \"samples\": [\n          3502,\n          3150,\n          3290\n        ],\n        \"semantic_type\": \"\",\n        \"description\": \"\"\n      }\n    },\n    {\n      \"column\": \"Thu t\\u1eeb ti\\u1ec1n l\\u01b0\\u01a1ng, ti\\u1ec1n c\\u00f4ng\",\n      \"properties\": {\n        \"dtype\": \"number\",\n        \"std\": 739,\n        \"min\": 193,\n        \"max\": 4985,\n        \"num_unique_values\": 554,\n        \"samples\": [\n          1678,\n          1214,\n          1174\n        ],\n        \"semantic_type\": \"\",\n        \"description\": \"\"\n      }\n    },\n    {\n      \"column\": \"Thu t\\u1eeb n\\u00f4ng, l\\u00e2m nghi\\u1ec7p, th\\u1ee7y s\\u1ea3n\",\n      \"properties\": {\n        \"dtype\": \"number\",\n        \"std\": 222,\n        \"min\": 21,\n        \"max\": 1549,\n        \"num_unique_values\": 429,\n        \"samples\": [\n          673,\n          251,\n          520\n        ],\n        \"semantic_type\": \"\",\n        \"description\": \"\"\n      }\n    },\n    {\n      \"column\": \"Thu phi n\\u00f4ng, l\\u00e2m nghi\\u1ec7p, th\\u1ee7y s\\u1ea3n\",\n      \"properties\": {\n        \"dtype\": \"number\",\n        \"std\": 342,\n        \"min\": 52,\n        \"max\": 2591,\n        \"num_unique_values\": 505,\n        \"samples\": [\n          526,\n          672,\n          770\n        ],\n        \"semantic_type\": \"\",\n        \"description\": \"\"\n      }\n    },\n    {\n      \"column\": \"C\\u00e1c kho\\u1ea3n thu kh\\u00e1c\",\n      \"properties\": {\n        \"dtype\": \"number\",\n        \"std\": 159,\n        \"min\": 38,\n        \"max\": 968,\n        \"num_unique_values\": 384,\n        \"samples\": [\n          117,\n          333,\n          173\n        ],\n        \"semantic_type\": \"\",\n        \"description\": \"\"\n      }\n    }\n  ]\n}"
            }
          },
          "metadata": {},
          "execution_count": 11
        }
      ],
      "source": [
        "raw_data = pd.read_excel('/content/drive/MyDrive/clean_data.xlsx')\n",
        "raw_data"
      ]
    },
    {
      "cell_type": "code",
      "execution_count": 12,
      "metadata": {
        "colab": {
          "base_uri": "https://localhost:8080/"
        },
        "id": "skz-bFg2HCQr",
        "outputId": "f3be8ae8-9756-45ed-fec9-d612e2515934"
      },
      "outputs": [
        {
          "output_type": "stream",
          "name": "stdout",
          "text": [
            "Dữ liệu có 1960 hàng và 14 cột.\n"
          ]
        }
      ],
      "source": [
        "print(f\"Dữ liệu có {raw_data.shape[0]} hàng và {raw_data.shape[1]} cột.\")"
      ]
    },
    {
      "cell_type": "markdown",
      "metadata": {
        "id": "aWEa-6wXHCQr"
      },
      "source": [
        "---"
      ]
    },
    {
      "cell_type": "markdown",
      "metadata": {
        "id": "nQ5P-8HVHCQs"
      },
      "source": [
        "## **Ý NGHĨA CÁC CỘT DỮ LIỆU**"
      ]
    },
    {
      "cell_type": "markdown",
      "source": [
        "| **STT** | **Tên Cột**                             | **Loại Dữ Liệu**   | **Đơn Vị**                             |\n",
        "|---------|-----------------------------------------|---------------------|----------------------------------------|\n",
        "| 1       | Tỉnh                                    | Object              |                                        |\n",
        "| 2       | Diện tích                               | Float64             | km²                                    |\n",
        "| 3       | Mật độ dân số                           | Float64             | Người/km²                              |\n",
        "| 4       | Năm                                     | Int64               |                                        |\n",
        "| 5       | Dân số trung bình                       | Float64             | Nghìn người                            |\n",
        "| 6       | Nam                                     | Float64             | Nghìn người                            |\n",
        "| 7       | Nữ                                      | Float64             | Nghìn người                            |\n",
        "| 8       | Thành thị                               | Float64             | Nghìn người                            |\n",
        "| 9       | Nông thôn                               | Float64             | Nghìn người                            |\n",
        "| 10      | Doanh thu trung bình                    | Int64               | Nghìn VND/người tính theo tháng      |\n",
        "| 11      | Thu từ tiền lương, tiền công           | Int64               | Nghìn VND/người tính theo tháng      |\n",
        "| 12      | Thu từ nông, lâm nghiệp, thủy sản      | Int64               | Nghìn VND/người tính theo tháng      |\n",
        "| 13      | Thu phi nông, lâm nghiệp, thủy sản     | Int64               | Nghìn VND/người tính theo tháng      |\n",
        "| 14      | Các khoản thu khác                      | Int64               | Nghìn VND/người tính theo tháng      |"
      ],
      "metadata": {
        "id": "PRQ9slOq80-V"
      }
    },
    {
      "cell_type": "markdown",
      "metadata": {
        "id": "vvnHU9cHHCQs"
      },
      "source": [
        "Ý nghĩa các cột dữ liệu được lấy dựa trên trang [Tổng Cục Thống Kê](https://www.gso.gov.vn/)"
      ]
    },
    {
      "cell_type": "markdown",
      "metadata": {
        "id": "8rLO-Uv5HCQt"
      },
      "source": [
        "---"
      ]
    },
    {
      "cell_type": "markdown",
      "metadata": {
        "id": "Xg1QWGk-HCQt"
      },
      "source": [
        "## **KIỂM TRA BIẾN SỐ LƯỢNG**"
      ]
    },
    {
      "cell_type": "code",
      "execution_count": 13,
      "metadata": {
        "colab": {
          "base_uri": "https://localhost:8080/"
        },
        "id": "YM8qst_pHCQt",
        "outputId": "5a934d6b-d137-4997-b9e8-98348ea957e4"
      },
      "outputs": [
        {
          "output_type": "execute_result",
          "data": {
            "text/plain": [
              "RangeIndex(start=0, stop=1960, step=1)"
            ]
          },
          "metadata": {},
          "execution_count": 13
        }
      ],
      "source": [
        "index = raw_data.index\n",
        "deDupSeries = index.duplicated(keep='first')\n",
        "num_duplicated_rows = deDupSeries.sum()\n",
        "index"
      ]
    },
    {
      "cell_type": "markdown",
      "metadata": {
        "id": "hTaeNy3UHCQt"
      },
      "source": [
        "## **KIỂM TRA SỰ TRÙNG LẶP**"
      ]
    },
    {
      "cell_type": "code",
      "execution_count": 14,
      "metadata": {
        "colab": {
          "base_uri": "https://localhost:8080/"
        },
        "id": "nsedM2vhHCQt",
        "outputId": "0589a645-b55c-49e6-eb0c-578a2509a2f5"
      },
      "outputs": [
        {
          "output_type": "stream",
          "name": "stdout",
          "text": [
            "Dữ liệu không có sự trùng lặp!\n"
          ]
        }
      ],
      "source": [
        "if num_duplicated_rows == 0:\n",
        "    print(\"Dữ liệu không có sự trùng lặp!\")\n",
        "else:\n",
        "    print(f\"Dữ liệu có {num_duplicated_rows} dòng trùng lặp.\")"
      ]
    },
    {
      "cell_type": "markdown",
      "metadata": {
        "id": "4tRUzeNXHCQu"
      },
      "source": [
        "---"
      ]
    },
    {
      "cell_type": "markdown",
      "metadata": {
        "id": "YbItj-JYHCQu"
      },
      "source": [
        "## **KIỂM TRA KIỂU DỮ LIỆU**"
      ]
    },
    {
      "cell_type": "code",
      "execution_count": 15,
      "metadata": {
        "colab": {
          "base_uri": "https://localhost:8080/"
        },
        "id": "TMkMc3v0HCQu",
        "outputId": "4d4dc1f0-84ed-4624-9d1e-99569e3d7613"
      },
      "outputs": [
        {
          "output_type": "execute_result",
          "data": {
            "text/plain": [
              "Tỉnh                                   object\n",
              "Diện tích                             float64\n",
              "Mật độ dân số                         float64\n",
              "Năm                                     int64\n",
              "Dân số trung bình                     float64\n",
              "Nam                                   float64\n",
              "Nữ                                    float64\n",
              "Thành Thị                             float64\n",
              "Nông Thôn                             float64\n",
              "Doanh thu trung bình                    int64\n",
              "Thu từ tiền lương, tiền công            int64\n",
              "Thu từ nông, lâm nghiệp, thủy sản       int64\n",
              "Thu phi nông, lâm nghiệp, thủy sản      int64\n",
              "Các khoản thu khác                      int64\n",
              "dtype: object"
            ]
          },
          "metadata": {},
          "execution_count": 15
        }
      ],
      "source": [
        "raw_data.dtypes"
      ]
    },
    {
      "cell_type": "markdown",
      "metadata": {
        "id": "6C8alR87HCQu"
      },
      "source": [
        "---"
      ]
    },
    {
      "cell_type": "markdown",
      "metadata": {
        "id": "TXxMrt8WHCQu"
      },
      "source": [
        "## **KIỂM TRA MISSING RATE**"
      ]
    },
    {
      "cell_type": "code",
      "execution_count": 16,
      "metadata": {
        "colab": {
          "base_uri": "https://localhost:8080/"
        },
        "id": "4ojK1FACHCQu",
        "outputId": "d7e490b5-949a-4d0b-cb64-2fdfb4275abb"
      },
      "outputs": [
        {
          "output_type": "stream",
          "name": "stdout",
          "text": [
            "Series([], dtype: float64)\n"
          ]
        }
      ],
      "source": [
        "raw_data_missing = raw_data.isna().sum()\n",
        "raw_data_missing_rate = (raw_data_missing / len(raw_data))*100\n",
        "columns_with_missing_data = raw_data_missing_rate[raw_data_missing_rate > 0]\n",
        "print(columns_with_missing_data)"
      ]
    },
    {
      "cell_type": "markdown",
      "metadata": {
        "id": "GtT4xKs6HCQu"
      },
      "source": [
        "- Kết quả cho thấy rằng không có cột nào trong DataFrame raw_data bị thiếu giá trị."
      ]
    },
    {
      "cell_type": "markdown",
      "metadata": {
        "id": "8XLEMyS3HCQw"
      },
      "source": [
        "## **CHIA DỮ LIỆU**"
      ]
    },
    {
      "cell_type": "code",
      "execution_count": 17,
      "metadata": {
        "id": "IwfrcRbiHCQw"
      },
      "outputs": [],
      "source": [
        "raw_data_num_list = list(raw_data.dtypes[raw_data.dtypes != 'object'].index)\n",
        "raw_data_cate_list = list(raw_data.dtypes[raw_data.dtypes == 'object'].index)"
      ]
    },
    {
      "cell_type": "code",
      "execution_count": 18,
      "metadata": {
        "colab": {
          "base_uri": "https://localhost:8080/"
        },
        "id": "203cuPUtHCQw",
        "outputId": "436c6aef-ec67-492f-8072-998e57956844"
      },
      "outputs": [
        {
          "output_type": "execute_result",
          "data": {
            "text/plain": [
              "float64    7\n",
              "int64      6\n",
              "object     1\n",
              "Name: count, dtype: int64"
            ]
          },
          "metadata": {},
          "execution_count": 18
        }
      ],
      "source": [
        "raw_data.dtypes.value_counts()"
      ]
    },
    {
      "cell_type": "markdown",
      "metadata": {
        "id": "R6pl6L5wHCQz"
      },
      "source": [
        "## **KIỂM TRA BIẾN DỮ LIỆU KIỂU SỐ**"
      ]
    },
    {
      "cell_type": "code",
      "execution_count": 19,
      "metadata": {
        "colab": {
          "base_uri": "https://localhost:8080/"
        },
        "id": "p7sifLdBHCQz",
        "outputId": "0708f04f-793b-4e2f-b7e4-abf64ef241e9"
      },
      "outputs": [
        {
          "output_type": "stream",
          "name": "stdout",
          "text": [
            "Diện tích                              410\n",
            "Mật độ dân số                         1861\n",
            "Năm                                     28\n",
            "Dân số trung bình                     1890\n",
            "Nam                                   1843\n",
            "Nữ                                    1844\n",
            "Thành Thị                             1779\n",
            "Nông Thôn                             1861\n",
            "Doanh thu trung bình                   587\n",
            "Thu từ tiền lương, tiền công           554\n",
            "Thu từ nông, lâm nghiệp, thủy sản      429\n",
            "Thu phi nông, lâm nghiệp, thủy sản     505\n",
            "Các khoản thu khác                     384\n",
            "dtype: int64\n"
          ]
        }
      ],
      "source": [
        "# Tạo DataFrame mới chứa các giá trị duy nhất của các cột numerical\n",
        "num_vals = raw_data.loc[:, raw_data_num_list]\n",
        "\n",
        "# Tính số lượng giá trị duy nhất trong mỗi cột\n",
        "unique_vals = num_vals.apply(pd.Series.unique, axis=0)\n",
        "unique_counts = unique_vals.apply(len)\n",
        "\n",
        "# In số lượng giá trị duy nhất trong mỗi cột\n",
        "print(unique_counts)"
      ]
    },
    {
      "cell_type": "code",
      "source": [
        "# In DataFrame chứa các giá trị duy nhất của các cột\n",
        "unique_vals"
      ],
      "metadata": {
        "colab": {
          "base_uri": "https://localhost:8080/"
        },
        "id": "byxfHezrAJg-",
        "outputId": "a524c1a3-e3bd-4cef-9cab-926cdf25676b"
      },
      "execution_count": 20,
      "outputs": [
        {
          "output_type": "execute_result",
          "data": {
            "text/plain": [
              "Diện tích                             [330957.6, 330951.1, 330972.4, 330966.9, 33123...\n",
              "Mật độ dân số                         [217.5369292018071, 221.0455357423428, 224.520...\n",
              "Năm                                   [1995, 1996, 1997, 1998, 1999, 2000, 2001, 200...\n",
              "Dân số trung bình                     [71995.5, 73156.7, 74306.9, 75456.3, 76596.7, ...\n",
              "Nam                                   [35237.4, 35857.3, 36473.1, 37089.7, 37662.1, ...\n",
              "Nữ                                    [36758.1, 37299.4, 37833.8, 38366.6, 38934.6, ...\n",
              "Thành Thị                             [14938.1, 15419.9, 16835.4, 17464.6, 18081.6, ...\n",
              "Nông Thôn                             [57057.4, 57736.8, 57471.5, 57991.7, 58515.1, ...\n",
              "Doanh thu trung bình                  [1387, 2000, 2637, 3098, 3876, 4295, 4249, 420...\n",
              "Thu từ tiền lương, tiền công          [622, 923, 1253, 1487, 1981, 2350, 2357, 2383,...\n",
              "Thu từ nông, lâm nghiệp, thủy sản     [279, 397, 458, 510, 516, 509, 476, 454, 474, ...\n",
              "Thu phi nông, lâm nghiệp, thủy sản    [328, 442, 591, 748, 882, 998, 971, 964, 1118,...\n",
              "Các khoản thu khác                    [158, 238, 335, 353, 497, 438, 446, 404, 504, ...\n",
              "dtype: object"
            ]
          },
          "metadata": {},
          "execution_count": 20
        }
      ]
    },
    {
      "cell_type": "markdown",
      "metadata": {
        "id": "ae5mPP2vHCQz"
      },
      "source": [
        "## **KIỂM TRA BIẾN DỮ LIỆU CATEGORICAL**"
      ]
    },
    {
      "cell_type": "code",
      "execution_count": 21,
      "metadata": {
        "colab": {
          "base_uri": "https://localhost:8080/"
        },
        "id": "ETAqfl_XHCQz",
        "outputId": "fb56a059-a46b-4f62-ada5-126b0fbabf57"
      },
      "outputs": [
        {
          "output_type": "stream",
          "name": "stdout",
          "text": [
            "Tỉnh    70\n",
            "dtype: int64\n"
          ]
        }
      ],
      "source": [
        "# Tạo DataFrame mới chứa các giá trị duy nhất của các cột categorical\n",
        "categorical_vals = raw_data.loc[:, raw_data_cate_list]\n",
        "\n",
        "# Tính số lượng giá trị duy nhất trong mỗi cột\n",
        "unique_vals = categorical_vals.apply(pd.Series.unique, axis=0)\n",
        "unique_counts = unique_vals.apply(len)\n",
        "\n",
        "# In số lượng giá trị duy nhất trong mỗi cột\n",
        "print(unique_counts)"
      ]
    },
    {
      "cell_type": "code",
      "source": [
        "# In DataFrame chứa các giá trị duy nhất của các cột\n",
        "unique_vals"
      ],
      "metadata": {
        "colab": {
          "base_uri": "https://localhost:8080/",
          "height": 423
        },
        "id": "vKrG8EWgAu2h",
        "outputId": "97068190-0fd2-4890-ad89-e079ecbe4566"
      },
      "execution_count": 22,
      "outputs": [
        {
          "output_type": "execute_result",
          "data": {
            "text/plain": [
              "                   Tỉnh\n",
              "0               CẢ NƯỚC\n",
              "1   Ðồng bằng sông Hồng\n",
              "2                Hà Nội\n",
              "3             Vĩnh Phúc\n",
              "4              Bắc Ninh\n",
              "..                  ...\n",
              "65              Cần Thơ\n",
              "66            Hậu Giang\n",
              "67            Sóc Trăng\n",
              "68             Bạc Liêu\n",
              "69               Cà Mau\n",
              "\n",
              "[70 rows x 1 columns]"
            ],
            "text/html": [
              "\n",
              "  <div id=\"df-e9e75ba4-76bc-4af3-8584-afb517a34110\" class=\"colab-df-container\">\n",
              "    <div>\n",
              "<style scoped>\n",
              "    .dataframe tbody tr th:only-of-type {\n",
              "        vertical-align: middle;\n",
              "    }\n",
              "\n",
              "    .dataframe tbody tr th {\n",
              "        vertical-align: top;\n",
              "    }\n",
              "\n",
              "    .dataframe thead th {\n",
              "        text-align: right;\n",
              "    }\n",
              "</style>\n",
              "<table border=\"1\" class=\"dataframe\">\n",
              "  <thead>\n",
              "    <tr style=\"text-align: right;\">\n",
              "      <th></th>\n",
              "      <th>Tỉnh</th>\n",
              "    </tr>\n",
              "  </thead>\n",
              "  <tbody>\n",
              "    <tr>\n",
              "      <th>0</th>\n",
              "      <td>CẢ NƯỚC</td>\n",
              "    </tr>\n",
              "    <tr>\n",
              "      <th>1</th>\n",
              "      <td>Ðồng bằng sông Hồng</td>\n",
              "    </tr>\n",
              "    <tr>\n",
              "      <th>2</th>\n",
              "      <td>Hà Nội</td>\n",
              "    </tr>\n",
              "    <tr>\n",
              "      <th>3</th>\n",
              "      <td>Vĩnh Phúc</td>\n",
              "    </tr>\n",
              "    <tr>\n",
              "      <th>4</th>\n",
              "      <td>Bắc Ninh</td>\n",
              "    </tr>\n",
              "    <tr>\n",
              "      <th>...</th>\n",
              "      <td>...</td>\n",
              "    </tr>\n",
              "    <tr>\n",
              "      <th>65</th>\n",
              "      <td>Cần Thơ</td>\n",
              "    </tr>\n",
              "    <tr>\n",
              "      <th>66</th>\n",
              "      <td>Hậu Giang</td>\n",
              "    </tr>\n",
              "    <tr>\n",
              "      <th>67</th>\n",
              "      <td>Sóc Trăng</td>\n",
              "    </tr>\n",
              "    <tr>\n",
              "      <th>68</th>\n",
              "      <td>Bạc Liêu</td>\n",
              "    </tr>\n",
              "    <tr>\n",
              "      <th>69</th>\n",
              "      <td>Cà Mau</td>\n",
              "    </tr>\n",
              "  </tbody>\n",
              "</table>\n",
              "<p>70 rows × 1 columns</p>\n",
              "</div>\n",
              "    <div class=\"colab-df-buttons\">\n",
              "\n",
              "  <div class=\"colab-df-container\">\n",
              "    <button class=\"colab-df-convert\" onclick=\"convertToInteractive('df-e9e75ba4-76bc-4af3-8584-afb517a34110')\"\n",
              "            title=\"Convert this dataframe to an interactive table.\"\n",
              "            style=\"display:none;\">\n",
              "\n",
              "  <svg xmlns=\"http://www.w3.org/2000/svg\" height=\"24px\" viewBox=\"0 -960 960 960\">\n",
              "    <path d=\"M120-120v-720h720v720H120Zm60-500h600v-160H180v160Zm220 220h160v-160H400v160Zm0 220h160v-160H400v160ZM180-400h160v-160H180v160Zm440 0h160v-160H620v160ZM180-180h160v-160H180v160Zm440 0h160v-160H620v160Z\"/>\n",
              "  </svg>\n",
              "    </button>\n",
              "\n",
              "  <style>\n",
              "    .colab-df-container {\n",
              "      display:flex;\n",
              "      gap: 12px;\n",
              "    }\n",
              "\n",
              "    .colab-df-convert {\n",
              "      background-color: #E8F0FE;\n",
              "      border: none;\n",
              "      border-radius: 50%;\n",
              "      cursor: pointer;\n",
              "      display: none;\n",
              "      fill: #1967D2;\n",
              "      height: 32px;\n",
              "      padding: 0 0 0 0;\n",
              "      width: 32px;\n",
              "    }\n",
              "\n",
              "    .colab-df-convert:hover {\n",
              "      background-color: #E2EBFA;\n",
              "      box-shadow: 0px 1px 2px rgba(60, 64, 67, 0.3), 0px 1px 3px 1px rgba(60, 64, 67, 0.15);\n",
              "      fill: #174EA6;\n",
              "    }\n",
              "\n",
              "    .colab-df-buttons div {\n",
              "      margin-bottom: 4px;\n",
              "    }\n",
              "\n",
              "    [theme=dark] .colab-df-convert {\n",
              "      background-color: #3B4455;\n",
              "      fill: #D2E3FC;\n",
              "    }\n",
              "\n",
              "    [theme=dark] .colab-df-convert:hover {\n",
              "      background-color: #434B5C;\n",
              "      box-shadow: 0px 1px 3px 1px rgba(0, 0, 0, 0.15);\n",
              "      filter: drop-shadow(0px 1px 2px rgba(0, 0, 0, 0.3));\n",
              "      fill: #FFFFFF;\n",
              "    }\n",
              "  </style>\n",
              "\n",
              "    <script>\n",
              "      const buttonEl =\n",
              "        document.querySelector('#df-e9e75ba4-76bc-4af3-8584-afb517a34110 button.colab-df-convert');\n",
              "      buttonEl.style.display =\n",
              "        google.colab.kernel.accessAllowed ? 'block' : 'none';\n",
              "\n",
              "      async function convertToInteractive(key) {\n",
              "        const element = document.querySelector('#df-e9e75ba4-76bc-4af3-8584-afb517a34110');\n",
              "        const dataTable =\n",
              "          await google.colab.kernel.invokeFunction('convertToInteractive',\n",
              "                                                    [key], {});\n",
              "        if (!dataTable) return;\n",
              "\n",
              "        const docLinkHtml = 'Like what you see? Visit the ' +\n",
              "          '<a target=\"_blank\" href=https://colab.research.google.com/notebooks/data_table.ipynb>data table notebook</a>'\n",
              "          + ' to learn more about interactive tables.';\n",
              "        element.innerHTML = '';\n",
              "        dataTable['output_type'] = 'display_data';\n",
              "        await google.colab.output.renderOutput(dataTable, element);\n",
              "        const docLink = document.createElement('div');\n",
              "        docLink.innerHTML = docLinkHtml;\n",
              "        element.appendChild(docLink);\n",
              "      }\n",
              "    </script>\n",
              "  </div>\n",
              "\n",
              "\n",
              "<div id=\"df-ccd21d6f-21dc-4cec-b4c7-f067208a8577\">\n",
              "  <button class=\"colab-df-quickchart\" onclick=\"quickchart('df-ccd21d6f-21dc-4cec-b4c7-f067208a8577')\"\n",
              "            title=\"Suggest charts\"\n",
              "            style=\"display:none;\">\n",
              "\n",
              "<svg xmlns=\"http://www.w3.org/2000/svg\" height=\"24px\"viewBox=\"0 0 24 24\"\n",
              "     width=\"24px\">\n",
              "    <g>\n",
              "        <path d=\"M19 3H5c-1.1 0-2 .9-2 2v14c0 1.1.9 2 2 2h14c1.1 0 2-.9 2-2V5c0-1.1-.9-2-2-2zM9 17H7v-7h2v7zm4 0h-2V7h2v10zm4 0h-2v-4h2v4z\"/>\n",
              "    </g>\n",
              "</svg>\n",
              "  </button>\n",
              "\n",
              "<style>\n",
              "  .colab-df-quickchart {\n",
              "      --bg-color: #E8F0FE;\n",
              "      --fill-color: #1967D2;\n",
              "      --hover-bg-color: #E2EBFA;\n",
              "      --hover-fill-color: #174EA6;\n",
              "      --disabled-fill-color: #AAA;\n",
              "      --disabled-bg-color: #DDD;\n",
              "  }\n",
              "\n",
              "  [theme=dark] .colab-df-quickchart {\n",
              "      --bg-color: #3B4455;\n",
              "      --fill-color: #D2E3FC;\n",
              "      --hover-bg-color: #434B5C;\n",
              "      --hover-fill-color: #FFFFFF;\n",
              "      --disabled-bg-color: #3B4455;\n",
              "      --disabled-fill-color: #666;\n",
              "  }\n",
              "\n",
              "  .colab-df-quickchart {\n",
              "    background-color: var(--bg-color);\n",
              "    border: none;\n",
              "    border-radius: 50%;\n",
              "    cursor: pointer;\n",
              "    display: none;\n",
              "    fill: var(--fill-color);\n",
              "    height: 32px;\n",
              "    padding: 0;\n",
              "    width: 32px;\n",
              "  }\n",
              "\n",
              "  .colab-df-quickchart:hover {\n",
              "    background-color: var(--hover-bg-color);\n",
              "    box-shadow: 0 1px 2px rgba(60, 64, 67, 0.3), 0 1px 3px 1px rgba(60, 64, 67, 0.15);\n",
              "    fill: var(--button-hover-fill-color);\n",
              "  }\n",
              "\n",
              "  .colab-df-quickchart-complete:disabled,\n",
              "  .colab-df-quickchart-complete:disabled:hover {\n",
              "    background-color: var(--disabled-bg-color);\n",
              "    fill: var(--disabled-fill-color);\n",
              "    box-shadow: none;\n",
              "  }\n",
              "\n",
              "  .colab-df-spinner {\n",
              "    border: 2px solid var(--fill-color);\n",
              "    border-color: transparent;\n",
              "    border-bottom-color: var(--fill-color);\n",
              "    animation:\n",
              "      spin 1s steps(1) infinite;\n",
              "  }\n",
              "\n",
              "  @keyframes spin {\n",
              "    0% {\n",
              "      border-color: transparent;\n",
              "      border-bottom-color: var(--fill-color);\n",
              "      border-left-color: var(--fill-color);\n",
              "    }\n",
              "    20% {\n",
              "      border-color: transparent;\n",
              "      border-left-color: var(--fill-color);\n",
              "      border-top-color: var(--fill-color);\n",
              "    }\n",
              "    30% {\n",
              "      border-color: transparent;\n",
              "      border-left-color: var(--fill-color);\n",
              "      border-top-color: var(--fill-color);\n",
              "      border-right-color: var(--fill-color);\n",
              "    }\n",
              "    40% {\n",
              "      border-color: transparent;\n",
              "      border-right-color: var(--fill-color);\n",
              "      border-top-color: var(--fill-color);\n",
              "    }\n",
              "    60% {\n",
              "      border-color: transparent;\n",
              "      border-right-color: var(--fill-color);\n",
              "    }\n",
              "    80% {\n",
              "      border-color: transparent;\n",
              "      border-right-color: var(--fill-color);\n",
              "      border-bottom-color: var(--fill-color);\n",
              "    }\n",
              "    90% {\n",
              "      border-color: transparent;\n",
              "      border-bottom-color: var(--fill-color);\n",
              "    }\n",
              "  }\n",
              "</style>\n",
              "\n",
              "  <script>\n",
              "    async function quickchart(key) {\n",
              "      const quickchartButtonEl =\n",
              "        document.querySelector('#' + key + ' button');\n",
              "      quickchartButtonEl.disabled = true;  // To prevent multiple clicks.\n",
              "      quickchartButtonEl.classList.add('colab-df-spinner');\n",
              "      try {\n",
              "        const charts = await google.colab.kernel.invokeFunction(\n",
              "            'suggestCharts', [key], {});\n",
              "      } catch (error) {\n",
              "        console.error('Error during call to suggestCharts:', error);\n",
              "      }\n",
              "      quickchartButtonEl.classList.remove('colab-df-spinner');\n",
              "      quickchartButtonEl.classList.add('colab-df-quickchart-complete');\n",
              "    }\n",
              "    (() => {\n",
              "      let quickchartButtonEl =\n",
              "        document.querySelector('#df-ccd21d6f-21dc-4cec-b4c7-f067208a8577 button');\n",
              "      quickchartButtonEl.style.display =\n",
              "        google.colab.kernel.accessAllowed ? 'block' : 'none';\n",
              "    })();\n",
              "  </script>\n",
              "</div>\n",
              "\n",
              "  <div id=\"id_5ce10f93-dc9f-42c6-b056-1df961eaa21c\">\n",
              "    <style>\n",
              "      .colab-df-generate {\n",
              "        background-color: #E8F0FE;\n",
              "        border: none;\n",
              "        border-radius: 50%;\n",
              "        cursor: pointer;\n",
              "        display: none;\n",
              "        fill: #1967D2;\n",
              "        height: 32px;\n",
              "        padding: 0 0 0 0;\n",
              "        width: 32px;\n",
              "      }\n",
              "\n",
              "      .colab-df-generate:hover {\n",
              "        background-color: #E2EBFA;\n",
              "        box-shadow: 0px 1px 2px rgba(60, 64, 67, 0.3), 0px 1px 3px 1px rgba(60, 64, 67, 0.15);\n",
              "        fill: #174EA6;\n",
              "      }\n",
              "\n",
              "      [theme=dark] .colab-df-generate {\n",
              "        background-color: #3B4455;\n",
              "        fill: #D2E3FC;\n",
              "      }\n",
              "\n",
              "      [theme=dark] .colab-df-generate:hover {\n",
              "        background-color: #434B5C;\n",
              "        box-shadow: 0px 1px 3px 1px rgba(0, 0, 0, 0.15);\n",
              "        filter: drop-shadow(0px 1px 2px rgba(0, 0, 0, 0.3));\n",
              "        fill: #FFFFFF;\n",
              "      }\n",
              "    </style>\n",
              "    <button class=\"colab-df-generate\" onclick=\"generateWithVariable('unique_vals')\"\n",
              "            title=\"Generate code using this dataframe.\"\n",
              "            style=\"display:none;\">\n",
              "\n",
              "  <svg xmlns=\"http://www.w3.org/2000/svg\" height=\"24px\"viewBox=\"0 0 24 24\"\n",
              "       width=\"24px\">\n",
              "    <path d=\"M7,19H8.4L18.45,9,17,7.55,7,17.6ZM5,21V16.75L18.45,3.32a2,2,0,0,1,2.83,0l1.4,1.43a1.91,1.91,0,0,1,.58,1.4,1.91,1.91,0,0,1-.58,1.4L9.25,21ZM18.45,9,17,7.55Zm-12,3A5.31,5.31,0,0,0,4.9,8.1,5.31,5.31,0,0,0,1,6.5,5.31,5.31,0,0,0,4.9,4.9,5.31,5.31,0,0,0,6.5,1,5.31,5.31,0,0,0,8.1,4.9,5.31,5.31,0,0,0,12,6.5,5.46,5.46,0,0,0,6.5,12Z\"/>\n",
              "  </svg>\n",
              "    </button>\n",
              "    <script>\n",
              "      (() => {\n",
              "      const buttonEl =\n",
              "        document.querySelector('#id_5ce10f93-dc9f-42c6-b056-1df961eaa21c button.colab-df-generate');\n",
              "      buttonEl.style.display =\n",
              "        google.colab.kernel.accessAllowed ? 'block' : 'none';\n",
              "\n",
              "      buttonEl.onclick = () => {\n",
              "        google.colab.notebook.generateWithVariable('unique_vals');\n",
              "      }\n",
              "      })();\n",
              "    </script>\n",
              "  </div>\n",
              "\n",
              "    </div>\n",
              "  </div>\n"
            ],
            "application/vnd.google.colaboratory.intrinsic+json": {
              "type": "dataframe",
              "variable_name": "unique_vals",
              "summary": "{\n  \"name\": \"unique_vals\",\n  \"rows\": 70,\n  \"fields\": [\n    {\n      \"column\": \"T\\u1ec9nh\",\n      \"properties\": {\n        \"dtype\": \"string\",\n        \"num_unique_values\": 70,\n        \"samples\": [\n          \"B\\u1eafc Giang\",\n          \"C\\u1ea2 N\\u01af\\u1edaC\",\n          \"\\u00d0\\u00f4ng Nam B\\u1ed9\"\n        ],\n        \"semantic_type\": \"\",\n        \"description\": \"\"\n      }\n    }\n  ]\n}"
            }
          },
          "metadata": {},
          "execution_count": 22
        }
      ]
    },
    {
      "cell_type": "markdown",
      "metadata": {
        "id": "D5M2zw57HCQz"
      },
      "source": [
        "---"
      ]
    },
    {
      "cell_type": "markdown",
      "metadata": {
        "id": "TvMYIUvEHCQz"
      },
      "source": [
        "## **THỐNG KÊ MÔ TẢ CHO CÁC BIẾN ĐỊNH LƯỢNG**"
      ]
    },
    {
      "cell_type": "code",
      "execution_count": 23,
      "metadata": {
        "colab": {
          "base_uri": "https://localhost:8080/",
          "height": 300
        },
        "id": "f7H_6sf0lgog",
        "outputId": "258db82b-dc0a-4d88-8ece-b8bb73997f40"
      },
      "outputs": [
        {
          "output_type": "execute_result",
          "data": {
            "text/plain": [
              "           Diện tích  Mật độ dân số          Năm  Dân số trung bình  \\\n",
              "count    1960.000000    1960.000000  1960.000000        1960.000000   \n",
              "mean    14186.758526     446.545665  2008.500000        3669.075668   \n",
              "std     41753.300493     523.873623     8.079809       10749.420751   \n",
              "min       822.700000      28.845360  1995.000000         254.200000   \n",
              "25%      2468.700000     127.232880  2001.750000         830.200000   \n",
              "50%      5099.150000     248.975310  2008.500000        1192.025000   \n",
              "75%      8320.800000     572.990000  2015.250000        1762.325000   \n",
              "max    331345.700000    4481.000000  2022.000000       99474.420000   \n",
              "\n",
              "                Nam            Nữ     Thành Thị     Nông Thôn  \\\n",
              "count   1960.000000   1960.000000   1960.000000   1960.000000   \n",
              "mean    1813.426020   1855.649684   1093.002755   2576.072990   \n",
              "std     5313.387984   5436.267798   3409.466493   7531.932749   \n",
              "min      126.900000    127.300000     23.500000    117.500000   \n",
              "25%      412.225000    416.800000    138.110000    617.417500   \n",
              "50%      589.700000    595.810000    239.200000    868.150000   \n",
              "75%      865.447500    893.055000    476.825000   1370.600000   \n",
              "max    49590.240000  49884.170000  37350.500000  62748.300000   \n",
              "\n",
              "       Doanh thu trung bình  Thu từ tiền lương, tiền công  \\\n",
              "count           1960.000000                   1960.000000   \n",
              "mean            1976.061224                    893.721939   \n",
              "std             1235.717138                    739.499404   \n",
              "min              567.000000                    193.000000   \n",
              "25%             1089.000000                    382.000000   \n",
              "50%             1526.000000                    590.000000   \n",
              "75%             2698.000000                   1165.000000   \n",
              "max             8076.000000                   4985.000000   \n",
              "\n",
              "       Thu từ nông, lâm nghiệp, thủy sản  Thu phi nông, lâm nghiệp, thủy sản  \\\n",
              "count                        1960.000000                         1960.000000   \n",
              "mean                          412.252551                          452.576020   \n",
              "std                           222.730705                          342.454971   \n",
              "min                            21.000000                           52.000000   \n",
              "25%                           264.000000                          229.000000   \n",
              "50%                           357.000000                          328.000000   \n",
              "75%                           508.000000                          614.000000   \n",
              "max                          1549.000000                         2591.000000   \n",
              "\n",
              "       Các khoản thu khác  \n",
              "count         1960.000000  \n",
              "mean           217.555612  \n",
              "std            159.088823  \n",
              "min             38.000000  \n",
              "25%            107.000000  \n",
              "50%            163.000000  \n",
              "75%            287.000000  \n",
              "max            968.000000  "
            ],
            "text/html": [
              "\n",
              "  <div id=\"df-74e98c0a-9345-4ccf-a191-64c12bb7c332\" class=\"colab-df-container\">\n",
              "    <div>\n",
              "<style scoped>\n",
              "    .dataframe tbody tr th:only-of-type {\n",
              "        vertical-align: middle;\n",
              "    }\n",
              "\n",
              "    .dataframe tbody tr th {\n",
              "        vertical-align: top;\n",
              "    }\n",
              "\n",
              "    .dataframe thead th {\n",
              "        text-align: right;\n",
              "    }\n",
              "</style>\n",
              "<table border=\"1\" class=\"dataframe\">\n",
              "  <thead>\n",
              "    <tr style=\"text-align: right;\">\n",
              "      <th></th>\n",
              "      <th>Diện tích</th>\n",
              "      <th>Mật độ dân số</th>\n",
              "      <th>Năm</th>\n",
              "      <th>Dân số trung bình</th>\n",
              "      <th>Nam</th>\n",
              "      <th>Nữ</th>\n",
              "      <th>Thành Thị</th>\n",
              "      <th>Nông Thôn</th>\n",
              "      <th>Doanh thu trung bình</th>\n",
              "      <th>Thu từ tiền lương, tiền công</th>\n",
              "      <th>Thu từ nông, lâm nghiệp, thủy sản</th>\n",
              "      <th>Thu phi nông, lâm nghiệp, thủy sản</th>\n",
              "      <th>Các khoản thu khác</th>\n",
              "    </tr>\n",
              "  </thead>\n",
              "  <tbody>\n",
              "    <tr>\n",
              "      <th>count</th>\n",
              "      <td>1960.000000</td>\n",
              "      <td>1960.000000</td>\n",
              "      <td>1960.000000</td>\n",
              "      <td>1960.000000</td>\n",
              "      <td>1960.000000</td>\n",
              "      <td>1960.000000</td>\n",
              "      <td>1960.000000</td>\n",
              "      <td>1960.000000</td>\n",
              "      <td>1960.000000</td>\n",
              "      <td>1960.000000</td>\n",
              "      <td>1960.000000</td>\n",
              "      <td>1960.000000</td>\n",
              "      <td>1960.000000</td>\n",
              "    </tr>\n",
              "    <tr>\n",
              "      <th>mean</th>\n",
              "      <td>14186.758526</td>\n",
              "      <td>446.545665</td>\n",
              "      <td>2008.500000</td>\n",
              "      <td>3669.075668</td>\n",
              "      <td>1813.426020</td>\n",
              "      <td>1855.649684</td>\n",
              "      <td>1093.002755</td>\n",
              "      <td>2576.072990</td>\n",
              "      <td>1976.061224</td>\n",
              "      <td>893.721939</td>\n",
              "      <td>412.252551</td>\n",
              "      <td>452.576020</td>\n",
              "      <td>217.555612</td>\n",
              "    </tr>\n",
              "    <tr>\n",
              "      <th>std</th>\n",
              "      <td>41753.300493</td>\n",
              "      <td>523.873623</td>\n",
              "      <td>8.079809</td>\n",
              "      <td>10749.420751</td>\n",
              "      <td>5313.387984</td>\n",
              "      <td>5436.267798</td>\n",
              "      <td>3409.466493</td>\n",
              "      <td>7531.932749</td>\n",
              "      <td>1235.717138</td>\n",
              "      <td>739.499404</td>\n",
              "      <td>222.730705</td>\n",
              "      <td>342.454971</td>\n",
              "      <td>159.088823</td>\n",
              "    </tr>\n",
              "    <tr>\n",
              "      <th>min</th>\n",
              "      <td>822.700000</td>\n",
              "      <td>28.845360</td>\n",
              "      <td>1995.000000</td>\n",
              "      <td>254.200000</td>\n",
              "      <td>126.900000</td>\n",
              "      <td>127.300000</td>\n",
              "      <td>23.500000</td>\n",
              "      <td>117.500000</td>\n",
              "      <td>567.000000</td>\n",
              "      <td>193.000000</td>\n",
              "      <td>21.000000</td>\n",
              "      <td>52.000000</td>\n",
              "      <td>38.000000</td>\n",
              "    </tr>\n",
              "    <tr>\n",
              "      <th>25%</th>\n",
              "      <td>2468.700000</td>\n",
              "      <td>127.232880</td>\n",
              "      <td>2001.750000</td>\n",
              "      <td>830.200000</td>\n",
              "      <td>412.225000</td>\n",
              "      <td>416.800000</td>\n",
              "      <td>138.110000</td>\n",
              "      <td>617.417500</td>\n",
              "      <td>1089.000000</td>\n",
              "      <td>382.000000</td>\n",
              "      <td>264.000000</td>\n",
              "      <td>229.000000</td>\n",
              "      <td>107.000000</td>\n",
              "    </tr>\n",
              "    <tr>\n",
              "      <th>50%</th>\n",
              "      <td>5099.150000</td>\n",
              "      <td>248.975310</td>\n",
              "      <td>2008.500000</td>\n",
              "      <td>1192.025000</td>\n",
              "      <td>589.700000</td>\n",
              "      <td>595.810000</td>\n",
              "      <td>239.200000</td>\n",
              "      <td>868.150000</td>\n",
              "      <td>1526.000000</td>\n",
              "      <td>590.000000</td>\n",
              "      <td>357.000000</td>\n",
              "      <td>328.000000</td>\n",
              "      <td>163.000000</td>\n",
              "    </tr>\n",
              "    <tr>\n",
              "      <th>75%</th>\n",
              "      <td>8320.800000</td>\n",
              "      <td>572.990000</td>\n",
              "      <td>2015.250000</td>\n",
              "      <td>1762.325000</td>\n",
              "      <td>865.447500</td>\n",
              "      <td>893.055000</td>\n",
              "      <td>476.825000</td>\n",
              "      <td>1370.600000</td>\n",
              "      <td>2698.000000</td>\n",
              "      <td>1165.000000</td>\n",
              "      <td>508.000000</td>\n",
              "      <td>614.000000</td>\n",
              "      <td>287.000000</td>\n",
              "    </tr>\n",
              "    <tr>\n",
              "      <th>max</th>\n",
              "      <td>331345.700000</td>\n",
              "      <td>4481.000000</td>\n",
              "      <td>2022.000000</td>\n",
              "      <td>99474.420000</td>\n",
              "      <td>49590.240000</td>\n",
              "      <td>49884.170000</td>\n",
              "      <td>37350.500000</td>\n",
              "      <td>62748.300000</td>\n",
              "      <td>8076.000000</td>\n",
              "      <td>4985.000000</td>\n",
              "      <td>1549.000000</td>\n",
              "      <td>2591.000000</td>\n",
              "      <td>968.000000</td>\n",
              "    </tr>\n",
              "  </tbody>\n",
              "</table>\n",
              "</div>\n",
              "    <div class=\"colab-df-buttons\">\n",
              "\n",
              "  <div class=\"colab-df-container\">\n",
              "    <button class=\"colab-df-convert\" onclick=\"convertToInteractive('df-74e98c0a-9345-4ccf-a191-64c12bb7c332')\"\n",
              "            title=\"Convert this dataframe to an interactive table.\"\n",
              "            style=\"display:none;\">\n",
              "\n",
              "  <svg xmlns=\"http://www.w3.org/2000/svg\" height=\"24px\" viewBox=\"0 -960 960 960\">\n",
              "    <path d=\"M120-120v-720h720v720H120Zm60-500h600v-160H180v160Zm220 220h160v-160H400v160Zm0 220h160v-160H400v160ZM180-400h160v-160H180v160Zm440 0h160v-160H620v160ZM180-180h160v-160H180v160Zm440 0h160v-160H620v160Z\"/>\n",
              "  </svg>\n",
              "    </button>\n",
              "\n",
              "  <style>\n",
              "    .colab-df-container {\n",
              "      display:flex;\n",
              "      gap: 12px;\n",
              "    }\n",
              "\n",
              "    .colab-df-convert {\n",
              "      background-color: #E8F0FE;\n",
              "      border: none;\n",
              "      border-radius: 50%;\n",
              "      cursor: pointer;\n",
              "      display: none;\n",
              "      fill: #1967D2;\n",
              "      height: 32px;\n",
              "      padding: 0 0 0 0;\n",
              "      width: 32px;\n",
              "    }\n",
              "\n",
              "    .colab-df-convert:hover {\n",
              "      background-color: #E2EBFA;\n",
              "      box-shadow: 0px 1px 2px rgba(60, 64, 67, 0.3), 0px 1px 3px 1px rgba(60, 64, 67, 0.15);\n",
              "      fill: #174EA6;\n",
              "    }\n",
              "\n",
              "    .colab-df-buttons div {\n",
              "      margin-bottom: 4px;\n",
              "    }\n",
              "\n",
              "    [theme=dark] .colab-df-convert {\n",
              "      background-color: #3B4455;\n",
              "      fill: #D2E3FC;\n",
              "    }\n",
              "\n",
              "    [theme=dark] .colab-df-convert:hover {\n",
              "      background-color: #434B5C;\n",
              "      box-shadow: 0px 1px 3px 1px rgba(0, 0, 0, 0.15);\n",
              "      filter: drop-shadow(0px 1px 2px rgba(0, 0, 0, 0.3));\n",
              "      fill: #FFFFFF;\n",
              "    }\n",
              "  </style>\n",
              "\n",
              "    <script>\n",
              "      const buttonEl =\n",
              "        document.querySelector('#df-74e98c0a-9345-4ccf-a191-64c12bb7c332 button.colab-df-convert');\n",
              "      buttonEl.style.display =\n",
              "        google.colab.kernel.accessAllowed ? 'block' : 'none';\n",
              "\n",
              "      async function convertToInteractive(key) {\n",
              "        const element = document.querySelector('#df-74e98c0a-9345-4ccf-a191-64c12bb7c332');\n",
              "        const dataTable =\n",
              "          await google.colab.kernel.invokeFunction('convertToInteractive',\n",
              "                                                    [key], {});\n",
              "        if (!dataTable) return;\n",
              "\n",
              "        const docLinkHtml = 'Like what you see? Visit the ' +\n",
              "          '<a target=\"_blank\" href=https://colab.research.google.com/notebooks/data_table.ipynb>data table notebook</a>'\n",
              "          + ' to learn more about interactive tables.';\n",
              "        element.innerHTML = '';\n",
              "        dataTable['output_type'] = 'display_data';\n",
              "        await google.colab.output.renderOutput(dataTable, element);\n",
              "        const docLink = document.createElement('div');\n",
              "        docLink.innerHTML = docLinkHtml;\n",
              "        element.appendChild(docLink);\n",
              "      }\n",
              "    </script>\n",
              "  </div>\n",
              "\n",
              "\n",
              "<div id=\"df-971a0baf-bb0e-4262-b910-e812d6a5cc02\">\n",
              "  <button class=\"colab-df-quickchart\" onclick=\"quickchart('df-971a0baf-bb0e-4262-b910-e812d6a5cc02')\"\n",
              "            title=\"Suggest charts\"\n",
              "            style=\"display:none;\">\n",
              "\n",
              "<svg xmlns=\"http://www.w3.org/2000/svg\" height=\"24px\"viewBox=\"0 0 24 24\"\n",
              "     width=\"24px\">\n",
              "    <g>\n",
              "        <path d=\"M19 3H5c-1.1 0-2 .9-2 2v14c0 1.1.9 2 2 2h14c1.1 0 2-.9 2-2V5c0-1.1-.9-2-2-2zM9 17H7v-7h2v7zm4 0h-2V7h2v10zm4 0h-2v-4h2v4z\"/>\n",
              "    </g>\n",
              "</svg>\n",
              "  </button>\n",
              "\n",
              "<style>\n",
              "  .colab-df-quickchart {\n",
              "      --bg-color: #E8F0FE;\n",
              "      --fill-color: #1967D2;\n",
              "      --hover-bg-color: #E2EBFA;\n",
              "      --hover-fill-color: #174EA6;\n",
              "      --disabled-fill-color: #AAA;\n",
              "      --disabled-bg-color: #DDD;\n",
              "  }\n",
              "\n",
              "  [theme=dark] .colab-df-quickchart {\n",
              "      --bg-color: #3B4455;\n",
              "      --fill-color: #D2E3FC;\n",
              "      --hover-bg-color: #434B5C;\n",
              "      --hover-fill-color: #FFFFFF;\n",
              "      --disabled-bg-color: #3B4455;\n",
              "      --disabled-fill-color: #666;\n",
              "  }\n",
              "\n",
              "  .colab-df-quickchart {\n",
              "    background-color: var(--bg-color);\n",
              "    border: none;\n",
              "    border-radius: 50%;\n",
              "    cursor: pointer;\n",
              "    display: none;\n",
              "    fill: var(--fill-color);\n",
              "    height: 32px;\n",
              "    padding: 0;\n",
              "    width: 32px;\n",
              "  }\n",
              "\n",
              "  .colab-df-quickchart:hover {\n",
              "    background-color: var(--hover-bg-color);\n",
              "    box-shadow: 0 1px 2px rgba(60, 64, 67, 0.3), 0 1px 3px 1px rgba(60, 64, 67, 0.15);\n",
              "    fill: var(--button-hover-fill-color);\n",
              "  }\n",
              "\n",
              "  .colab-df-quickchart-complete:disabled,\n",
              "  .colab-df-quickchart-complete:disabled:hover {\n",
              "    background-color: var(--disabled-bg-color);\n",
              "    fill: var(--disabled-fill-color);\n",
              "    box-shadow: none;\n",
              "  }\n",
              "\n",
              "  .colab-df-spinner {\n",
              "    border: 2px solid var(--fill-color);\n",
              "    border-color: transparent;\n",
              "    border-bottom-color: var(--fill-color);\n",
              "    animation:\n",
              "      spin 1s steps(1) infinite;\n",
              "  }\n",
              "\n",
              "  @keyframes spin {\n",
              "    0% {\n",
              "      border-color: transparent;\n",
              "      border-bottom-color: var(--fill-color);\n",
              "      border-left-color: var(--fill-color);\n",
              "    }\n",
              "    20% {\n",
              "      border-color: transparent;\n",
              "      border-left-color: var(--fill-color);\n",
              "      border-top-color: var(--fill-color);\n",
              "    }\n",
              "    30% {\n",
              "      border-color: transparent;\n",
              "      border-left-color: var(--fill-color);\n",
              "      border-top-color: var(--fill-color);\n",
              "      border-right-color: var(--fill-color);\n",
              "    }\n",
              "    40% {\n",
              "      border-color: transparent;\n",
              "      border-right-color: var(--fill-color);\n",
              "      border-top-color: var(--fill-color);\n",
              "    }\n",
              "    60% {\n",
              "      border-color: transparent;\n",
              "      border-right-color: var(--fill-color);\n",
              "    }\n",
              "    80% {\n",
              "      border-color: transparent;\n",
              "      border-right-color: var(--fill-color);\n",
              "      border-bottom-color: var(--fill-color);\n",
              "    }\n",
              "    90% {\n",
              "      border-color: transparent;\n",
              "      border-bottom-color: var(--fill-color);\n",
              "    }\n",
              "  }\n",
              "</style>\n",
              "\n",
              "  <script>\n",
              "    async function quickchart(key) {\n",
              "      const quickchartButtonEl =\n",
              "        document.querySelector('#' + key + ' button');\n",
              "      quickchartButtonEl.disabled = true;  // To prevent multiple clicks.\n",
              "      quickchartButtonEl.classList.add('colab-df-spinner');\n",
              "      try {\n",
              "        const charts = await google.colab.kernel.invokeFunction(\n",
              "            'suggestCharts', [key], {});\n",
              "      } catch (error) {\n",
              "        console.error('Error during call to suggestCharts:', error);\n",
              "      }\n",
              "      quickchartButtonEl.classList.remove('colab-df-spinner');\n",
              "      quickchartButtonEl.classList.add('colab-df-quickchart-complete');\n",
              "    }\n",
              "    (() => {\n",
              "      let quickchartButtonEl =\n",
              "        document.querySelector('#df-971a0baf-bb0e-4262-b910-e812d6a5cc02 button');\n",
              "      quickchartButtonEl.style.display =\n",
              "        google.colab.kernel.accessAllowed ? 'block' : 'none';\n",
              "    })();\n",
              "  </script>\n",
              "</div>\n",
              "\n",
              "    </div>\n",
              "  </div>\n"
            ],
            "application/vnd.google.colaboratory.intrinsic+json": {
              "type": "dataframe",
              "summary": "{\n  \"name\": \"raw_data[raw_data_num_list]\",\n  \"rows\": 8,\n  \"fields\": [\n    {\n      \"column\": \"Di\\u1ec7n t\\u00edch\",\n      \"properties\": {\n        \"dtype\": \"number\",\n        \"std\": 114167.9704214123,\n        \"min\": 822.7,\n        \"max\": 331345.7,\n        \"num_unique_values\": 8,\n        \"samples\": [\n          14186.758525510206,\n          5099.15,\n          1960.0\n        ],\n        \"semantic_type\": \"\",\n        \"description\": \"\"\n      }\n    },\n    {\n      \"column\": \"M\\u1eadt \\u0111\\u1ed9 d\\u00e2n s\\u1ed1\",\n      \"properties\": {\n        \"dtype\": \"number\",\n        \"std\": 1512.0585906440608,\n        \"min\": 28.84535997357992,\n        \"max\": 4481.0,\n        \"num_unique_values\": 8,\n        \"samples\": [\n          446.5456648065633,\n          248.97531043251465,\n          1960.0\n        ],\n        \"semantic_type\": \"\",\n        \"description\": \"\"\n      }\n    },\n    {\n      \"column\": \"N\\u0103m\",\n      \"properties\": {\n        \"dtype\": \"number\",\n        \"std\": 705.0561855167313,\n        \"min\": 8.079808649349761,\n        \"max\": 2022.0,\n        \"num_unique_values\": 7,\n        \"samples\": [\n          1960.0,\n          2008.5,\n          2015.25\n        ],\n        \"semantic_type\": \"\",\n        \"description\": \"\"\n      }\n    },\n    {\n      \"column\": \"D\\u00e2n s\\u1ed1 trung b\\u00ecnh\",\n      \"properties\": {\n        \"dtype\": \"number\",\n        \"std\": 34302.31791452918,\n        \"min\": 254.2,\n        \"max\": 99474.42,\n        \"num_unique_values\": 8,\n        \"samples\": [\n          3669.075668367346,\n          1192.025,\n          1960.0\n        ],\n        \"semantic_type\": \"\",\n        \"description\": \"\"\n      }\n    },\n    {\n      \"column\": \"Nam\",\n      \"properties\": {\n        \"dtype\": \"number\",\n        \"std\": 17053.322487798734,\n        \"min\": 126.9,\n        \"max\": 49590.24,\n        \"num_unique_values\": 8,\n        \"samples\": [\n          1813.4260204081634,\n          589.7,\n          1960.0\n        ],\n        \"semantic_type\": \"\",\n        \"description\": \"\"\n      }\n    },\n    {\n      \"column\": \"N\\u1eef\",\n      \"properties\": {\n        \"dtype\": \"number\",\n        \"std\": 17150.19492409754,\n        \"min\": 127.3,\n        \"max\": 49884.17,\n        \"num_unique_values\": 8,\n        \"samples\": [\n          1855.6496836734693,\n          595.81,\n          1960.0\n        ],\n        \"semantic_type\": \"\",\n        \"description\": \"\"\n      }\n    },\n    {\n      \"column\": \"Th\\u00e0nh Th\\u1ecb\",\n      \"properties\": {\n        \"dtype\": \"number\",\n        \"std\": 12886.141553048034,\n        \"min\": 23.5,\n        \"max\": 37350.5,\n        \"num_unique_values\": 8,\n        \"samples\": [\n          1093.002755102041,\n          239.2,\n          1960.0\n        ],\n        \"semantic_type\": \"\",\n        \"description\": \"\"\n      }\n    },\n    {\n      \"column\": \"N\\u00f4ng Th\\u00f4n\",\n      \"properties\": {\n        \"dtype\": \"number\",\n        \"std\": 21551.18214594913,\n        \"min\": 117.5,\n        \"max\": 62748.3,\n        \"num_unique_values\": 8,\n        \"samples\": [\n          2576.0729897959186,\n          868.1500000000001,\n          1960.0\n        ],\n        \"semantic_type\": \"\",\n        \"description\": \"\"\n      }\n    },\n    {\n      \"column\": \"Doanh thu trung b\\u00ecnh\",\n      \"properties\": {\n        \"dtype\": \"number\",\n        \"std\": 2386.7638782020404,\n        \"min\": 567.0,\n        \"max\": 8076.0,\n        \"num_unique_values\": 8,\n        \"samples\": [\n          1976.061224489796,\n          1526.0,\n          1960.0\n        ],\n        \"semantic_type\": \"\",\n        \"description\": \"\"\n      }\n    },\n    {\n      \"column\": \"Thu t\\u1eeb ti\\u1ec1n l\\u01b0\\u01a1ng, ti\\u1ec1n c\\u00f4ng\",\n      \"properties\": {\n        \"dtype\": \"number\",\n        \"std\": 1560.7809246959166,\n        \"min\": 193.0,\n        \"max\": 4985.0,\n        \"num_unique_values\": 8,\n        \"samples\": [\n          893.7219387755102,\n          590.0,\n          1960.0\n        ],\n        \"semantic_type\": \"\",\n        \"description\": \"\"\n      }\n    },\n    {\n      \"column\": \"Thu t\\u1eeb n\\u00f4ng, l\\u00e2m nghi\\u1ec7p, th\\u1ee7y s\\u1ea3n\",\n      \"properties\": {\n        \"dtype\": \"number\",\n        \"std\": 698.2559696091429,\n        \"min\": 21.0,\n        \"max\": 1960.0,\n        \"num_unique_values\": 8,\n        \"samples\": [\n          412.2525510204082,\n          357.0,\n          1960.0\n        ],\n        \"semantic_type\": \"\",\n        \"description\": \"\"\n      }\n    },\n    {\n      \"column\": \"Thu phi n\\u00f4ng, l\\u00e2m nghi\\u1ec7p, th\\u1ee7y s\\u1ea3n\",\n      \"properties\": {\n        \"dtype\": \"number\",\n        \"std\": 927.5686682798703,\n        \"min\": 52.0,\n        \"max\": 2591.0,\n        \"num_unique_values\": 8,\n        \"samples\": [\n          452.5760204081633,\n          328.0,\n          1960.0\n        ],\n        \"semantic_type\": \"\",\n        \"description\": \"\"\n      }\n    },\n    {\n      \"column\": \"C\\u00e1c kho\\u1ea3n thu kh\\u00e1c\",\n      \"properties\": {\n        \"dtype\": \"number\",\n        \"std\": 662.4835693617337,\n        \"min\": 38.0,\n        \"max\": 1960.0,\n        \"num_unique_values\": 8,\n        \"samples\": [\n          217.55561224489796,\n          163.0,\n          1960.0\n        ],\n        \"semantic_type\": \"\",\n        \"description\": \"\"\n      }\n    }\n  ]\n}"
            }
          },
          "metadata": {},
          "execution_count": 23
        }
      ],
      "source": [
        "raw_data[raw_data_num_list].describe()"
      ]
    },
    {
      "cell_type": "markdown",
      "metadata": {
        "id": "AO9hdahavuJw"
      },
      "source": [
        "#### **Vẽ histogram miêu tả phân phối**"
      ]
    },
    {
      "cell_type": "code",
      "execution_count": 49,
      "metadata": {
        "id": "0AOp5izeHCQ0",
        "colab": {
          "base_uri": "https://localhost:8080/",
          "height": 1000
        },
        "outputId": "fde23090-55f6-410c-de6a-adab480c9b22"
      },
      "outputs": [
        {
          "output_type": "display_data",
          "data": {
            "text/plain": [
              "<Figure size 2000x1000 with 3 Axes>"
            ],
            "image/png": "[encoded data removed]"
          },
          "metadata": {}
        },
        {
          "output_type": "display_data",
          "data": {
            "text/plain": [
              "<Figure size 2000x1000 with 3 Axes>"
            ],
            "image/png": "[encoded data removed]"
          },
          "metadata": {}
        },
        {
          "output_type": "display_data",
          "data": {
            "text/plain": [
              "<Figure size 2000x1000 with 3 Axes>"
            ],
            "image/png": "[encoded data removed]"
          },
          "metadata": {}
        },
        {
          "output_type": "display_data",
          "data": {
            "text/plain": [
              "<Figure size 2000x1000 with 3 Axes>"
            ],
            "image/png": "[encoded data removed]"
          },
          "metadata": {}
        },
        {
          "output_type": "display_data",
          "data": {
            "text/plain": [
              "<Figure size 2000x1000 with 3 Axes>"
            ],
            "image/png": "[encoded data removed]"
          },
          "metadata": {}
        }
      ],
      "source": [
        "num_cols = 3\n",
        "num_rows = 1\n",
        "total_cols = len(raw_data_num_list)\n",
        "\n",
        "num_plots = total_cols // num_cols\n",
        "if total_cols % num_cols != 0:\n",
        "    num_plots += 1\n",
        "\n",
        "# Vẽ từng lần\n",
        "for plot_num in range(num_plots):\n",
        "    start_index = plot_num * num_cols\n",
        "    end_index = min((plot_num + 1) * num_cols, total_cols)\n",
        "    num_cols_in_plot = end_index - start_index\n",
        "\n",
        "    fig, axes = plt.subplots(num_rows, num_cols, figsize=(20, 10))\n",
        "    fig.tight_layout(pad=5.0)\n",
        "\n",
        "    for i, col in enumerate(raw_data_num_list[start_index:end_index]):\n",
        "        row_index = i // num_cols  # Số hàng trên mỗi subplot\n",
        "        col_index = i % num_cols    # Số cột trên mỗi subplot\n",
        "        ax = axes[row_index, col_index] if num_rows > 1 else axes[col_index]\n",
        "\n",
        "        sns.histplot(raw_data[col], bins=28, color='skyblue', edgecolor='black', linewidth=1.2, ax=ax)\n",
        "        ax.set_title(f'Phân phối của {col}')\n",
        "        ax.set_xlabel(col)\n",
        "        ax.set_ylabel('Mật độ xác suất')\n",
        "\n",
        "    plt.show()\n"
      ]
    },
    {
      "cell_type": "markdown",
      "metadata": {
        "id": "bHrSd0KYZUNJ"
      },
      "source": [
        "## **Nhận xét về phân phối và mô tả của các biến định lượng**\n",
        "Đầu tiên thì bộ Data này thống kê số liệu theo `Tỉnh` qua các `Năm`.\n",
        "-  Qua histogram theo biến `Năm` thì ta thấy số lượng dữ liệu thu thập được không có gì thay đổi sau 27 năm kể từ năm 1995. Điều này khá dễ hiểu vì Nước ta không có gì thay đổi về việc phân chia các khu vực.\n",
        "- Hầu hết các phân bố sẽ có xu hướng lệch trái khá nhiều điểu này có thể giải thích: sẽ có số ít khu vực có sự tập trung dân số, kinh tế (vì vị trí địa lí, mức độ phát triển, nhu cầu việc làm,..), nên các khoảng giá trị càng lớn thì tần xuất của nó càng giảm.\n",
        "- Phân phối của `Nam` và `Nữ` khá tương tự nhau cho thấy không có sự chênh lệch về tỉ lệ giới tính. Từ đó phân phối của  `Dân số trung bình ` có thể gần như là gấp đôi `Nam` vì được thống kê trên 2 cột `Nam` và `Nữ`.\n",
        "- `Doanh thu trung bình` được tổng hợp từ `Thu từ tiền lương, tiền công`, `Thu từ nông, lâm nghiệp, thủy sản`, `Thu phi nông, lâm nghiệp, thủy sản`, `Các khoản thu khác` nên sẽ có phân phối là kết hợp của 4 phân phối trên."
      ]
    },
    {
      "cell_type": "markdown",
      "metadata": {
        "id": "Sf4DwuONuKQi"
      },
      "source": [
        "#### **Kết luân**\n",
        "- Nhìn chung, hầu hết các phân phối đều có phần bị lệch trái do dữ liệu chỉ tập trung vào một số giá trị nhất định.\n",
        "- Đối với các cột quan trọng, dữ liệu phân phối có phần tuân theo phân phối chuẩn hơn"
      ]
    },
    {
      "cell_type": "markdown",
      "metadata": {
        "id": "OB3GaEbZHCQ0"
      },
      "source": [
        "## **THỐNG KÊ MÔ TẢ CHO CÁC BIẾN ĐỊNH TÍNH**"
      ]
    },
    {
      "cell_type": "markdown",
      "metadata": {
        "id": "goiId6BVHCQ0"
      },
      "source": [
        "**Danh sách các cột categorical**"
      ]
    },
    {
      "cell_type": "code",
      "source": [
        "def print_categorical_distribution(df, column):\n",
        "    unique_count = len(df[column].unique())\n",
        "    print(\"Số lượng giá trị riêng biệt:\", unique_count)\n",
        "\n",
        "    value_counts_percentage = df[column].value_counts(normalize=True) * 100\n",
        "    print(\"Phân phối của giá trị (theo %):\")\n",
        "    print(value_counts_percentage)\n"
      ],
      "metadata": {
        "id": "mRHO6wJbgBi3"
      },
      "execution_count": 55,
      "outputs": []
    },
    {
      "cell_type": "code",
      "execution_count": 56,
      "metadata": {
        "id": "idnlDW84HCQ0",
        "colab": {
          "base_uri": "https://localhost:8080/"
        },
        "outputId": "e29e7ba8-1569-4c6b-9d15-fad8a926cc70"
      },
      "outputs": [
        {
          "output_type": "execute_result",
          "data": {
            "text/plain": [
              "['Tỉnh']"
            ]
          },
          "metadata": {},
          "execution_count": 56
        }
      ],
      "source": [
        "raw_data_cate_list"
      ]
    },
    {
      "cell_type": "code",
      "source": [
        "print_categorical_distribution(raw_data, 'Tỉnh')"
      ],
      "metadata": {
        "colab": {
          "base_uri": "https://localhost:8080/"
        },
        "id": "9tTUQbYffduD",
        "outputId": "01e42ff7-e9da-4abf-9a0a-90470bc6d970"
      },
      "execution_count": 57,
      "outputs": [
        {
          "output_type": "stream",
          "name": "stdout",
          "text": [
            "Số lượng giá trị riêng biệt: 70\n",
            "Phân phối của giá trị (theo %):\n",
            "Tỉnh\n",
            "CẢ NƯỚC        1.428571\n",
            "Kon Tum        1.428571\n",
            "Bình Phước     1.428571\n",
            "Ðông Nam Bộ    1.428571\n",
            "Lâm Ðồng       1.428571\n",
            "                 ...   \n",
            "Thanh Hoá      1.428571\n",
            "Nghệ An        1.428571\n",
            "Hà Tĩnh        1.428571\n",
            "Quảng Bình     1.428571\n",
            "Cà Mau         1.428571\n",
            "Name: proportion, Length: 70, dtype: float64\n"
          ]
        }
      ]
    },
    {
      "cell_type": "markdown",
      "source": [
        "Như đã nói ở trên bộ Data này thống kê số liệu theo `Tỉnh` qua các `Năm`. Và các khu vực nước ta không có sự thay đổi trong thời gian thống kê nên tỉ lệ các giá trị biết Cate `Tỉnh` là đồng đều."
      ],
      "metadata": {
        "id": "B59lgSdGgJlw"
      }
    }
  ],
  "metadata": {
    "colab": {
      "provenance": [],
      "collapsed_sections": [
        "10XPQdDFHCQq",
        "nQ5P-8HVHCQs",
        "Xg1QWGk-HCQt",
        "hTaeNy3UHCQt",
        "YbItj-JYHCQu",
        "TXxMrt8WHCQu",
        "8XLEMyS3HCQw",
        "R6pl6L5wHCQz",
        "ae5mPP2vHCQz",
        "TvMYIUvEHCQz",
        "AO9hdahavuJw",
        "bHrSd0KYZUNJ",
        "oRb2sqIwaZ2X",
        "jvczdcSyfqij",
        "OB3GaEbZHCQ0"
      ]
    },
    "kernelspec": {
      "display_name": "Python 3",
      "name": "python3"
    },
    "language_info": {
      "codemirror_mode": {
        "name": "ipython",
        "version": 3
      },
      "file_extension": ".py",
      "mimetype": "text/x-python",
      "name": "python",
      "nbconvert_exporter": "python",
      "pygments_lexer": "ipython3",
      "version": "3.11.9"
    }
  },
  "nbformat": 4,
  "nbformat_minor": 0
}